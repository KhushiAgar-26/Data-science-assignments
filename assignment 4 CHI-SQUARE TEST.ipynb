{
 "cells": [
  {
   "cell_type": "markdown",
   "id": "0e98763f-be06-43d0-8f4f-aefb6ee952e0",
   "metadata": {},
   "source": [
    "# CHI-SQUARE TEST"
   ]
  },
  {
   "cell_type": "markdown",
   "id": "26c46519-0a9b-4c3b-80a0-42eac6ff6a9c",
   "metadata": {},
   "source": [
    "## Data"
   ]
  },
  {
   "cell_type": "code",
   "execution_count": 18,
   "id": "81fa59fa-da79-476a-857d-84f303cc2332",
   "metadata": {},
   "outputs": [],
   "source": [
    "import pandas as pd\n",
    "import numpy as np\n",
    "\n",
    "import scipy.stats as stats\n",
    "from scipy.stats import chi2\n",
    "from scipy.stats import chi2_contingency\n"
   ]
  },
  {
   "cell_type": "code",
   "execution_count": 10,
   "id": "ded66f82-50d9-4afd-9560-7e56d42e93de",
   "metadata": {},
   "outputs": [
    {
     "data": {
      "text/html": [
       "<div>\n",
       "<style scoped>\n",
       "    .dataframe tbody tr th:only-of-type {\n",
       "        vertical-align: middle;\n",
       "    }\n",
       "\n",
       "    .dataframe tbody tr th {\n",
       "        vertical-align: top;\n",
       "    }\n",
       "\n",
       "    .dataframe thead th {\n",
       "        text-align: right;\n",
       "    }\n",
       "</style>\n",
       "<table border=\"1\" class=\"dataframe\">\n",
       "  <thead>\n",
       "    <tr style=\"text-align: right;\">\n",
       "      <th></th>\n",
       "      <th>Smart Thermostat</th>\n",
       "      <th>Smart Ligh</th>\n",
       "      <th>Total</th>\n",
       "    </tr>\n",
       "    <tr>\n",
       "      <th>Satisfaction</th>\n",
       "      <th></th>\n",
       "      <th></th>\n",
       "      <th></th>\n",
       "    </tr>\n",
       "  </thead>\n",
       "  <tbody>\n",
       "    <tr>\n",
       "      <th>Very Satisfied</th>\n",
       "      <td>50</td>\n",
       "      <td>70</td>\n",
       "      <td>120</td>\n",
       "    </tr>\n",
       "    <tr>\n",
       "      <th>Satisfied</th>\n",
       "      <td>80</td>\n",
       "      <td>100</td>\n",
       "      <td>180</td>\n",
       "    </tr>\n",
       "    <tr>\n",
       "      <th>Neutral</th>\n",
       "      <td>60</td>\n",
       "      <td>90</td>\n",
       "      <td>150</td>\n",
       "    </tr>\n",
       "    <tr>\n",
       "      <th>Unsatisfied</th>\n",
       "      <td>30</td>\n",
       "      <td>50</td>\n",
       "      <td>80</td>\n",
       "    </tr>\n",
       "    <tr>\n",
       "      <th>Very Unsatisfied</th>\n",
       "      <td>20</td>\n",
       "      <td>50</td>\n",
       "      <td>70</td>\n",
       "    </tr>\n",
       "    <tr>\n",
       "      <th>Total</th>\n",
       "      <td>240</td>\n",
       "      <td>360</td>\n",
       "      <td>600</td>\n",
       "    </tr>\n",
       "  </tbody>\n",
       "</table>\n",
       "</div>"
      ],
      "text/plain": [
       "                  Smart Thermostat  Smart Ligh  Total\n",
       "Satisfaction                                         \n",
       "Very Satisfied                  50          70    120\n",
       "Satisfied                       80         100    180\n",
       "Neutral                         60          90    150\n",
       "Unsatisfied                     30          50     80\n",
       "Very Unsatisfied                20          50     70\n",
       "Total                          240         360    600"
      ]
     },
     "execution_count": 10,
     "metadata": {},
     "output_type": "execute_result"
    }
   ],
   "source": [
    "df=pd.DataFrame(data=[['Very Satisfied',50\t,70,120],['Satisfied',80\t,100,\t180],['Neutral',60,\t90\t,150],['Unsatisfied',30\t,50,80],['Very Unsatisfied',20\t,50\t,70],['Total',240,360,600]],\n",
    "             columns=['Satisfaction','Smart Thermostat','Smart Ligh','Total'])\n",
    "df.set_index('Satisfaction', inplace=True)\n",
    "df"
   ]
  },
  {
   "cell_type": "markdown",
   "id": "bb33541c-7b59-417d-af26-ef353d4c415a",
   "metadata": {},
   "source": [
    "## Objective:\r\n",
    "To use the Chi-Square test for independence to determine if there's a significant association between the type of smart home device purchased (Smart Thermostats vs. Smart Lights) and the customer satisfaction level.\n",
    ":\r\n"
   ]
  },
  {
   "cell_type": "markdown",
   "id": "c285c431-4853-4d2c-89e1-9d4a7f5140b0",
   "metadata": {},
   "source": [
    "## Assignment Tasks:"
   ]
  },
  {
   "cell_type": "markdown",
   "id": "ef1bc258-b051-463a-b13a-96bf9f298fa5",
   "metadata": {},
   "source": [
    "## 1. State the Hypotheses:"
   ]
  },
  {
   "cell_type": "markdown",
   "id": "5561fb79-59e2-42ae-9851-08d12abd43bd",
   "metadata": {},
   "source": [
    "#### Null Hypothesis (H0): There is no association between the type of smart home device purchased and the customer satisfaction level.\n",
    "#### Alternative Hypothesis (H1): There is an association between the type of smart home device purchased and the customer satisfaction level.\n"
   ]
  },
  {
   "cell_type": "code",
   "execution_count": 15,
   "id": "57a7de1b-478c-4f59-9a47-9e8dc85410ef",
   "metadata": {},
   "outputs": [],
   "source": [
    "H0 = \"There is no significant association between the type of smart home device purchased and the customer satisfaction level.\"\n",
    "H1 = \"There is a significant association between the type of smart home device purchased and the customer satisfaction level.\"\n"
   ]
  },
  {
   "cell_type": "markdown",
   "id": "4b8ba42b-a3f7-4930-a2b4-7483d58093a2",
   "metadata": {},
   "source": [
    "## 2. Compute the Chi-Square Statistic:\n"
   ]
  },
  {
   "cell_type": "code",
   "execution_count": 26,
   "id": "0a37c598-48f3-4e3d-aae9-699fe67c89a8",
   "metadata": {},
   "outputs": [],
   "source": [
    "\n",
    "# Contingency table data\n",
    "data = np.array([\n",
    "    [50, 70],\n",
    "    [80, 100],\n",
    "    [60, 90],\n",
    "    [30, 50],\n",
    "    [20, 50]\n",
    "])\n",
    "\n",
    "# Chi-Square test\n",
    "chi2_stat, p_val, dof, expected_table = chi2_contingency(data)"
   ]
  },
  {
   "cell_type": "code",
   "execution_count": 27,
   "id": "d6ce021a-102c-4c49-a469-92b7e7cdc5c7",
   "metadata": {},
   "outputs": [
    {
     "data": {
      "text/plain": [
       "5.638227513227513"
      ]
     },
     "execution_count": 27,
     "metadata": {},
     "output_type": "execute_result"
    }
   ],
   "source": [
    "chi2_stat # chi_square_statistic value\n"
   ]
  },
  {
   "cell_type": "code",
   "execution_count": 28,
   "id": "c0f56dc1-96b2-4315-b73d-679b25029fa3",
   "metadata": {},
   "outputs": [
    {
     "data": {
      "text/plain": [
       "0.22784371130697179"
      ]
     },
     "execution_count": 28,
     "metadata": {},
     "output_type": "execute_result"
    }
   ],
   "source": [
    " p_val # p_value"
   ]
  },
  {
   "cell_type": "code",
   "execution_count": 29,
   "id": "242a3f8d-4273-4ecc-b723-4307e63cd0fd",
   "metadata": {},
   "outputs": [
    {
     "data": {
      "text/plain": [
       "4"
      ]
     },
     "execution_count": 29,
     "metadata": {},
     "output_type": "execute_result"
    }
   ],
   "source": [
    " dof # degree of freedom (number of categories minus 1)=5-1=4"
   ]
  },
  {
   "cell_type": "code",
   "execution_count": 30,
   "id": "6e9df398-b8de-456c-8330-5ddbe3b63e50",
   "metadata": {},
   "outputs": [
    {
     "data": {
      "text/plain": [
       "array([[ 48.,  72.],\n",
       "       [ 72., 108.],\n",
       "       [ 60.,  90.],\n",
       "       [ 32.,  48.],\n",
       "       [ 28.,  42.]])"
      ]
     },
     "execution_count": 30,
     "metadata": {},
     "output_type": "execute_result"
    }
   ],
   "source": [
    " expected_table"
   ]
  },
  {
   "cell_type": "markdown",
   "id": "4022f8ab-c585-4419-800c-c55bf5dc0c1f",
   "metadata": {},
   "source": [
    "## 3. Determine the Critical Value:\n",
    "Using the significance level (alpha) of 0.05 and the degrees of freedom (which is the number of categories minus 1)"
   ]
  },
  {
   "cell_type": "code",
   "execution_count": 37,
   "id": "0782df9f-595b-486d-a109-63b6bcf4e275",
   "metadata": {},
   "outputs": [
    {
     "data": {
      "text/plain": [
       "9.487729036781154"
      ]
     },
     "execution_count": 37,
     "metadata": {},
     "output_type": "execute_result"
    }
   ],
   "source": [
    "# Significance level (alpha)\n",
    "alpha = 0.05\n",
    "\n",
    "# Critical value\n",
    "critical_value = chi2.ppf(1 - alpha, df)\n",
    "critical_value"
   ]
  },
  {
   "cell_type": "markdown",
   "id": "654362c8-c689-46fa-a522-476fff924864",
   "metadata": {},
   "source": [
    "## 4. Make a Decision:\n",
    "Compare the Chi-Square statistic with the critical value to decide whether to reject the null hypothesis."
   ]
  },
  {
   "cell_type": "code",
   "execution_count": 34,
   "id": "11afd7fe-db44-40ca-9c88-3241aff372c3",
   "metadata": {},
   "outputs": [
    {
     "name": "stdout",
     "output_type": "stream",
     "text": [
      "   Decision: Fail to reject the null hypothesis.\n",
      "   Conclusion:  There is an association between the type of smart home device purchased and the customer satisfaction level.\n"
     ]
    }
   ],
   "source": [
    "if chi2_stat>=critical_value:\n",
    "    decision = \"Reject the null hypothesis.\"\n",
    "    conclusion = \"There is no association between the type of smart home device purchased and the customer satisfaction level.\"\n",
    "else:\n",
    "    decision = \"Fail to reject the null hypothesis.\"\n",
    "    conclusion = \" There is an association between the type of smart home device purchased and the customer satisfaction level.\"\n",
    "print(\"   Decision:\", decision)\n",
    "print(\"   Conclusion:\", conclusion)"
   ]
  },
  {
   "cell_type": "markdown",
   "id": "0083595e-5639-4b40-86aa-506d93c77461",
   "metadata": {},
   "source": [
    "## conclusion:\n"
   ]
  },
  {
   "cell_type": "markdown",
   "id": "08791af5-5549-43ff-ab8a-28e6a4ddd3e5",
   "metadata": {},
   "source": [
    "### There is an association between the type of smart home device purchased and the customer satisfaction level."
   ]
  },
  {
   "cell_type": "code",
   "execution_count": null,
   "id": "dc15d78d-3747-45a9-8303-540a1e73951b",
   "metadata": {},
   "outputs": [],
   "source": []
  }
 ],
 "metadata": {
  "kernelspec": {
   "display_name": "Python 3 (ipykernel)",
   "language": "python",
   "name": "python3"
  },
  "language_info": {
   "codemirror_mode": {
    "name": "ipython",
    "version": 3
   },
   "file_extension": ".py",
   "mimetype": "text/x-python",
   "name": "python",
   "nbconvert_exporter": "python",
   "pygments_lexer": "ipython3",
   "version": "3.11.7"
  }
 },
 "nbformat": 4,
 "nbformat_minor": 5
}
