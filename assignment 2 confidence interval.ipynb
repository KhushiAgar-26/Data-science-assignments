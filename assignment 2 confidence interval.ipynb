{
 "cells": [
  {
   "cell_type": "markdown",
   "id": "685e8bd6-52ea-4c9f-90b5-efd06392a8aa",
   "metadata": {},
   "source": [
    "### Data\n",
    "A total of 15 print-heads were randomly selected and tested until failure. The durability of each print-head (in millions of characters) was recorded as follows:\n",
    "1.13, 1.55, 1.43, 0.92, 1.25, 1.36, 1.32, 0.85, 1.07, 1.48, 1.20, 1.33, 1.18, 1.22, 1.29\n",
    "### Assignment Tasks\n",
    "a. Build 99% Confidence Interval Using Sample Standard Deviation\n",
    "Assuming the sample is representative of the population, construct a 99% confidence interval for the mean number of characters printed before the print-head fails using the sample standard deviation. Explain the steps you take and the rationale behind using the t-distribution for this task.\n",
    "\n",
    "b. Build 99% Confidence Interval Using Known Population Standard Deviation\n",
    "If it were known that the population standard deviation is 0.2 million characters, construct a 99% confidence interval for the mean number of characters printed before failure.\n"
   ]
  },
  {
   "cell_type": "code",
   "execution_count": 1,
   "id": "c6dbe3de-c79f-4b36-8afa-e7ec791a0300",
   "metadata": {},
   "outputs": [],
   "source": [
    "import pandas as pd \n",
    "import numpy as np\n",
    "#from scipy import stats\n",
    "import matplotlib.pyplot as plt\n",
    "#from statsmodels.stats.weightstats import ztest\n",
    "from scipy.stats import t, norm\n"
   ]
  },
  {
   "cell_type": "code",
   "execution_count": 2,
   "id": "0843a3bf-c546-43ff-8593-efcdcfa054ef",
   "metadata": {},
   "outputs": [
    {
     "data": {
      "text/plain": [
       "array([1.13, 1.55, 1.43, 0.92, 1.25, 1.36, 1.32, 0.85, 1.07, 1.48, 1.2 ,\n",
       "       1.33, 1.18, 1.22, 1.29])"
      ]
     },
     "execution_count": 2,
     "metadata": {},
     "output_type": "execute_result"
    }
   ],
   "source": [
    "data=np.array([ 1.13, 1.55, 1.43, 0.92, 1.25, 1.36, 1.32, 0.85, 1.07, 1.48, 1.20, 1.33, 1.18, 1.22, 1.29])\n",
    "data"
   ]
  },
  {
   "cell_type": "markdown",
   "id": "5437fd36-329c-4d83-ac4d-1f17b7450a1e",
   "metadata": {},
   "source": [
    "## a. Build 99% Confidence Interval Using Sample Standard Deviation"
   ]
  },
  {
   "cell_type": "code",
   "execution_count": 5,
   "id": "c6dbd584-ffc0-4b13-9cd9-6f3862d35b37",
   "metadata": {},
   "outputs": [],
   "source": [
    "#Sample statistics\n",
    "sample_mean = np.mean(data)\n",
    "sample_std = np.std(data, ddof=1)  # ddof=1 for sample standard deviation\n",
    "n = len(data)\n",
    "df = n - 1"
   ]
  },
  {
   "cell_type": "code",
   "execution_count": 12,
   "id": "6916bb4a-9328-4d3e-ae4c-55ceb58f4914",
   "metadata": {},
   "outputs": [
    {
     "name": "stdout",
     "output_type": "stream",
     "text": [
      "0.19316412956959936\n"
     ]
    }
   ],
   "source": [
    "sample_mean\n",
    "print(sample_std)"
   ]
  },
  {
   "cell_type": "code",
   "execution_count": 6,
   "id": "08424885-c223-47c9-a6cc-70ddeb23581f",
   "metadata": {},
   "outputs": [],
   "source": [
    "# a. Confidence Interval using Sample Standard Deviation\n",
    "confidence_level = 0.99\n",
    "alpha = 1 - confidence_level\n",
    "\n"
   ]
  },
  {
   "cell_type": "code",
   "execution_count": 7,
   "id": "68285054-9afe-4e92-b5e0-ba4d592e36dd",
   "metadata": {},
   "outputs": [],
   "source": [
    "# Find t-score\n",
    "t_score = t.ppf(1 - alpha / 2, df)\n"
   ]
  },
  {
   "cell_type": "code",
   "execution_count": 8,
   "id": "0b5bcf33-59a1-46c6-915e-d534ec1d8605",
   "metadata": {},
   "outputs": [],
   "source": [
    "# Calculate Margin of Error\n",
    "margin_of_error = t_score * (sample_std / np.sqrt(n))\n"
   ]
  },
  {
   "cell_type": "code",
   "execution_count": 9,
   "id": "3745fc1a-7a17-4e0f-8e41-51b29654ef23",
   "metadata": {},
   "outputs": [],
   "source": [
    "# Calculate Confidence Interval\n",
    "lower_bound = sample_mean - margin_of_error\n",
    "upper_bound = sample_mean + margin_of_error\n"
   ]
  },
  {
   "cell_type": "code",
   "execution_count": 10,
   "id": "3f0022e3-cb0a-448e-9af1-5d3fb915a240",
   "metadata": {},
   "outputs": [
    {
     "name": "stdout",
     "output_type": "stream",
     "text": [
      "a. Confidence Interval using Sample Standard Deviation:\n",
      "Sample Mean: 1.2386666666666666\n",
      "Sample Standard Deviation: 0.19316412956959936\n",
      "Degrees of Freedom: 14\n",
      "T-Score: 2.97684273411266\n",
      "Margin of Error: 0.1484693282152996\n",
      "Confidence Interval: (1.090197338451367, 1.3871359948819662)\n"
     ]
    }
   ],
   "source": [
    "print(\"a. Confidence Interval using Sample Standard Deviation:\")\n",
    "print(\"Sample Mean:\", sample_mean)\n",
    "print(\"Sample Standard Deviation:\", sample_std)\n",
    "print(\"Degrees of Freedom:\", df)\n",
    "print(\"T-Score:\", t_score)\n",
    "print(\"Margin of Error:\", margin_of_error)\n",
    "print(\"Confidence Interval:\", (lower_bound, upper_bound))\n"
   ]
  },
  {
   "cell_type": "markdown",
   "id": "792200ab-7620-430d-8352-d7e1ee7fe57a",
   "metadata": {},
   "source": [
    "## hence the  99% Confidence Interval Using Sample Standard Deviation is  (1.090197338451367, 1.3871359948819662)"
   ]
  },
  {
   "cell_type": "markdown",
   "id": "db7e2e41-7462-44e9-97e3-956738a8671c",
   "metadata": {},
   "source": [
    "## b. Build 99% Confidence Interval Using Known Population Standard Deviation"
   ]
  },
  {
   "cell_type": "code",
   "execution_count": 15,
   "id": "3c72c3fe-b412-4264-93ef-90645411ef69",
   "metadata": {},
   "outputs": [],
   "source": [
    "population_std = 0.2  # given population standard deviation\n"
   ]
  },
  {
   "cell_type": "code",
   "execution_count": 16,
   "id": "3116bdc8-a275-477e-8c4c-3ca60fef3054",
   "metadata": {},
   "outputs": [],
   "source": [
    "# Calculate z-score (since we know population standard deviation)\n",
    "z_score = norm.ppf(1 - alpha / 2)\n",
    "\n"
   ]
  },
  {
   "cell_type": "code",
   "execution_count": 17,
   "id": "6f7d9cf8-8859-476d-84d7-07be5cc5cd95",
   "metadata": {},
   "outputs": [],
   "source": [
    "# Calculate Margin of Error\n",
    "margin_of_error_known_std = z_score * (population_std / np.sqrt(n))\n"
   ]
  },
  {
   "cell_type": "code",
   "execution_count": 18,
   "id": "ad3546e3-e8e9-4144-a10f-fc1fa6050e36",
   "metadata": {},
   "outputs": [],
   "source": [
    "# Calculate Confidence Interval\n",
    "lower_bound_known_std = sample_mean - margin_of_error_known_std\n",
    "upper_bound_known_std = sample_mean + margin_of_error_known_std\n"
   ]
  },
  {
   "cell_type": "code",
   "execution_count": 19,
   "id": "e1069665-2ee2-497c-9355-b6d3c75a0b9f",
   "metadata": {},
   "outputs": [
    {
     "name": "stdout",
     "output_type": "stream",
     "text": [
      "\n",
      "b. Confidence Interval using Known Population Standard Deviation:\n",
      "Sample Mean: 1.2386666666666666\n",
      "Population Standard Deviation: 0.2\n",
      "Z-Score: 2.5758293035489004\n",
      "Margin of Error: 0.13301525327090588\n",
      "Confidence Interval: (1.1056514133957607, 1.3716819199375725)\n"
     ]
    }
   ],
   "source": [
    "print(\"\\nb. Confidence Interval using Known Population Standard Deviation:\")\n",
    "print(\"Sample Mean:\", sample_mean)\n",
    "print(\"Population Standard Deviation:\", population_std)\n",
    "print(\"Z-Score:\", z_score)\n",
    "print(\"Margin of Error:\", margin_of_error_known_std)\n",
    "print(\"Confidence Interval:\", (lower_bound_known_std, upper_bound_known_std))"
   ]
  },
  {
   "cell_type": "markdown",
   "id": "6735a0ed-f1d3-47e0-acb9-ae947737fdb9",
   "metadata": {},
   "source": [
    "## hence  99% Confidence Interval Using 0.2 Population Standard Deviation is(1.1056514133957607, 1.3716819199375725)\r\n"
   ]
  },
  {
   "cell_type": "code",
   "execution_count": null,
   "id": "d9d9d97b-0067-4b5f-984f-a645b70aac48",
   "metadata": {},
   "outputs": [],
   "source": []
  }
 ],
 "metadata": {
  "kernelspec": {
   "display_name": "Python 3 (ipykernel)",
   "language": "python",
   "name": "python3"
  },
  "language_info": {
   "codemirror_mode": {
    "name": "ipython",
    "version": 3
   },
   "file_extension": ".py",
   "mimetype": "text/x-python",
   "name": "python",
   "nbconvert_exporter": "python",
   "pygments_lexer": "ipython3",
   "version": "3.11.7"
  }
 },
 "nbformat": 4,
 "nbformat_minor": 5
}
