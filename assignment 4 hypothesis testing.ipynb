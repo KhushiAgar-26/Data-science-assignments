{
 "cells": [
  {
   "cell_type": "markdown",
   "id": "9f69fb1c-b7ea-4e48-ab57-2072e039f514",
   "metadata": {},
   "source": [
    "# HYPOTHESIS TESTING"
   ]
  },
  {
   "cell_type": "markdown",
   "id": "9fb81236-6170-48db-b8d7-fc8e90076c53",
   "metadata": {},
   "source": [
    "### Objective:\n",
    "\n",
    "To investigate the restaurant owners' claim about the increase in weekly operating costs using hypothesis testing.\n",
    "\n",
    "### Data Provided:\n",
    "•\tThe theoretical weekly operating cost model: W = $1,000 + $5X\n",
    "•\tSample of 25 restaurants with a mean weekly cost of Rs. 3,050\n",
    "•\tNumber of units produced in a week (X) follows a normal distribution with a mean (μ) of 600 units and a standard deviation (σ) of 25 units\n"
   ]
  },
  {
   "cell_type": "markdown",
   "id": "a7e99663-ff34-4f13-8f06-fc4584e56edf",
   "metadata": {},
   "source": [
    "## Assignment Tasks:\r",
    "\r\n"
   ]
  },
  {
   "cell_type": "markdown",
   "id": "00f22323-e92c-4af3-8789-8f36c198c7ca",
   "metadata": {},
   "source": [
    "## 1. State the Hypotheses statement:\n"
   ]
  },
  {
   "cell_type": "code",
   "execution_count": 4,
   "id": "2dc31511-ca8c-4e19-baaa-defbdd6ff52b",
   "metadata": {},
   "outputs": [],
   "source": [
    "# Null Hypothesis (H0): The mean weekly operating cost is as per the theoretical model, i.e., μ = $1,000 + $5X.\n",
    "# Alternative Hypothesis (H1): The mean weekly operating cost is higher than what the theoretical model suggests.\n",
    "H0 = \"The mean weekly operating cost is as per the theoretical model\"\n",
    "H1 = \"The mean weekly operating cost is higher than what the theoretical model suggests\""
   ]
  },
  {
   "cell_type": "markdown",
   "id": "0b3bb4a8-ef31-4bd4-82bb-a7ae6e7af421",
   "metadata": {},
   "source": [
    "## 2. Calculate the Test Statistic:\r\n",
    "\n",
    "Use the following formula to calculate the test statistic (t):\n",
    "\r\n",
    "where\n",
    ":\r\n",
    "•\tˉxˉ = sample mean weekly cost (Rs. 3,05\n",
    "0)\r\n",
    "•\tμ = theoretical mean weekly cost according to the cost model (W = $1,000 + $5X for X = 600 uni\n",
    "ts)\r\n",
    "•\tσ = 5*25 u\n",
    "nits\r\n",
    "•\tn = sample size (25 restaurants)\r\n"
   ]
  },
  {
   "cell_type": "code",
   "execution_count": 5,
   "id": "31055f98-e70b-42e6-93e2-899f02c800db",
   "metadata": {},
   "outputs": [],
   "source": [
    "# Given values\n",
    "import math\n",
    "sample_mean = 3050        #Sample mean (ˉxˉ) = Rs. 3,050\n",
    "theoretical_mean = 4000   #Theoretical mean (μ) = $1,000 + $5X for X = 600 units = $1,000 + $5 * 600 = $4,000\n",
    "std_dev = 5 * 25          #Standard deviation (σ) = $5 * 25 units = $125\n",
    "sample_size = 25          #\n",
    "\n",
    "# Calculate the test statistic\n",
    "test_statistic = (sample_mean - theoretical_mean) / (std_dev / math.sqrt(sample_size))"
   ]
  },
  {
   "cell_type": "markdown",
   "id": "7ea672af-17c8-46cf-b8c7-37c9af853f58",
   "metadata": {},
   "source": [
    "## 3. Determine the Critical Value:\r\n",
    "Using the alpha level of 5% (α = 0.05), determine the critical value from the standard normal (Z) distribution table\r\n"
   ]
  },
  {
   "cell_type": "code",
   "execution_count": 6,
   "id": "6e9a711d-9fc1-4644-acd5-f50ceb80b1bf",
   "metadata": {},
   "outputs": [
    {
     "name": "stdout",
     "output_type": "stream",
     "text": [
      "Critical value: 1.6448536269514722\n"
     ]
    }
   ],
   "source": [
    "from scipy.stats import norm\n",
    "\n",
    "# Alpha level\n",
    "alpha = 0.05\n",
    "\n",
    "# Find the critical value\n",
    "critical_value = norm.ppf(1 - alpha)\n",
    "print(\"Critical value:\", critical_value)"
   ]
  },
  {
   "cell_type": "markdown",
   "id": "878493b2-d1b5-4a57-bc3d-f1e5a95fb00f",
   "metadata": {},
   "source": [
    "## 4. Make a Decision:\r\n",
    "Compare the test statistic with the critical value to decide whether to reject the null hypothesis.\r\n"
   ]
  },
  {
   "cell_type": "code",
   "execution_count": 9,
   "id": "0575d664-8e82-4197-979d-36ee7258c856",
   "metadata": {},
   "outputs": [
    {
     "name": "stdout",
     "output_type": "stream",
     "text": [
      "   Decision: Fail to reject the null hypothesis.\n",
      "   Conclusion: There is not enough evidence to support the claim that the weekly operating costs are higher than the model suggests.\n"
     ]
    }
   ],
   "source": [
    "if test_statistic > critical_value:\n",
    "    decision = \"Reject the null hypothesis.\"\n",
    "    conclusion = \"There is strong evidence to support the restaurant owners' claim that the weekly operating costs are higher than the model suggests.\"\n",
    "else:\n",
    "    decision = \"Fail to reject the null hypothesis.\"\n",
    "    conclusion = \"There is not enough evidence to support the claim that the weekly operating costs are higher than the model suggests.\"\n",
    "print(\"   Decision:\", decision)\n",
    "print(\"   Conclusion:\", conclusion)"
   ]
  },
  {
   "cell_type": "markdown",
   "id": "e8c63d03-c6f0-4d4d-aba1-44a4bb21f7aa",
   "metadata": {},
   "source": [
    "## 5. Conclusion:\r\n",
    "## \n",
    "Based on the decision in step 4, conclude whether there is strong evidence to support the restaurant owners' claim that the weekly operating costs are higher than the model suggests.\r\n"
   ]
  },
  {
   "cell_type": "code",
   "execution_count": null,
   "id": "892935dc-6baa-4397-8d52-c49453336492",
   "metadata": {},
   "outputs": [],
   "source": []
  }
 ],
 "metadata": {
  "kernelspec": {
   "display_name": "Python 3 (ipykernel)",
   "language": "python",
   "name": "python3"
  },
  "language_info": {
   "codemirror_mode": {
    "name": "ipython",
    "version": 3
   },
   "file_extension": ".py",
   "mimetype": "text/x-python",
   "name": "python",
   "nbconvert_exporter": "python",
   "pygments_lexer": "ipython3",
   "version": "3.11.7"
  }
 },
 "nbformat": 4,
 "nbformat_minor": 5
}
