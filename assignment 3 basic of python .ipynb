{
 "cells": [
  {
   "cell_type": "markdown",
   "id": "a381e067-1163-40f8-b6b6-d23aefc06c67",
   "metadata": {},
   "source": [
    "### Exercise 1: Prime Numbers\r\n",
    "Write a Python program that checks whether a given number is prime or not. A prime number is a natural number greater than 1 that has no positive divisors other than 1 and itself.\r\n"
   ]
  },
  {
   "cell_type": "code",
   "execution_count": 7,
   "id": "93218c5a-5ef9-4040-930a-fe3f5c6f4cf3",
   "metadata": {},
   "outputs": [
    {
     "name": "stdin",
     "output_type": "stream",
     "text": [
      "Enter a number:  7\n"
     ]
    },
    {
     "name": "stdout",
     "output_type": "stream",
     "text": [
      "7 is a prime number.\n"
     ]
    }
   ],
   "source": [
    "def prime(number):\n",
    "    if number <= 1:  # prime number  is  greater then one\n",
    "        return False\n",
    "    elif number <= 3:\n",
    "        return True\n",
    "    elif number % 2 == 0 or number % 3 == 0: # prime number is not divisibe by 2 or 3 \n",
    "        return False\n",
    "    i = 5   #We start by setting i to 5. This is because all prime numbers greater than 3 can be expressed in the form of 6k ± 1.\n",
    "    while i * i <= number: \n",
    "        if number % i == 0 or number % (i + 2) == 0:\n",
    "            return False\n",
    "        i += 6\n",
    "    return True\n",
    "\n",
    "# Test the function\n",
    "number = int(input(\"Enter a number: \"))\n",
    "if  prime(number):\n",
    "    print(number, \"is a prime number.\")  #  a prime number is only divisible by 1 and itself. if the given number is satisfing the above conditions then it return the number is prime\n",
    "else:\n",
    "    print(number, \"is not a prime number.\") # if the given number not satisfing the above condition it return the given number is not prime"
   ]
  },
  {
   "cell_type": "markdown",
   "id": "671ad3e3-dd36-420e-9adf-9ed8221533da",
   "metadata": {},
   "source": [
    "## Exercise 2: Product of Random Numbers\r\n",
    "Develop a Python program that generates two random numbers and asks the user to enter the product of these numbers. The program should then check if the user's answer is correct and display an appropriate message.\r\n"
   ]
  },
  {
   "cell_type": "code",
   "execution_count": 11,
   "id": "76451c72-1f38-4e53-9276-7ae56492cef9",
   "metadata": {},
   "outputs": [
    {
     "name": "stdin",
     "output_type": "stream",
     "text": [
      "What is the product of 54 and 39?  50\n"
     ]
    },
    {
     "name": "stdout",
     "output_type": "stream",
     "text": [
      "Incorrect. The correct answer is: 2106\n"
     ]
    }
   ],
   "source": [
    "import random\n",
    "\n",
    "def generate_random_numbers():  # define a function to generate 2 random number \n",
    "    num1 = random.randint(1, 100) # to generate number  between 1 to 100\n",
    "    num2 = random.randint(1, 100)\n",
    "    return num1, num2\n",
    "\n",
    "def main():\n",
    "    num1, num2 = generate_random_numbers()\n",
    "    product = num1 * num2   # product of these two random number\n",
    "\n",
    "    user_answer = int(input(f\"What is the product of {num1} and {num2}? \"))  # ask to user to input the product of these numbers\n",
    "\n",
    "    if user_answer == product:\n",
    "        print(\"Correct!\")   # if the user's ans  matches the actual : it return correct \n",
    "    else:\n",
    "        print(\"Incorrect. The correct answer is:\", product) # otherwise it return incorrect an write the actual product\n",
    "        \n",
    "if __name__ == \"__main__\":\n",
    "    main()\n"
   ]
  },
  {
   "cell_type": "markdown",
   "id": "a140d4b1-c8d4-4a4c-864d-d7911b3ac708",
   "metadata": {},
   "source": [
    "## Exercise 3: Squares of Even/Odd Numbers\r\n",
    "Create a Python script that prints the squares of all even or odd numbers within the range of 100 to 200. Choose either even or odd numbers and document your choice in the code.\r\n"
   ]
  },
  {
   "cell_type": "code",
   "execution_count": 28,
   "id": "67712c55-c87e-4dbe-8470-a836ebccbc68",
   "metadata": {},
   "outputs": [
    {
     "name": "stdout",
     "output_type": "stream",
     "text": [
      "Squares of even numbers within the range of 100 to 200:\n",
      "100 : 10000\n",
      "102 : 10404\n",
      "104 : 10816\n",
      "106 : 11236\n",
      "108 : 11664\n",
      "110 : 12100\n",
      "112 : 12544\n",
      "114 : 12996\n",
      "116 : 13456\n",
      "118 : 13924\n",
      "120 : 14400\n",
      "122 : 14884\n",
      "124 : 15376\n",
      "126 : 15876\n",
      "128 : 16384\n",
      "130 : 16900\n",
      "132 : 17424\n",
      "134 : 17956\n",
      "136 : 18496\n",
      "138 : 19044\n",
      "140 : 19600\n",
      "142 : 20164\n",
      "144 : 20736\n",
      "146 : 21316\n",
      "148 : 21904\n",
      "150 : 22500\n",
      "152 : 23104\n",
      "154 : 23716\n",
      "156 : 24336\n",
      "158 : 24964\n",
      "160 : 25600\n",
      "162 : 26244\n",
      "164 : 26896\n",
      "166 : 27556\n",
      "168 : 28224\n",
      "170 : 28900\n",
      "172 : 29584\n",
      "174 : 30276\n",
      "176 : 30976\n",
      "178 : 31684\n",
      "180 : 32400\n",
      "182 : 33124\n",
      "184 : 33856\n",
      "186 : 34596\n",
      "188 : 35344\n",
      "190 : 36100\n",
      "192 : 36864\n",
      "194 : 37636\n",
      "196 : 38416\n",
      "198 : 39204\n",
      "200 : 40000\n"
     ]
    }
   ],
   "source": [
    "def print_square_of_even_numbers(): \n",
    "    print(\"Squares of even numbers within the range of 100 to 200:\")\n",
    "    for num in range(100, 201):\n",
    "        if num % 2 == 0:\n",
    "            print(num, \":\", num ** 2)\n",
    "\n",
    "print_square_of_even_numbers()"
   ]
  },
  {
   "cell_type": "markdown",
   "id": "5c0998c0-f761-464d-a14b-1f9071434047",
   "metadata": {},
   "source": [
    "### Exercise 4: Word counter\r\n",
    "write a program to count the number of words in a given text.\n",
    "\r\n",
    "example\n",
    ":\r\n",
    "input_text = \"This is a sample text. This text will be used to demonstrate the word counter\n",
    ".\"\r\n",
    "Expected outp\n",
    "ut:\r\n",
    "'This'\n",
    ": 2 \r\n",
    "'i\n",
    "s': 1\r\n",
    "\n",
    "'a': 1\r\n",
    "'sam\n",
    "ple': 1\r\n",
    "'text.': 1\r\n"
   ]
  },
  {
   "cell_type": "code",
   "execution_count": 32,
   "id": "b1e65444-2852-4fac-8d1d-951dcce06c21",
   "metadata": {},
   "outputs": [
    {
     "name": "stdin",
     "output_type": "stream",
     "text": [
      "Enter the text:   function to get the word frequencies, and then iterates through the dictionary to print each word along with its count.\n"
     ]
    },
    {
     "name": "stdout",
     "output_type": "stream",
     "text": [
      "'function': 1\n",
      "'to': 2\n",
      "'get': 1\n",
      "'the': 2\n",
      "'word': 2\n",
      "'frequencies,': 1\n",
      "'and': 1\n",
      "'then': 1\n",
      "'iterates': 1\n",
      "'through': 1\n",
      "'dictionary': 1\n",
      "'print': 1\n",
      "'each': 1\n",
      "'along': 1\n",
      "'with': 1\n",
      "'its': 1\n",
      "'count.': 1\n"
     ]
    }
   ],
   "source": [
    "def word_count(text):\n",
    "    words = text.split()\n",
    "    word_freq = {}\n",
    "    for word in words:\n",
    "        if word in word_freq:\n",
    "            word_freq[word] += 1\n",
    "        else:\n",
    "            word_freq[word] = 1\n",
    "    return word_freq\n",
    "\n",
    "def main():\n",
    "    input_text =input(\"Enter the text: \") # ask to user to give a input text \n",
    "    word_freq = word_count(input_text)\n",
    "    for word, count in word_freq.items():\n",
    "        print(f\"'{word}': {count}\")\n",
    "\n",
    "if __name__ == \"__main__\":\n",
    "    main()"
   ]
  },
  {
   "cell_type": "markdown",
   "id": "00fcda86-7863-443c-af01-42486ddc9cf1",
   "metadata": {},
   "source": [
    "### Exercise 5: Check for Palindrome\r\n",
    "Write a Python function called is_palindrome that takes a string as input and returns True if the string is a palindrome, and False otherwise. A palindrome is a word, phrase, number, or other sequence of characters that reads the same forward and backward, ignoring spaces, punctuation, and capitalization.\n",
    "\r\n",
    "Example:\r\n",
    "Input: \"racecar\"\r\n",
    "Expected Output: True\r\n"
   ]
  },
  {
   "cell_type": "code",
   "execution_count": 39,
   "id": "b6be968b-0f1f-4489-b556-521747d7b684",
   "metadata": {},
   "outputs": [
    {
     "name": "stdin",
     "output_type": "stream",
     "text": [
      "enter a string racecar\n"
     ]
    },
    {
     "name": "stdout",
     "output_type": "stream",
     "text": [
      "True\n"
     ]
    }
   ],
   "source": [
    "def palindrome(s):\n",
    "    # Remove spaces, punctuation, and convert to lowercase\n",
    "    s = ''.join(char.lower() for char in s if char.isalnum())\n",
    "    # Check if the string is equal to its reverse\n",
    "    return s == s[::-1]\n",
    "\n",
    "# Test the function\n",
    "input_string = input(\"enter a string\")\n",
    "print(palindrome(input_string))  # if the input sting is palidrome word then it return true otherwise it return false"
   ]
  },
  {
   "cell_type": "code",
   "execution_count": null,
   "id": "443ed54f-6636-49b7-bf2e-9782a1264b0b",
   "metadata": {},
   "outputs": [],
   "source": []
  }
 ],
 "metadata": {
  "kernelspec": {
   "display_name": "Python 3 (ipykernel)",
   "language": "python",
   "name": "python3"
  },
  "language_info": {
   "codemirror_mode": {
    "name": "ipython",
    "version": 3
   },
   "file_extension": ".py",
   "mimetype": "text/x-python",
   "name": "python",
   "nbconvert_exporter": "python",
   "pygments_lexer": "ipython3",
   "version": "3.11.7"
  }
 },
 "nbformat": 4,
 "nbformat_minor": 5
}
