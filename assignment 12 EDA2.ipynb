{
 "cells": [
  {
   "cell_type": "markdown",
   "id": "3ae616b2-cf51-44ca-952f-41b539ccce89",
   "metadata": {},
   "source": [
    "# DATA PREPROCESSING AND FEATURE ENGINEERING IN MACHINE LEARNING"
   ]
  },
  {
   "cell_type": "markdown",
   "id": "c178572b-ab29-45ba-bfd4-26b55ff0c79e",
   "metadata": {},
   "source": [
    "\n",
    "## \n",
    "Objective\n",
    "\n",
    "\r\n",
    "This assignment aims to equip you with practical skills in data preprocessing, feature engineering, and feature selection techniques, which are crucial for building efficient machine learning models. You will work with a provided dataset to apply various techniques such as scaling, encoding, and feature selection methods including isolation forest and PPS score analysis\n",
    "## .\r\n",
    "Datase\n",
    "t:\r\n",
    "Given \"Adult\" dataset, which predicts whether income exceeds $50K/yr based on census data.\r\n",
    "Tasks:\r\n"
   ]
  },
  {
   "cell_type": "markdown",
   "id": "431144e1-822f-4f92-bc00-6ca02a3070cf",
   "metadata": {},
   "source": [
    "## importing packages"
   ]
  },
  {
   "cell_type": "code",
   "execution_count": 1,
   "id": "b4180476-c533-4b24-8f09-ca810878a901",
   "metadata": {},
   "outputs": [],
   "source": [
    "import pandas as pd\n",
    "import numpy as np\n",
    "import matplotlib.pyplot as plt\n",
    "import seaborn as sns"
   ]
  },
  {
   "cell_type": "code",
   "execution_count": 2,
   "id": "94c59e30-aca8-4830-b799-14f025df775c",
   "metadata": {},
   "outputs": [],
   "source": [
    "import warnings\n",
    "warnings.filterwarnings('ignore')"
   ]
  },
  {
   "cell_type": "markdown",
   "id": "3e4448e6-8b24-4063-9572-fd714e0927d0",
   "metadata": {},
   "source": [
    "## 1. Data Exploration and Preprocessing:"
   ]
  },
  {
   "cell_type": "markdown",
   "id": "82b65213-eb8d-41be-8ad1-028380acd0c4",
   "metadata": {},
   "source": [
    "### •\tLoad the dataset "
   ]
  },
  {
   "cell_type": "code",
   "execution_count": 3,
   "id": "e6ac7edb-9a1d-46dc-b372-e3edf4b0e92e",
   "metadata": {},
   "outputs": [],
   "source": [
    "df=pd.read_csv(\"adult_with_headers.csv\")\n"
   ]
  },
  {
   "cell_type": "code",
   "execution_count": 4,
   "id": "4d3eaf62-feac-4b2c-95ba-71436ba60e1e",
   "metadata": {},
   "outputs": [
    {
     "data": {
      "text/html": [
       "<div>\n",
       "<style scoped>\n",
       "    .dataframe tbody tr th:only-of-type {\n",
       "        vertical-align: middle;\n",
       "    }\n",
       "\n",
       "    .dataframe tbody tr th {\n",
       "        vertical-align: top;\n",
       "    }\n",
       "\n",
       "    .dataframe thead th {\n",
       "        text-align: right;\n",
       "    }\n",
       "</style>\n",
       "<table border=\"1\" class=\"dataframe\">\n",
       "  <thead>\n",
       "    <tr style=\"text-align: right;\">\n",
       "      <th></th>\n",
       "      <th>age</th>\n",
       "      <th>workclass</th>\n",
       "      <th>fnlwgt</th>\n",
       "      <th>education</th>\n",
       "      <th>education_num</th>\n",
       "      <th>marital_status</th>\n",
       "      <th>occupation</th>\n",
       "      <th>relationship</th>\n",
       "      <th>race</th>\n",
       "      <th>sex</th>\n",
       "      <th>capital_gain</th>\n",
       "      <th>capital_loss</th>\n",
       "      <th>hours_per_week</th>\n",
       "      <th>native_country</th>\n",
       "      <th>income</th>\n",
       "    </tr>\n",
       "  </thead>\n",
       "  <tbody>\n",
       "    <tr>\n",
       "      <th>0</th>\n",
       "      <td>39</td>\n",
       "      <td>State-gov</td>\n",
       "      <td>77516</td>\n",
       "      <td>Bachelors</td>\n",
       "      <td>13</td>\n",
       "      <td>Never-married</td>\n",
       "      <td>Adm-clerical</td>\n",
       "      <td>Not-in-family</td>\n",
       "      <td>White</td>\n",
       "      <td>Male</td>\n",
       "      <td>2174</td>\n",
       "      <td>0</td>\n",
       "      <td>40</td>\n",
       "      <td>United-States</td>\n",
       "      <td>&lt;=50K</td>\n",
       "    </tr>\n",
       "    <tr>\n",
       "      <th>1</th>\n",
       "      <td>50</td>\n",
       "      <td>Self-emp-not-inc</td>\n",
       "      <td>83311</td>\n",
       "      <td>Bachelors</td>\n",
       "      <td>13</td>\n",
       "      <td>Married-civ-spouse</td>\n",
       "      <td>Exec-managerial</td>\n",
       "      <td>Husband</td>\n",
       "      <td>White</td>\n",
       "      <td>Male</td>\n",
       "      <td>0</td>\n",
       "      <td>0</td>\n",
       "      <td>13</td>\n",
       "      <td>United-States</td>\n",
       "      <td>&lt;=50K</td>\n",
       "    </tr>\n",
       "    <tr>\n",
       "      <th>2</th>\n",
       "      <td>38</td>\n",
       "      <td>Private</td>\n",
       "      <td>215646</td>\n",
       "      <td>HS-grad</td>\n",
       "      <td>9</td>\n",
       "      <td>Divorced</td>\n",
       "      <td>Handlers-cleaners</td>\n",
       "      <td>Not-in-family</td>\n",
       "      <td>White</td>\n",
       "      <td>Male</td>\n",
       "      <td>0</td>\n",
       "      <td>0</td>\n",
       "      <td>40</td>\n",
       "      <td>United-States</td>\n",
       "      <td>&lt;=50K</td>\n",
       "    </tr>\n",
       "    <tr>\n",
       "      <th>3</th>\n",
       "      <td>53</td>\n",
       "      <td>Private</td>\n",
       "      <td>234721</td>\n",
       "      <td>11th</td>\n",
       "      <td>7</td>\n",
       "      <td>Married-civ-spouse</td>\n",
       "      <td>Handlers-cleaners</td>\n",
       "      <td>Husband</td>\n",
       "      <td>Black</td>\n",
       "      <td>Male</td>\n",
       "      <td>0</td>\n",
       "      <td>0</td>\n",
       "      <td>40</td>\n",
       "      <td>United-States</td>\n",
       "      <td>&lt;=50K</td>\n",
       "    </tr>\n",
       "    <tr>\n",
       "      <th>4</th>\n",
       "      <td>28</td>\n",
       "      <td>Private</td>\n",
       "      <td>338409</td>\n",
       "      <td>Bachelors</td>\n",
       "      <td>13</td>\n",
       "      <td>Married-civ-spouse</td>\n",
       "      <td>Prof-specialty</td>\n",
       "      <td>Wife</td>\n",
       "      <td>Black</td>\n",
       "      <td>Female</td>\n",
       "      <td>0</td>\n",
       "      <td>0</td>\n",
       "      <td>40</td>\n",
       "      <td>Cuba</td>\n",
       "      <td>&lt;=50K</td>\n",
       "    </tr>\n",
       "    <tr>\n",
       "      <th>...</th>\n",
       "      <td>...</td>\n",
       "      <td>...</td>\n",
       "      <td>...</td>\n",
       "      <td>...</td>\n",
       "      <td>...</td>\n",
       "      <td>...</td>\n",
       "      <td>...</td>\n",
       "      <td>...</td>\n",
       "      <td>...</td>\n",
       "      <td>...</td>\n",
       "      <td>...</td>\n",
       "      <td>...</td>\n",
       "      <td>...</td>\n",
       "      <td>...</td>\n",
       "      <td>...</td>\n",
       "    </tr>\n",
       "    <tr>\n",
       "      <th>32556</th>\n",
       "      <td>27</td>\n",
       "      <td>Private</td>\n",
       "      <td>257302</td>\n",
       "      <td>Assoc-acdm</td>\n",
       "      <td>12</td>\n",
       "      <td>Married-civ-spouse</td>\n",
       "      <td>Tech-support</td>\n",
       "      <td>Wife</td>\n",
       "      <td>White</td>\n",
       "      <td>Female</td>\n",
       "      <td>0</td>\n",
       "      <td>0</td>\n",
       "      <td>38</td>\n",
       "      <td>United-States</td>\n",
       "      <td>&lt;=50K</td>\n",
       "    </tr>\n",
       "    <tr>\n",
       "      <th>32557</th>\n",
       "      <td>40</td>\n",
       "      <td>Private</td>\n",
       "      <td>154374</td>\n",
       "      <td>HS-grad</td>\n",
       "      <td>9</td>\n",
       "      <td>Married-civ-spouse</td>\n",
       "      <td>Machine-op-inspct</td>\n",
       "      <td>Husband</td>\n",
       "      <td>White</td>\n",
       "      <td>Male</td>\n",
       "      <td>0</td>\n",
       "      <td>0</td>\n",
       "      <td>40</td>\n",
       "      <td>United-States</td>\n",
       "      <td>&gt;50K</td>\n",
       "    </tr>\n",
       "    <tr>\n",
       "      <th>32558</th>\n",
       "      <td>58</td>\n",
       "      <td>Private</td>\n",
       "      <td>151910</td>\n",
       "      <td>HS-grad</td>\n",
       "      <td>9</td>\n",
       "      <td>Widowed</td>\n",
       "      <td>Adm-clerical</td>\n",
       "      <td>Unmarried</td>\n",
       "      <td>White</td>\n",
       "      <td>Female</td>\n",
       "      <td>0</td>\n",
       "      <td>0</td>\n",
       "      <td>40</td>\n",
       "      <td>United-States</td>\n",
       "      <td>&lt;=50K</td>\n",
       "    </tr>\n",
       "    <tr>\n",
       "      <th>32559</th>\n",
       "      <td>22</td>\n",
       "      <td>Private</td>\n",
       "      <td>201490</td>\n",
       "      <td>HS-grad</td>\n",
       "      <td>9</td>\n",
       "      <td>Never-married</td>\n",
       "      <td>Adm-clerical</td>\n",
       "      <td>Own-child</td>\n",
       "      <td>White</td>\n",
       "      <td>Male</td>\n",
       "      <td>0</td>\n",
       "      <td>0</td>\n",
       "      <td>20</td>\n",
       "      <td>United-States</td>\n",
       "      <td>&lt;=50K</td>\n",
       "    </tr>\n",
       "    <tr>\n",
       "      <th>32560</th>\n",
       "      <td>52</td>\n",
       "      <td>Self-emp-inc</td>\n",
       "      <td>287927</td>\n",
       "      <td>HS-grad</td>\n",
       "      <td>9</td>\n",
       "      <td>Married-civ-spouse</td>\n",
       "      <td>Exec-managerial</td>\n",
       "      <td>Wife</td>\n",
       "      <td>White</td>\n",
       "      <td>Female</td>\n",
       "      <td>15024</td>\n",
       "      <td>0</td>\n",
       "      <td>40</td>\n",
       "      <td>United-States</td>\n",
       "      <td>&gt;50K</td>\n",
       "    </tr>\n",
       "  </tbody>\n",
       "</table>\n",
       "<p>32561 rows × 15 columns</p>\n",
       "</div>"
      ],
      "text/plain": [
       "       age          workclass  fnlwgt    education  education_num  \\\n",
       "0       39          State-gov   77516    Bachelors             13   \n",
       "1       50   Self-emp-not-inc   83311    Bachelors             13   \n",
       "2       38            Private  215646      HS-grad              9   \n",
       "3       53            Private  234721         11th              7   \n",
       "4       28            Private  338409    Bachelors             13   \n",
       "...    ...                ...     ...          ...            ...   \n",
       "32556   27            Private  257302   Assoc-acdm             12   \n",
       "32557   40            Private  154374      HS-grad              9   \n",
       "32558   58            Private  151910      HS-grad              9   \n",
       "32559   22            Private  201490      HS-grad              9   \n",
       "32560   52       Self-emp-inc  287927      HS-grad              9   \n",
       "\n",
       "            marital_status          occupation    relationship    race  \\\n",
       "0            Never-married        Adm-clerical   Not-in-family   White   \n",
       "1       Married-civ-spouse     Exec-managerial         Husband   White   \n",
       "2                 Divorced   Handlers-cleaners   Not-in-family   White   \n",
       "3       Married-civ-spouse   Handlers-cleaners         Husband   Black   \n",
       "4       Married-civ-spouse      Prof-specialty            Wife   Black   \n",
       "...                    ...                 ...             ...     ...   \n",
       "32556   Married-civ-spouse        Tech-support            Wife   White   \n",
       "32557   Married-civ-spouse   Machine-op-inspct         Husband   White   \n",
       "32558              Widowed        Adm-clerical       Unmarried   White   \n",
       "32559        Never-married        Adm-clerical       Own-child   White   \n",
       "32560   Married-civ-spouse     Exec-managerial            Wife   White   \n",
       "\n",
       "           sex  capital_gain  capital_loss  hours_per_week  native_country  \\\n",
       "0         Male          2174             0              40   United-States   \n",
       "1         Male             0             0              13   United-States   \n",
       "2         Male             0             0              40   United-States   \n",
       "3         Male             0             0              40   United-States   \n",
       "4       Female             0             0              40            Cuba   \n",
       "...        ...           ...           ...             ...             ...   \n",
       "32556   Female             0             0              38   United-States   \n",
       "32557     Male             0             0              40   United-States   \n",
       "32558   Female             0             0              40   United-States   \n",
       "32559     Male             0             0              20   United-States   \n",
       "32560   Female         15024             0              40   United-States   \n",
       "\n",
       "       income  \n",
       "0       <=50K  \n",
       "1       <=50K  \n",
       "2       <=50K  \n",
       "3       <=50K  \n",
       "4       <=50K  \n",
       "...       ...  \n",
       "32556   <=50K  \n",
       "32557    >50K  \n",
       "32558   <=50K  \n",
       "32559   <=50K  \n",
       "32560    >50K  \n",
       "\n",
       "[32561 rows x 15 columns]"
      ]
     },
     "execution_count": 4,
     "metadata": {},
     "output_type": "execute_result"
    }
   ],
   "source": [
    "df"
   ]
  },
  {
   "cell_type": "code",
   "execution_count": 5,
   "id": "9b346783-33c9-4576-a823-4d07ad09c06a",
   "metadata": {},
   "outputs": [
    {
     "data": {
      "text/plain": [
       "Index(['age', 'workclass', 'fnlwgt', 'education', 'education_num',\n",
       "       'marital_status', 'occupation', 'relationship', 'race', 'sex',\n",
       "       'capital_gain', 'capital_loss', 'hours_per_week', 'native_country',\n",
       "       'income'],\n",
       "      dtype='object')"
      ]
     },
     "execution_count": 5,
     "metadata": {},
     "output_type": "execute_result"
    }
   ],
   "source": [
    "df.columns"
   ]
  },
  {
   "cell_type": "code",
   "execution_count": 6,
   "id": "1d7d8175-5d42-4a95-8996-3c0a668ed01c",
   "metadata": {},
   "outputs": [
    {
     "data": {
      "text/plain": [
       "(32561, 15)"
      ]
     },
     "execution_count": 6,
     "metadata": {},
     "output_type": "execute_result"
    }
   ],
   "source": [
    "df.shape"
   ]
  },
  {
   "cell_type": "markdown",
   "id": "75462c81-9776-4fcc-af0f-0cda51df9c6e",
   "metadata": {},
   "source": [
    "### summary statitics"
   ]
  },
  {
   "cell_type": "code",
   "execution_count": 7,
   "id": "06163db9-1438-4dba-9881-4ee81b886bf1",
   "metadata": {},
   "outputs": [
    {
     "data": {
      "text/html": [
       "<div>\n",
       "<style scoped>\n",
       "    .dataframe tbody tr th:only-of-type {\n",
       "        vertical-align: middle;\n",
       "    }\n",
       "\n",
       "    .dataframe tbody tr th {\n",
       "        vertical-align: top;\n",
       "    }\n",
       "\n",
       "    .dataframe thead th {\n",
       "        text-align: right;\n",
       "    }\n",
       "</style>\n",
       "<table border=\"1\" class=\"dataframe\">\n",
       "  <thead>\n",
       "    <tr style=\"text-align: right;\">\n",
       "      <th></th>\n",
       "      <th>age</th>\n",
       "      <th>fnlwgt</th>\n",
       "      <th>education_num</th>\n",
       "      <th>capital_gain</th>\n",
       "      <th>capital_loss</th>\n",
       "      <th>hours_per_week</th>\n",
       "    </tr>\n",
       "  </thead>\n",
       "  <tbody>\n",
       "    <tr>\n",
       "      <th>count</th>\n",
       "      <td>32561.000000</td>\n",
       "      <td>3.256100e+04</td>\n",
       "      <td>32561.000000</td>\n",
       "      <td>32561.000000</td>\n",
       "      <td>32561.000000</td>\n",
       "      <td>32561.000000</td>\n",
       "    </tr>\n",
       "    <tr>\n",
       "      <th>mean</th>\n",
       "      <td>38.581647</td>\n",
       "      <td>1.897784e+05</td>\n",
       "      <td>10.080679</td>\n",
       "      <td>1077.648844</td>\n",
       "      <td>87.303830</td>\n",
       "      <td>40.437456</td>\n",
       "    </tr>\n",
       "    <tr>\n",
       "      <th>std</th>\n",
       "      <td>13.640433</td>\n",
       "      <td>1.055500e+05</td>\n",
       "      <td>2.572720</td>\n",
       "      <td>7385.292085</td>\n",
       "      <td>402.960219</td>\n",
       "      <td>12.347429</td>\n",
       "    </tr>\n",
       "    <tr>\n",
       "      <th>min</th>\n",
       "      <td>17.000000</td>\n",
       "      <td>1.228500e+04</td>\n",
       "      <td>1.000000</td>\n",
       "      <td>0.000000</td>\n",
       "      <td>0.000000</td>\n",
       "      <td>1.000000</td>\n",
       "    </tr>\n",
       "    <tr>\n",
       "      <th>25%</th>\n",
       "      <td>28.000000</td>\n",
       "      <td>1.178270e+05</td>\n",
       "      <td>9.000000</td>\n",
       "      <td>0.000000</td>\n",
       "      <td>0.000000</td>\n",
       "      <td>40.000000</td>\n",
       "    </tr>\n",
       "    <tr>\n",
       "      <th>50%</th>\n",
       "      <td>37.000000</td>\n",
       "      <td>1.783560e+05</td>\n",
       "      <td>10.000000</td>\n",
       "      <td>0.000000</td>\n",
       "      <td>0.000000</td>\n",
       "      <td>40.000000</td>\n",
       "    </tr>\n",
       "    <tr>\n",
       "      <th>75%</th>\n",
       "      <td>48.000000</td>\n",
       "      <td>2.370510e+05</td>\n",
       "      <td>12.000000</td>\n",
       "      <td>0.000000</td>\n",
       "      <td>0.000000</td>\n",
       "      <td>45.000000</td>\n",
       "    </tr>\n",
       "    <tr>\n",
       "      <th>max</th>\n",
       "      <td>90.000000</td>\n",
       "      <td>1.484705e+06</td>\n",
       "      <td>16.000000</td>\n",
       "      <td>99999.000000</td>\n",
       "      <td>4356.000000</td>\n",
       "      <td>99.000000</td>\n",
       "    </tr>\n",
       "  </tbody>\n",
       "</table>\n",
       "</div>"
      ],
      "text/plain": [
       "                age        fnlwgt  education_num  capital_gain  capital_loss  \\\n",
       "count  32561.000000  3.256100e+04   32561.000000  32561.000000  32561.000000   \n",
       "mean      38.581647  1.897784e+05      10.080679   1077.648844     87.303830   \n",
       "std       13.640433  1.055500e+05       2.572720   7385.292085    402.960219   \n",
       "min       17.000000  1.228500e+04       1.000000      0.000000      0.000000   \n",
       "25%       28.000000  1.178270e+05       9.000000      0.000000      0.000000   \n",
       "50%       37.000000  1.783560e+05      10.000000      0.000000      0.000000   \n",
       "75%       48.000000  2.370510e+05      12.000000      0.000000      0.000000   \n",
       "max       90.000000  1.484705e+06      16.000000  99999.000000   4356.000000   \n",
       "\n",
       "       hours_per_week  \n",
       "count    32561.000000  \n",
       "mean        40.437456  \n",
       "std         12.347429  \n",
       "min          1.000000  \n",
       "25%         40.000000  \n",
       "50%         40.000000  \n",
       "75%         45.000000  \n",
       "max         99.000000  "
      ]
     },
     "execution_count": 7,
     "metadata": {},
     "output_type": "execute_result"
    }
   ],
   "source": [
    "df.describe()"
   ]
  },
  {
   "cell_type": "markdown",
   "id": "cb918542-cc28-4ee5-97fd-13dc3ada1eaa",
   "metadata": {},
   "source": [
    "### checking for data types"
   ]
  },
  {
   "cell_type": "code",
   "execution_count": 8,
   "id": "1e5ce748-5dfc-41d6-aa91-09f059f6a5ae",
   "metadata": {},
   "outputs": [
    {
     "name": "stdout",
     "output_type": "stream",
     "text": [
      "<class 'pandas.core.frame.DataFrame'>\n",
      "RangeIndex: 32561 entries, 0 to 32560\n",
      "Data columns (total 15 columns):\n",
      " #   Column          Non-Null Count  Dtype \n",
      "---  ------          --------------  ----- \n",
      " 0   age             32561 non-null  int64 \n",
      " 1   workclass       32561 non-null  object\n",
      " 2   fnlwgt          32561 non-null  int64 \n",
      " 3   education       32561 non-null  object\n",
      " 4   education_num   32561 non-null  int64 \n",
      " 5   marital_status  32561 non-null  object\n",
      " 6   occupation      32561 non-null  object\n",
      " 7   relationship    32561 non-null  object\n",
      " 8   race            32561 non-null  object\n",
      " 9   sex             32561 non-null  object\n",
      " 10  capital_gain    32561 non-null  int64 \n",
      " 11  capital_loss    32561 non-null  int64 \n",
      " 12  hours_per_week  32561 non-null  int64 \n",
      " 13  native_country  32561 non-null  object\n",
      " 14  income          32561 non-null  object\n",
      "dtypes: int64(6), object(9)\n",
      "memory usage: 3.7+ MB\n"
     ]
    }
   ],
   "source": [
    "df.info()"
   ]
  },
  {
   "cell_type": "markdown",
   "id": "7c138880-8e6e-49c2-95f9-01ebdd41b2d1",
   "metadata": {},
   "source": [
    "### checking for missing values"
   ]
  },
  {
   "cell_type": "code",
   "execution_count": 9,
   "id": "91bccdfe-d7b9-4e64-b009-1dda2554e51f",
   "metadata": {
    "scrolled": true
   },
   "outputs": [
    {
     "data": {
      "text/plain": [
       "age               0\n",
       "workclass         0\n",
       "fnlwgt            0\n",
       "education         0\n",
       "education_num     0\n",
       "marital_status    0\n",
       "occupation        0\n",
       "relationship      0\n",
       "race              0\n",
       "sex               0\n",
       "capital_gain      0\n",
       "capital_loss      0\n",
       "hours_per_week    0\n",
       "native_country    0\n",
       "income            0\n",
       "dtype: int64"
      ]
     },
     "execution_count": 9,
     "metadata": {},
     "output_type": "execute_result"
    }
   ],
   "source": [
    "df.isnull().sum()"
   ]
  },
  {
   "cell_type": "markdown",
   "id": "e13f8323-0991-4216-b2ed-9a26699181f2",
   "metadata": {},
   "source": [
    "### checking for duplicates"
   ]
  },
  {
   "cell_type": "code",
   "execution_count": 10,
   "id": "3ca4de07-6d92-43d8-b887-1ed1b2ea57c7",
   "metadata": {},
   "outputs": [
    {
     "data": {
      "text/html": [
       "<div>\n",
       "<style scoped>\n",
       "    .dataframe tbody tr th:only-of-type {\n",
       "        vertical-align: middle;\n",
       "    }\n",
       "\n",
       "    .dataframe tbody tr th {\n",
       "        vertical-align: top;\n",
       "    }\n",
       "\n",
       "    .dataframe thead th {\n",
       "        text-align: right;\n",
       "    }\n",
       "</style>\n",
       "<table border=\"1\" class=\"dataframe\">\n",
       "  <thead>\n",
       "    <tr style=\"text-align: right;\">\n",
       "      <th></th>\n",
       "      <th>age</th>\n",
       "      <th>workclass</th>\n",
       "      <th>fnlwgt</th>\n",
       "      <th>education</th>\n",
       "      <th>education_num</th>\n",
       "      <th>marital_status</th>\n",
       "      <th>occupation</th>\n",
       "      <th>relationship</th>\n",
       "      <th>race</th>\n",
       "      <th>sex</th>\n",
       "      <th>capital_gain</th>\n",
       "      <th>capital_loss</th>\n",
       "      <th>hours_per_week</th>\n",
       "      <th>native_country</th>\n",
       "      <th>income</th>\n",
       "    </tr>\n",
       "  </thead>\n",
       "  <tbody>\n",
       "    <tr>\n",
       "      <th>4881</th>\n",
       "      <td>25</td>\n",
       "      <td>Private</td>\n",
       "      <td>308144</td>\n",
       "      <td>Bachelors</td>\n",
       "      <td>13</td>\n",
       "      <td>Never-married</td>\n",
       "      <td>Craft-repair</td>\n",
       "      <td>Not-in-family</td>\n",
       "      <td>White</td>\n",
       "      <td>Male</td>\n",
       "      <td>0</td>\n",
       "      <td>0</td>\n",
       "      <td>40</td>\n",
       "      <td>Mexico</td>\n",
       "      <td>&lt;=50K</td>\n",
       "    </tr>\n",
       "    <tr>\n",
       "      <th>5104</th>\n",
       "      <td>90</td>\n",
       "      <td>Private</td>\n",
       "      <td>52386</td>\n",
       "      <td>Some-college</td>\n",
       "      <td>10</td>\n",
       "      <td>Never-married</td>\n",
       "      <td>Other-service</td>\n",
       "      <td>Not-in-family</td>\n",
       "      <td>Asian-Pac-Islander</td>\n",
       "      <td>Male</td>\n",
       "      <td>0</td>\n",
       "      <td>0</td>\n",
       "      <td>35</td>\n",
       "      <td>United-States</td>\n",
       "      <td>&lt;=50K</td>\n",
       "    </tr>\n",
       "    <tr>\n",
       "      <th>9171</th>\n",
       "      <td>21</td>\n",
       "      <td>Private</td>\n",
       "      <td>250051</td>\n",
       "      <td>Some-college</td>\n",
       "      <td>10</td>\n",
       "      <td>Never-married</td>\n",
       "      <td>Prof-specialty</td>\n",
       "      <td>Own-child</td>\n",
       "      <td>White</td>\n",
       "      <td>Female</td>\n",
       "      <td>0</td>\n",
       "      <td>0</td>\n",
       "      <td>10</td>\n",
       "      <td>United-States</td>\n",
       "      <td>&lt;=50K</td>\n",
       "    </tr>\n",
       "    <tr>\n",
       "      <th>11631</th>\n",
       "      <td>20</td>\n",
       "      <td>Private</td>\n",
       "      <td>107658</td>\n",
       "      <td>Some-college</td>\n",
       "      <td>10</td>\n",
       "      <td>Never-married</td>\n",
       "      <td>Tech-support</td>\n",
       "      <td>Not-in-family</td>\n",
       "      <td>White</td>\n",
       "      <td>Female</td>\n",
       "      <td>0</td>\n",
       "      <td>0</td>\n",
       "      <td>10</td>\n",
       "      <td>United-States</td>\n",
       "      <td>&lt;=50K</td>\n",
       "    </tr>\n",
       "    <tr>\n",
       "      <th>13084</th>\n",
       "      <td>25</td>\n",
       "      <td>Private</td>\n",
       "      <td>195994</td>\n",
       "      <td>1st-4th</td>\n",
       "      <td>2</td>\n",
       "      <td>Never-married</td>\n",
       "      <td>Priv-house-serv</td>\n",
       "      <td>Not-in-family</td>\n",
       "      <td>White</td>\n",
       "      <td>Female</td>\n",
       "      <td>0</td>\n",
       "      <td>0</td>\n",
       "      <td>40</td>\n",
       "      <td>Guatemala</td>\n",
       "      <td>&lt;=50K</td>\n",
       "    </tr>\n",
       "    <tr>\n",
       "      <th>15059</th>\n",
       "      <td>21</td>\n",
       "      <td>Private</td>\n",
       "      <td>243368</td>\n",
       "      <td>Preschool</td>\n",
       "      <td>1</td>\n",
       "      <td>Never-married</td>\n",
       "      <td>Farming-fishing</td>\n",
       "      <td>Not-in-family</td>\n",
       "      <td>White</td>\n",
       "      <td>Male</td>\n",
       "      <td>0</td>\n",
       "      <td>0</td>\n",
       "      <td>50</td>\n",
       "      <td>Mexico</td>\n",
       "      <td>&lt;=50K</td>\n",
       "    </tr>\n",
       "    <tr>\n",
       "      <th>17040</th>\n",
       "      <td>46</td>\n",
       "      <td>Private</td>\n",
       "      <td>173243</td>\n",
       "      <td>HS-grad</td>\n",
       "      <td>9</td>\n",
       "      <td>Married-civ-spouse</td>\n",
       "      <td>Craft-repair</td>\n",
       "      <td>Husband</td>\n",
       "      <td>White</td>\n",
       "      <td>Male</td>\n",
       "      <td>0</td>\n",
       "      <td>0</td>\n",
       "      <td>40</td>\n",
       "      <td>United-States</td>\n",
       "      <td>&lt;=50K</td>\n",
       "    </tr>\n",
       "    <tr>\n",
       "      <th>18555</th>\n",
       "      <td>30</td>\n",
       "      <td>Private</td>\n",
       "      <td>144593</td>\n",
       "      <td>HS-grad</td>\n",
       "      <td>9</td>\n",
       "      <td>Never-married</td>\n",
       "      <td>Other-service</td>\n",
       "      <td>Not-in-family</td>\n",
       "      <td>Black</td>\n",
       "      <td>Male</td>\n",
       "      <td>0</td>\n",
       "      <td>0</td>\n",
       "      <td>40</td>\n",
       "      <td>?</td>\n",
       "      <td>&lt;=50K</td>\n",
       "    </tr>\n",
       "    <tr>\n",
       "      <th>18698</th>\n",
       "      <td>19</td>\n",
       "      <td>Private</td>\n",
       "      <td>97261</td>\n",
       "      <td>HS-grad</td>\n",
       "      <td>9</td>\n",
       "      <td>Never-married</td>\n",
       "      <td>Farming-fishing</td>\n",
       "      <td>Not-in-family</td>\n",
       "      <td>White</td>\n",
       "      <td>Male</td>\n",
       "      <td>0</td>\n",
       "      <td>0</td>\n",
       "      <td>40</td>\n",
       "      <td>United-States</td>\n",
       "      <td>&lt;=50K</td>\n",
       "    </tr>\n",
       "    <tr>\n",
       "      <th>21318</th>\n",
       "      <td>19</td>\n",
       "      <td>Private</td>\n",
       "      <td>138153</td>\n",
       "      <td>Some-college</td>\n",
       "      <td>10</td>\n",
       "      <td>Never-married</td>\n",
       "      <td>Adm-clerical</td>\n",
       "      <td>Own-child</td>\n",
       "      <td>White</td>\n",
       "      <td>Female</td>\n",
       "      <td>0</td>\n",
       "      <td>0</td>\n",
       "      <td>10</td>\n",
       "      <td>United-States</td>\n",
       "      <td>&lt;=50K</td>\n",
       "    </tr>\n",
       "    <tr>\n",
       "      <th>21490</th>\n",
       "      <td>19</td>\n",
       "      <td>Private</td>\n",
       "      <td>146679</td>\n",
       "      <td>Some-college</td>\n",
       "      <td>10</td>\n",
       "      <td>Never-married</td>\n",
       "      <td>Exec-managerial</td>\n",
       "      <td>Own-child</td>\n",
       "      <td>Black</td>\n",
       "      <td>Male</td>\n",
       "      <td>0</td>\n",
       "      <td>0</td>\n",
       "      <td>30</td>\n",
       "      <td>United-States</td>\n",
       "      <td>&lt;=50K</td>\n",
       "    </tr>\n",
       "    <tr>\n",
       "      <th>21875</th>\n",
       "      <td>49</td>\n",
       "      <td>Private</td>\n",
       "      <td>31267</td>\n",
       "      <td>7th-8th</td>\n",
       "      <td>4</td>\n",
       "      <td>Married-civ-spouse</td>\n",
       "      <td>Craft-repair</td>\n",
       "      <td>Husband</td>\n",
       "      <td>White</td>\n",
       "      <td>Male</td>\n",
       "      <td>0</td>\n",
       "      <td>0</td>\n",
       "      <td>40</td>\n",
       "      <td>United-States</td>\n",
       "      <td>&lt;=50K</td>\n",
       "    </tr>\n",
       "    <tr>\n",
       "      <th>22300</th>\n",
       "      <td>25</td>\n",
       "      <td>Private</td>\n",
       "      <td>195994</td>\n",
       "      <td>1st-4th</td>\n",
       "      <td>2</td>\n",
       "      <td>Never-married</td>\n",
       "      <td>Priv-house-serv</td>\n",
       "      <td>Not-in-family</td>\n",
       "      <td>White</td>\n",
       "      <td>Female</td>\n",
       "      <td>0</td>\n",
       "      <td>0</td>\n",
       "      <td>40</td>\n",
       "      <td>Guatemala</td>\n",
       "      <td>&lt;=50K</td>\n",
       "    </tr>\n",
       "    <tr>\n",
       "      <th>22367</th>\n",
       "      <td>44</td>\n",
       "      <td>Private</td>\n",
       "      <td>367749</td>\n",
       "      <td>Bachelors</td>\n",
       "      <td>13</td>\n",
       "      <td>Never-married</td>\n",
       "      <td>Prof-specialty</td>\n",
       "      <td>Not-in-family</td>\n",
       "      <td>White</td>\n",
       "      <td>Female</td>\n",
       "      <td>0</td>\n",
       "      <td>0</td>\n",
       "      <td>45</td>\n",
       "      <td>Mexico</td>\n",
       "      <td>&lt;=50K</td>\n",
       "    </tr>\n",
       "    <tr>\n",
       "      <th>22494</th>\n",
       "      <td>49</td>\n",
       "      <td>Self-emp-not-inc</td>\n",
       "      <td>43479</td>\n",
       "      <td>Some-college</td>\n",
       "      <td>10</td>\n",
       "      <td>Married-civ-spouse</td>\n",
       "      <td>Craft-repair</td>\n",
       "      <td>Husband</td>\n",
       "      <td>White</td>\n",
       "      <td>Male</td>\n",
       "      <td>0</td>\n",
       "      <td>0</td>\n",
       "      <td>40</td>\n",
       "      <td>United-States</td>\n",
       "      <td>&lt;=50K</td>\n",
       "    </tr>\n",
       "    <tr>\n",
       "      <th>25872</th>\n",
       "      <td>23</td>\n",
       "      <td>Private</td>\n",
       "      <td>240137</td>\n",
       "      <td>5th-6th</td>\n",
       "      <td>3</td>\n",
       "      <td>Never-married</td>\n",
       "      <td>Handlers-cleaners</td>\n",
       "      <td>Not-in-family</td>\n",
       "      <td>White</td>\n",
       "      <td>Male</td>\n",
       "      <td>0</td>\n",
       "      <td>0</td>\n",
       "      <td>55</td>\n",
       "      <td>Mexico</td>\n",
       "      <td>&lt;=50K</td>\n",
       "    </tr>\n",
       "    <tr>\n",
       "      <th>26313</th>\n",
       "      <td>28</td>\n",
       "      <td>Private</td>\n",
       "      <td>274679</td>\n",
       "      <td>Masters</td>\n",
       "      <td>14</td>\n",
       "      <td>Never-married</td>\n",
       "      <td>Prof-specialty</td>\n",
       "      <td>Not-in-family</td>\n",
       "      <td>White</td>\n",
       "      <td>Male</td>\n",
       "      <td>0</td>\n",
       "      <td>0</td>\n",
       "      <td>50</td>\n",
       "      <td>United-States</td>\n",
       "      <td>&lt;=50K</td>\n",
       "    </tr>\n",
       "    <tr>\n",
       "      <th>28230</th>\n",
       "      <td>27</td>\n",
       "      <td>Private</td>\n",
       "      <td>255582</td>\n",
       "      <td>HS-grad</td>\n",
       "      <td>9</td>\n",
       "      <td>Never-married</td>\n",
       "      <td>Machine-op-inspct</td>\n",
       "      <td>Not-in-family</td>\n",
       "      <td>White</td>\n",
       "      <td>Female</td>\n",
       "      <td>0</td>\n",
       "      <td>0</td>\n",
       "      <td>40</td>\n",
       "      <td>United-States</td>\n",
       "      <td>&lt;=50K</td>\n",
       "    </tr>\n",
       "    <tr>\n",
       "      <th>28522</th>\n",
       "      <td>42</td>\n",
       "      <td>Private</td>\n",
       "      <td>204235</td>\n",
       "      <td>Some-college</td>\n",
       "      <td>10</td>\n",
       "      <td>Married-civ-spouse</td>\n",
       "      <td>Prof-specialty</td>\n",
       "      <td>Husband</td>\n",
       "      <td>White</td>\n",
       "      <td>Male</td>\n",
       "      <td>0</td>\n",
       "      <td>0</td>\n",
       "      <td>40</td>\n",
       "      <td>United-States</td>\n",
       "      <td>&gt;50K</td>\n",
       "    </tr>\n",
       "    <tr>\n",
       "      <th>28846</th>\n",
       "      <td>39</td>\n",
       "      <td>Private</td>\n",
       "      <td>30916</td>\n",
       "      <td>HS-grad</td>\n",
       "      <td>9</td>\n",
       "      <td>Married-civ-spouse</td>\n",
       "      <td>Craft-repair</td>\n",
       "      <td>Husband</td>\n",
       "      <td>White</td>\n",
       "      <td>Male</td>\n",
       "      <td>0</td>\n",
       "      <td>0</td>\n",
       "      <td>40</td>\n",
       "      <td>United-States</td>\n",
       "      <td>&lt;=50K</td>\n",
       "    </tr>\n",
       "    <tr>\n",
       "      <th>29157</th>\n",
       "      <td>38</td>\n",
       "      <td>Private</td>\n",
       "      <td>207202</td>\n",
       "      <td>HS-grad</td>\n",
       "      <td>9</td>\n",
       "      <td>Married-civ-spouse</td>\n",
       "      <td>Machine-op-inspct</td>\n",
       "      <td>Husband</td>\n",
       "      <td>White</td>\n",
       "      <td>Male</td>\n",
       "      <td>0</td>\n",
       "      <td>0</td>\n",
       "      <td>48</td>\n",
       "      <td>United-States</td>\n",
       "      <td>&gt;50K</td>\n",
       "    </tr>\n",
       "    <tr>\n",
       "      <th>30845</th>\n",
       "      <td>46</td>\n",
       "      <td>Private</td>\n",
       "      <td>133616</td>\n",
       "      <td>Some-college</td>\n",
       "      <td>10</td>\n",
       "      <td>Divorced</td>\n",
       "      <td>Adm-clerical</td>\n",
       "      <td>Unmarried</td>\n",
       "      <td>White</td>\n",
       "      <td>Female</td>\n",
       "      <td>0</td>\n",
       "      <td>0</td>\n",
       "      <td>40</td>\n",
       "      <td>United-States</td>\n",
       "      <td>&lt;=50K</td>\n",
       "    </tr>\n",
       "    <tr>\n",
       "      <th>31993</th>\n",
       "      <td>19</td>\n",
       "      <td>Private</td>\n",
       "      <td>251579</td>\n",
       "      <td>Some-college</td>\n",
       "      <td>10</td>\n",
       "      <td>Never-married</td>\n",
       "      <td>Other-service</td>\n",
       "      <td>Own-child</td>\n",
       "      <td>White</td>\n",
       "      <td>Male</td>\n",
       "      <td>0</td>\n",
       "      <td>0</td>\n",
       "      <td>14</td>\n",
       "      <td>United-States</td>\n",
       "      <td>&lt;=50K</td>\n",
       "    </tr>\n",
       "    <tr>\n",
       "      <th>32404</th>\n",
       "      <td>35</td>\n",
       "      <td>Private</td>\n",
       "      <td>379959</td>\n",
       "      <td>HS-grad</td>\n",
       "      <td>9</td>\n",
       "      <td>Divorced</td>\n",
       "      <td>Other-service</td>\n",
       "      <td>Not-in-family</td>\n",
       "      <td>White</td>\n",
       "      <td>Female</td>\n",
       "      <td>0</td>\n",
       "      <td>0</td>\n",
       "      <td>40</td>\n",
       "      <td>United-States</td>\n",
       "      <td>&lt;=50K</td>\n",
       "    </tr>\n",
       "  </tbody>\n",
       "</table>\n",
       "</div>"
      ],
      "text/plain": [
       "       age          workclass  fnlwgt      education  education_num  \\\n",
       "4881    25            Private  308144      Bachelors             13   \n",
       "5104    90            Private   52386   Some-college             10   \n",
       "9171    21            Private  250051   Some-college             10   \n",
       "11631   20            Private  107658   Some-college             10   \n",
       "13084   25            Private  195994        1st-4th              2   \n",
       "15059   21            Private  243368      Preschool              1   \n",
       "17040   46            Private  173243        HS-grad              9   \n",
       "18555   30            Private  144593        HS-grad              9   \n",
       "18698   19            Private   97261        HS-grad              9   \n",
       "21318   19            Private  138153   Some-college             10   \n",
       "21490   19            Private  146679   Some-college             10   \n",
       "21875   49            Private   31267        7th-8th              4   \n",
       "22300   25            Private  195994        1st-4th              2   \n",
       "22367   44            Private  367749      Bachelors             13   \n",
       "22494   49   Self-emp-not-inc   43479   Some-college             10   \n",
       "25872   23            Private  240137        5th-6th              3   \n",
       "26313   28            Private  274679        Masters             14   \n",
       "28230   27            Private  255582        HS-grad              9   \n",
       "28522   42            Private  204235   Some-college             10   \n",
       "28846   39            Private   30916        HS-grad              9   \n",
       "29157   38            Private  207202        HS-grad              9   \n",
       "30845   46            Private  133616   Some-college             10   \n",
       "31993   19            Private  251579   Some-college             10   \n",
       "32404   35            Private  379959        HS-grad              9   \n",
       "\n",
       "            marital_status          occupation    relationship  \\\n",
       "4881         Never-married        Craft-repair   Not-in-family   \n",
       "5104         Never-married       Other-service   Not-in-family   \n",
       "9171         Never-married      Prof-specialty       Own-child   \n",
       "11631        Never-married        Tech-support   Not-in-family   \n",
       "13084        Never-married     Priv-house-serv   Not-in-family   \n",
       "15059        Never-married     Farming-fishing   Not-in-family   \n",
       "17040   Married-civ-spouse        Craft-repair         Husband   \n",
       "18555        Never-married       Other-service   Not-in-family   \n",
       "18698        Never-married     Farming-fishing   Not-in-family   \n",
       "21318        Never-married        Adm-clerical       Own-child   \n",
       "21490        Never-married     Exec-managerial       Own-child   \n",
       "21875   Married-civ-spouse        Craft-repair         Husband   \n",
       "22300        Never-married     Priv-house-serv   Not-in-family   \n",
       "22367        Never-married      Prof-specialty   Not-in-family   \n",
       "22494   Married-civ-spouse        Craft-repair         Husband   \n",
       "25872        Never-married   Handlers-cleaners   Not-in-family   \n",
       "26313        Never-married      Prof-specialty   Not-in-family   \n",
       "28230        Never-married   Machine-op-inspct   Not-in-family   \n",
       "28522   Married-civ-spouse      Prof-specialty         Husband   \n",
       "28846   Married-civ-spouse        Craft-repair         Husband   \n",
       "29157   Married-civ-spouse   Machine-op-inspct         Husband   \n",
       "30845             Divorced        Adm-clerical       Unmarried   \n",
       "31993        Never-married       Other-service       Own-child   \n",
       "32404             Divorced       Other-service   Not-in-family   \n",
       "\n",
       "                      race      sex  capital_gain  capital_loss  \\\n",
       "4881                 White     Male             0             0   \n",
       "5104    Asian-Pac-Islander     Male             0             0   \n",
       "9171                 White   Female             0             0   \n",
       "11631                White   Female             0             0   \n",
       "13084                White   Female             0             0   \n",
       "15059                White     Male             0             0   \n",
       "17040                White     Male             0             0   \n",
       "18555                Black     Male             0             0   \n",
       "18698                White     Male             0             0   \n",
       "21318                White   Female             0             0   \n",
       "21490                Black     Male             0             0   \n",
       "21875                White     Male             0             0   \n",
       "22300                White   Female             0             0   \n",
       "22367                White   Female             0             0   \n",
       "22494                White     Male             0             0   \n",
       "25872                White     Male             0             0   \n",
       "26313                White     Male             0             0   \n",
       "28230                White   Female             0             0   \n",
       "28522                White     Male             0             0   \n",
       "28846                White     Male             0             0   \n",
       "29157                White     Male             0             0   \n",
       "30845                White   Female             0             0   \n",
       "31993                White     Male             0             0   \n",
       "32404                White   Female             0             0   \n",
       "\n",
       "       hours_per_week  native_country  income  \n",
       "4881               40          Mexico   <=50K  \n",
       "5104               35   United-States   <=50K  \n",
       "9171               10   United-States   <=50K  \n",
       "11631              10   United-States   <=50K  \n",
       "13084              40       Guatemala   <=50K  \n",
       "15059              50          Mexico   <=50K  \n",
       "17040              40   United-States   <=50K  \n",
       "18555              40               ?   <=50K  \n",
       "18698              40   United-States   <=50K  \n",
       "21318              10   United-States   <=50K  \n",
       "21490              30   United-States   <=50K  \n",
       "21875              40   United-States   <=50K  \n",
       "22300              40       Guatemala   <=50K  \n",
       "22367              45          Mexico   <=50K  \n",
       "22494              40   United-States   <=50K  \n",
       "25872              55          Mexico   <=50K  \n",
       "26313              50   United-States   <=50K  \n",
       "28230              40   United-States   <=50K  \n",
       "28522              40   United-States    >50K  \n",
       "28846              40   United-States   <=50K  \n",
       "29157              48   United-States    >50K  \n",
       "30845              40   United-States   <=50K  \n",
       "31993              14   United-States   <=50K  \n",
       "32404              40   United-States   <=50K  "
      ]
     },
     "execution_count": 10,
     "metadata": {},
     "output_type": "execute_result"
    }
   ],
   "source": [
    "df[df.duplicated()]"
   ]
  },
  {
   "cell_type": "markdown",
   "id": "e94efcd7-5f44-4992-a5ff-01a357e07ae3",
   "metadata": {},
   "source": [
    "### removing duplicates"
   ]
  },
  {
   "cell_type": "code",
   "execution_count": 11,
   "id": "498e9615-71bf-4b31-b6f9-01108c2edb2e",
   "metadata": {},
   "outputs": [],
   "source": [
    "df=df.drop_duplicates()"
   ]
  },
  {
   "cell_type": "code",
   "execution_count": 12,
   "id": "9985d754-d2dc-444e-820f-6b8b9d2ca8c2",
   "metadata": {},
   "outputs": [
    {
     "data": {
      "text/html": [
       "<div>\n",
       "<style scoped>\n",
       "    .dataframe tbody tr th:only-of-type {\n",
       "        vertical-align: middle;\n",
       "    }\n",
       "\n",
       "    .dataframe tbody tr th {\n",
       "        vertical-align: top;\n",
       "    }\n",
       "\n",
       "    .dataframe thead th {\n",
       "        text-align: right;\n",
       "    }\n",
       "</style>\n",
       "<table border=\"1\" class=\"dataframe\">\n",
       "  <thead>\n",
       "    <tr style=\"text-align: right;\">\n",
       "      <th></th>\n",
       "      <th>age</th>\n",
       "      <th>workclass</th>\n",
       "      <th>fnlwgt</th>\n",
       "      <th>education</th>\n",
       "      <th>education_num</th>\n",
       "      <th>marital_status</th>\n",
       "      <th>occupation</th>\n",
       "      <th>relationship</th>\n",
       "      <th>race</th>\n",
       "      <th>sex</th>\n",
       "      <th>capital_gain</th>\n",
       "      <th>capital_loss</th>\n",
       "      <th>hours_per_week</th>\n",
       "      <th>native_country</th>\n",
       "      <th>income</th>\n",
       "    </tr>\n",
       "  </thead>\n",
       "  <tbody>\n",
       "  </tbody>\n",
       "</table>\n",
       "</div>"
      ],
      "text/plain": [
       "Empty DataFrame\n",
       "Columns: [age, workclass, fnlwgt, education, education_num, marital_status, occupation, relationship, race, sex, capital_gain, capital_loss, hours_per_week, native_country, income]\n",
       "Index: []"
      ]
     },
     "execution_count": 12,
     "metadata": {},
     "output_type": "execute_result"
    }
   ],
   "source": [
    "df[df.duplicated()]"
   ]
  },
  {
   "cell_type": "code",
   "execution_count": 13,
   "id": "154f1e93-999d-4045-8b30-b4586df6fcec",
   "metadata": {},
   "outputs": [
    {
     "data": {
      "text/plain": [
       "age                  73\n",
       "workclass             9\n",
       "fnlwgt            21648\n",
       "education            16\n",
       "education_num        16\n",
       "marital_status        7\n",
       "occupation           15\n",
       "relationship          6\n",
       "race                  5\n",
       "sex                   2\n",
       "capital_gain        119\n",
       "capital_loss         92\n",
       "hours_per_week       94\n",
       "native_country       42\n",
       "income                2\n",
       "dtype: int64"
      ]
     },
     "execution_count": 13,
     "metadata": {},
     "output_type": "execute_result"
    }
   ],
   "source": [
    "df.nunique()"
   ]
  },
  {
   "cell_type": "code",
   "execution_count": 14,
   "id": "85c561d3-0d36-4ae6-945c-578a0b077a5e",
   "metadata": {},
   "outputs": [
    {
     "data": {
      "text/plain": [
       "income\n",
       " <=50K    24698\n",
       " >50K      7839\n",
       "Name: count, dtype: int64"
      ]
     },
     "execution_count": 14,
     "metadata": {},
     "output_type": "execute_result"
    }
   ],
   "source": [
    "df['income'].value_counts()"
   ]
  },
  {
   "cell_type": "markdown",
   "id": "b037e0a7-aa26-4d2d-8c08-411b19fa1f7b",
   "metadata": {},
   "source": [
    "### target feature value is imbalance"
   ]
  },
  {
   "cell_type": "code",
   "execution_count": 15,
   "id": "28418c48-c725-4a18-a457-8950b04c5c34",
   "metadata": {},
   "outputs": [
    {
     "data": {
      "text/plain": [
       "<Axes: xlabel='income', ylabel='count'>"
      ]
     },
     "execution_count": 15,
     "metadata": {},
     "output_type": "execute_result"
    },
    {
     "data": {
      "image/png": "[encoded data removed]",
      "text/plain": [
       "<Figure size 640x480 with 1 Axes>"
      ]
     },
     "metadata": {},
     "output_type": "display_data"
    }
   ],
   "source": [
    "sns.countplot(data=df,x='income')"
   ]
  },
  {
   "cell_type": "markdown",
   "id": "d265356f-a9bf-4bf6-b43d-2dcc1cc26e0b",
   "metadata": {},
   "source": [
    "## divide the features in numerical feature and categorical features"
   ]
  },
  {
   "cell_type": "markdown",
   "id": "d79221b8-77d7-49e1-a181-ba5f7218f3fe",
   "metadata": {},
   "source": [
    "### numerical features"
   ]
  },
  {
   "cell_type": "code",
   "execution_count": 16,
   "id": "26680c9a-bb8c-40b6-a597-c53cbdefea0b",
   "metadata": {},
   "outputs": [
    {
     "data": {
      "text/plain": [
       "['age',\n",
       " 'fnlwgt',\n",
       " 'education_num',\n",
       " 'capital_gain',\n",
       " 'capital_loss',\n",
       " 'hours_per_week']"
      ]
     },
     "execution_count": 16,
     "metadata": {},
     "output_type": "execute_result"
    }
   ],
   "source": [
    "numerical_feature=[i for i in df.columns if df[i].dtype!='O']\n",
    "numerical_feature"
   ]
  },
  {
   "cell_type": "markdown",
   "id": "25b07d28-3ad3-43a5-8ff0-696ce2b87eb5",
   "metadata": {},
   "source": [
    "### visualization of numerical feature"
   ]
  },
  {
   "cell_type": "code",
   "execution_count": 17,
   "id": "946b0fdd-b6f2-43b5-a03d-38763210c8c5",
   "metadata": {
    "scrolled": true
   },
   "outputs": [
    {
     "data": {
      "image/png": "[encoded data removed]",
      "text/plain": [
       "<Figure size 640x480 with 1 Axes>"
      ]
     },
     "metadata": {},
     "output_type": "display_data"
    },
    {
     "data": {
      "image/png": "[encoded data removed]",
      "text/plain": [
       "<Figure size 640x480 with 1 Axes>"
      ]
     },
     "metadata": {},
     "output_type": "display_data"
    },
    {
     "data": {
      "image/png": "[encoded data removed]",
      "text/plain": [
       "<Figure size 640x480 with 1 Axes>"
      ]
     },
     "metadata": {},
     "output_type": "display_data"
    },
    {
     "data": {
      "image/png": "[encoded data removed]",
      "text/plain": [
       "<Figure size 640x480 with 1 Axes>"
      ]
     },
     "metadata": {},
     "output_type": "display_data"
    },
    {
     "data": {
      "image/png": "[encoded data removed]",
      "text/plain": [
       "<Figure size 640x480 with 1 Axes>"
      ]
     },
     "metadata": {},
     "output_type": "display_data"
    },
    {
     "data": {
      "image/png": "[encoded data removed]",
      "text/plain": [
       "<Figure size 640x480 with 1 Axes>"
      ]
     },
     "metadata": {},
     "output_type": "display_data"
    }
   ],
   "source": [
    "for feature in numerical_feature:\n",
    "    bar=sns.distplot(df[feature],kde_kws={'bw':1})\n",
    "    bar.legend(['skewness:{:0,2f}',format(df[feature].skew())])\n",
    "    plt.xlabel(feature)\n",
    "    plt.ylabel('probability density')\n",
    "    plt.title(feature)\n",
    "    plt.show()"
   ]
  },
  {
   "cell_type": "markdown",
   "id": "2d0bf3fa-e604-4dc8-be8a-b88161c5726a",
   "metadata": {},
   "source": [
    "### observation :\n",
    " in this numerical features visual we observed that the 'age' feature is  0.55  right skewwed, and feature 'fnlwgt' is 1.44 right skewwed"
   ]
  },
  {
   "cell_type": "markdown",
   "id": "ab988ed4-8a72-483c-81ae-6a5c00dbfa62",
   "metadata": {},
   "source": [
    "### log transformation for reduce skewwness"
   ]
  },
  {
   "cell_type": "code",
   "execution_count": 18,
   "id": "79a1b9af-8e4b-46f4-843e-d202a2a9fd0c",
   "metadata": {},
   "outputs": [],
   "source": [
    "df['age']=np.log(df['age'])\n",
    "df['fnlwgt']=np.log(df['fnlwgt'])"
   ]
  },
  {
   "cell_type": "code",
   "execution_count": 19,
   "id": "429fe41a-c356-4749-a7fe-7eedcfee3aa4",
   "metadata": {},
   "outputs": [],
   "source": [
    "from sklearn.preprocessing import StandardScaler,MinMaxScaler"
   ]
  },
  {
   "cell_type": "code",
   "execution_count": 20,
   "id": "56e3e284-1f69-4b2e-b22d-6fb9af02ec5f",
   "metadata": {},
   "outputs": [],
   "source": [
    "# Standard Scaling\n",
    "standard_scaler = StandardScaler()\n",
    "df_standard_scaled = df.copy()\n",
    "df_standard_scaled[numerical_feature] = standard_scaler.fit_transform(df_standard_scaled[numerical_feature])\n",
    "\n",
    "# Min-Max Scaling\n",
    "min_max_scaler = MinMaxScaler()\n",
    "df_min_max_scaled = df.copy()\n",
    "df_min_max_scaled[numerical_feature] = min_max_scaler.fit_transform(df_min_max_scaled[numerical_feature])"
   ]
  },
  {
   "cell_type": "markdown",
   "id": "949d0e15-2399-4f86-ae4f-eb68a61900a5",
   "metadata": {},
   "source": [
    "## categorical features"
   ]
  },
  {
   "cell_type": "code",
   "execution_count": 21,
   "id": "6fbcf329-457c-4209-9afc-63111f155c0f",
   "metadata": {},
   "outputs": [
    {
     "data": {
      "text/plain": [
       "['workclass',\n",
       " 'education',\n",
       " 'marital_status',\n",
       " 'occupation',\n",
       " 'relationship',\n",
       " 'race',\n",
       " 'sex',\n",
       " 'native_country',\n",
       " 'income']"
      ]
     },
     "execution_count": 21,
     "metadata": {},
     "output_type": "execute_result"
    }
   ],
   "source": [
    "categorical_feature=[i for i in df.columns if df[i].dtype=='O']\n",
    "categorical_feature"
   ]
  },
  {
   "cell_type": "markdown",
   "id": "57550252-122a-4ca1-8711-fc95d99256ad",
   "metadata": {},
   "source": [
    "### handling categorical data"
   ]
  },
  {
   "cell_type": "code",
   "execution_count": 22,
   "id": "6b5f5d22-1612-4f71-993a-c412d28a8bcc",
   "metadata": {},
   "outputs": [
    {
     "name": "stdout",
     "output_type": "stream",
     "text": [
      "workclass\n",
      " Private             22673\n",
      " Self-emp-not-inc     2540\n",
      " Local-gov            2093\n",
      " ?                    1836\n",
      " State-gov            1298\n",
      " Self-emp-inc         1116\n",
      " Federal-gov           960\n",
      " Without-pay            14\n",
      " Never-worked            7\n",
      "Name: count, dtype: int64\n",
      "\n",
      "\n",
      "\n",
      "education\n",
      " HS-grad         10494\n",
      " Some-college     7282\n",
      " Bachelors        5353\n",
      " Masters          1722\n",
      " Assoc-voc        1382\n",
      " 11th             1175\n",
      " Assoc-acdm       1067\n",
      " 10th              933\n",
      " 7th-8th           645\n",
      " Prof-school       576\n",
      " 9th               514\n",
      " 12th              433\n",
      " Doctorate         413\n",
      " 5th-6th           332\n",
      " 1st-4th           166\n",
      " Preschool          50\n",
      "Name: count, dtype: int64\n",
      "\n",
      "\n",
      "\n",
      "marital_status\n",
      " Married-civ-spouse       14970\n",
      " Never-married            10667\n",
      " Divorced                  4441\n",
      " Separated                 1025\n",
      " Widowed                    993\n",
      " Married-spouse-absent      418\n",
      " Married-AF-spouse           23\n",
      "Name: count, dtype: int64\n",
      "\n",
      "\n",
      "\n",
      "occupation\n",
      " Prof-specialty       4136\n",
      " Craft-repair         4094\n",
      " Exec-managerial      4065\n",
      " Adm-clerical         3768\n",
      " Sales                3650\n",
      " Other-service        3291\n",
      " Machine-op-inspct    2000\n",
      " ?                    1843\n",
      " Transport-moving     1597\n",
      " Handlers-cleaners    1369\n",
      " Farming-fishing       992\n",
      " Tech-support          927\n",
      " Protective-serv       649\n",
      " Priv-house-serv       147\n",
      " Armed-Forces            9\n",
      "Name: count, dtype: int64\n",
      "\n",
      "\n",
      "\n",
      "relationship\n",
      " Husband           13187\n",
      " Not-in-family      8292\n",
      " Own-child          5064\n",
      " Unmarried          3445\n",
      " Wife               1568\n",
      " Other-relative      981\n",
      "Name: count, dtype: int64\n",
      "\n",
      "\n",
      "\n",
      "race\n",
      " White                 27795\n",
      " Black                  3122\n",
      " Asian-Pac-Islander     1038\n",
      " Amer-Indian-Eskimo      311\n",
      " Other                   271\n",
      "Name: count, dtype: int64\n",
      "\n",
      "\n",
      "\n",
      "sex\n",
      " Male      21775\n",
      " Female    10762\n",
      "Name: count, dtype: int64\n",
      "\n",
      "\n",
      "\n",
      "native_country\n",
      " United-States                 29153\n",
      " Mexico                          639\n",
      " ?                               582\n",
      " Philippines                     198\n",
      " Germany                         137\n",
      " Canada                          121\n",
      " Puerto-Rico                     114\n",
      " El-Salvador                     106\n",
      " India                           100\n",
      " Cuba                             95\n",
      " England                          90\n",
      " Jamaica                          81\n",
      " South                            80\n",
      " China                            75\n",
      " Italy                            73\n",
      " Dominican-Republic               70\n",
      " Vietnam                          67\n",
      " Japan                            62\n",
      " Guatemala                        62\n",
      " Poland                           60\n",
      " Columbia                         59\n",
      " Taiwan                           51\n",
      " Haiti                            44\n",
      " Iran                             43\n",
      " Portugal                         37\n",
      " Nicaragua                        34\n",
      " Peru                             31\n",
      " France                           29\n",
      " Greece                           29\n",
      " Ecuador                          28\n",
      " Ireland                          24\n",
      " Hong                             20\n",
      " Cambodia                         19\n",
      " Trinadad&Tobago                  19\n",
      " Laos                             18\n",
      " Thailand                         18\n",
      " Yugoslavia                       16\n",
      " Outlying-US(Guam-USVI-etc)       14\n",
      " Honduras                         13\n",
      " Hungary                          13\n",
      " Scotland                         12\n",
      " Holand-Netherlands                1\n",
      "Name: count, dtype: int64\n",
      "\n",
      "\n",
      "\n",
      "income\n",
      " <=50K    24698\n",
      " >50K      7839\n",
      "Name: count, dtype: int64\n",
      "\n",
      "\n",
      "\n"
     ]
    }
   ],
   "source": [
    "for feature in categorical_feature:\n",
    "    print(df[feature].value_counts())\n",
    "    print('\\n\\n')"
   ]
  },
  {
   "cell_type": "markdown",
   "id": "f0fd5e28-47bf-4ec1-b86e-5d574dc94d85",
   "metadata": {},
   "source": [
    "### observation:\n",
    " we observed some categorical features like: ['workclass','occupation''native_country'] contains missing values as \"?\" we have to handle those missing values by replacing it   "
   ]
  },
  {
   "cell_type": "markdown",
   "id": "3fa10510-797b-46d9-970f-c881b068e10c",
   "metadata": {},
   "source": [
    "## handle missing values in categorical features"
   ]
  },
  {
   "cell_type": "code",
   "execution_count": 23,
   "id": "afd1e12a-8896-4105-b6c5-eefd149ccbea",
   "metadata": {},
   "outputs": [
    {
     "data": {
      "text/plain": [
       "' Private'"
      ]
     },
     "execution_count": 23,
     "metadata": {},
     "output_type": "execute_result"
    }
   ],
   "source": [
    "\n",
    "df['workclass'].mode()[0]"
   ]
  },
  {
   "cell_type": "code",
   "execution_count": 24,
   "id": "5284dc7e-2105-4abc-9d33-c0c19456f285",
   "metadata": {},
   "outputs": [
    {
     "data": {
      "text/plain": [
       "' Prof-specialty'"
      ]
     },
     "execution_count": 24,
     "metadata": {},
     "output_type": "execute_result"
    }
   ],
   "source": [
    "df['occupation'].mode()[0]"
   ]
  },
  {
   "cell_type": "code",
   "execution_count": 25,
   "id": "6d8b97d7-3ec6-47ed-8b18-84c5007ab3d2",
   "metadata": {},
   "outputs": [
    {
     "data": {
      "text/plain": [
       "' United-States'"
      ]
     },
     "execution_count": 25,
     "metadata": {},
     "output_type": "execute_result"
    }
   ],
   "source": [
    "df['native_country'].mode()[0]"
   ]
  },
  {
   "cell_type": "code",
   "execution_count": 26,
   "id": "a49cd36b-ca71-4ab5-a4c6-011fe47658b2",
   "metadata": {},
   "outputs": [],
   "source": [
    "# we replace this missing values  by mode \n",
    "df['workclass']=df['workclass'].str.replace('?',' Private')\n",
    "df['occupation']=df['occupation'].str.replace('?','Prof-specialty')\n",
    "df['native_country']=df['native_country'].str.replace('?','United-States')\n"
   ]
  },
  {
   "cell_type": "markdown",
   "id": "50b5b3e4-7b37-4849-a886-7e1e4c0d367d",
   "metadata": {},
   "source": [
    "#### in categorical features we have more categories so we have to reduce categories"
   ]
  },
  {
   "cell_type": "code",
   "execution_count": 27,
   "id": "382f125c-95f8-46e5-82a9-777d937602ab",
   "metadata": {
    "scrolled": true
   },
   "outputs": [
    {
     "data": {
      "text/plain": [
       "['workclass',\n",
       " 'education',\n",
       " 'marital_status',\n",
       " 'occupation',\n",
       " 'relationship',\n",
       " 'race',\n",
       " 'sex',\n",
       " 'native_country',\n",
       " 'income']"
      ]
     },
     "execution_count": 27,
     "metadata": {},
     "output_type": "execute_result"
    }
   ],
   "source": [
    "categorical_feature"
   ]
  },
  {
   "cell_type": "code",
   "execution_count": 28,
   "id": "06b6c0ff-610b-4fea-971b-9cd7b69c4ac2",
   "metadata": {},
   "outputs": [
    {
     "data": {
      "text/plain": [
       "age                  73\n",
       "workclass             9\n",
       "fnlwgt            21648\n",
       "education            16\n",
       "education_num        16\n",
       "marital_status        7\n",
       "occupation           14\n",
       "relationship          6\n",
       "race                  5\n",
       "sex                   2\n",
       "capital_gain        119\n",
       "capital_loss         92\n",
       "hours_per_week       94\n",
       "native_country       41\n",
       "income                2\n",
       "dtype: int64"
      ]
     },
     "execution_count": 28,
     "metadata": {},
     "output_type": "execute_result"
    }
   ],
   "source": [
    "df.nunique()"
   ]
  },
  {
   "cell_type": "code",
   "execution_count": 29,
   "id": "10980b19-9d84-44b6-8ceb-3d25a290b5e9",
   "metadata": {},
   "outputs": [],
   "source": [
    "# education feature\n",
    "df['education']=df['education'].replace(['Preschool','1st-4th','5th-6th','7th-8th','9th','10th','11th','12th'],'School',regex=True)\n",
    "df['education']=df['education'].replace([ 'Prof-school','Some-college','Assoc-voc','Assoc-acdm'],'Higher',regex=True)"
   ]
  },
  {
   "cell_type": "code",
   "execution_count": 30,
   "id": "8a44ff38-7d3d-44e6-b134-cea3631f19d8",
   "metadata": {},
   "outputs": [
    {
     "data": {
      "text/plain": [
       "education\n",
       " HS-grad      10494\n",
       " Higher       10307\n",
       " Bachelors     5353\n",
       " School        4248\n",
       " Masters       1722\n",
       " Doctorate      413\n",
       "Name: count, dtype: int64"
      ]
     },
     "execution_count": 30,
     "metadata": {},
     "output_type": "execute_result"
    }
   ],
   "source": [
    "df['education'].value_counts()"
   ]
  },
  {
   "cell_type": "code",
   "execution_count": 31,
   "id": "ed45b487-73e1-4fd2-9815-614ccd9f6976",
   "metadata": {},
   "outputs": [],
   "source": [
    "# marital status\n",
    "df['marital_status'].replace(['Divorced','Separated','Widowed','Married-spouse-absent'],'Other',inplace=True,regex=True)"
   ]
  },
  {
   "cell_type": "code",
   "execution_count": 32,
   "id": "36a01a02-4f3d-49db-a4d2-71d81271ac76",
   "metadata": {},
   "outputs": [
    {
     "data": {
      "text/plain": [
       "marital_status\n",
       " Married-civ-spouse    14970\n",
       " Never-married         10667\n",
       " Other                  6877\n",
       " Married-AF-spouse        23\n",
       "Name: count, dtype: int64"
      ]
     },
     "execution_count": 32,
     "metadata": {},
     "output_type": "execute_result"
    }
   ],
   "source": [
    "df['marital_status'].value_counts()"
   ]
  },
  {
   "cell_type": "markdown",
   "id": "0fad949a-e8cd-4ee1-aa19-a9df09f9d2cc",
   "metadata": {},
   "source": [
    "### 2. Encoding Techniques"
   ]
  },
  {
   "cell_type": "markdown",
   "id": "e2a84cd8-0928-43b5-9414-8ca495d4e2ec",
   "metadata": {
    "scrolled": true
   },
   "source": [
    "#### \n",
    "•\tApply One-Hot Encoding to categorical variables with less than 5 categories.                "
   ]
  },
  {
   "cell_type": "code",
   "execution_count": 33,
   "id": "871ac50f-4874-4e36-a73e-bf0fd924ed94",
   "metadata": {},
   "outputs": [
    {
     "data": {
      "text/plain": [
       "['workclass',\n",
       " 'education',\n",
       " 'marital_status',\n",
       " 'occupation',\n",
       " 'relationship',\n",
       " 'race',\n",
       " 'sex',\n",
       " 'native_country',\n",
       " 'income']"
      ]
     },
     "execution_count": 33,
     "metadata": {},
     "output_type": "execute_result"
    }
   ],
   "source": [
    "categorical_feature"
   ]
  },
  {
   "cell_type": "markdown",
   "id": "c697f129-1ba6-40bb-99f9-2400fd49afd5",
   "metadata": {},
   "source": [
    "#### we apply one hot encoding for [marital_status,sex] features\n"
   ]
  },
  {
   "cell_type": "code",
   "execution_count": 34,
   "id": "3b7dbfaf-2f45-4647-8c35-e7fa9e0208de",
   "metadata": {},
   "outputs": [],
   "source": [
    "df=pd.get_dummies(data=df,columns=['marital_status','sex'],dtype=int)\n"
   ]
  },
  {
   "cell_type": "markdown",
   "id": "2e41dc5f-f364-4e96-bb95-b2533714d152",
   "metadata": {},
   "source": [
    "#### and label encoding for [workclass,education,occupation,realtionship,race,native_country,'income']"
   ]
  },
  {
   "cell_type": "code",
   "execution_count": 35,
   "id": "0e4173b0-13ab-4471-937d-61c5cd6ab8de",
   "metadata": {},
   "outputs": [],
   "source": [
    "from sklearn.preprocessing import LabelEncoder"
   ]
  },
  {
   "cell_type": "code",
   "execution_count": 36,
   "id": "e89e51e9-c536-47b0-a056-faa9245d7b7b",
   "metadata": {},
   "outputs": [],
   "source": [
    "columns_to_encode = ['workclass', 'education', 'occupation', 'relationship', 'race', 'native_country','income']\n",
    "\n",
    "# Initialize LabelEncoder\n",
    "label_encoder = LabelEncoder()\n",
    "\n",
    "# Apply LabelEncoder to each specified column\n",
    "for column in columns_to_encode:\n",
    "    df[column] = label_encoder.fit_transform(df[column])\n"
   ]
  },
  {
   "cell_type": "code",
   "execution_count": 37,
   "id": "ea129598-7e41-43e9-8909-9878a66dd776",
   "metadata": {},
   "outputs": [
    {
     "data": {
      "text/html": [
       "<div>\n",
       "<style scoped>\n",
       "    .dataframe tbody tr th:only-of-type {\n",
       "        vertical-align: middle;\n",
       "    }\n",
       "\n",
       "    .dataframe tbody tr th {\n",
       "        vertical-align: top;\n",
       "    }\n",
       "\n",
       "    .dataframe thead th {\n",
       "        text-align: right;\n",
       "    }\n",
       "</style>\n",
       "<table border=\"1\" class=\"dataframe\">\n",
       "  <thead>\n",
       "    <tr style=\"text-align: right;\">\n",
       "      <th></th>\n",
       "      <th>age</th>\n",
       "      <th>workclass</th>\n",
       "      <th>fnlwgt</th>\n",
       "      <th>education</th>\n",
       "      <th>education_num</th>\n",
       "      <th>occupation</th>\n",
       "      <th>relationship</th>\n",
       "      <th>race</th>\n",
       "      <th>capital_gain</th>\n",
       "      <th>capital_loss</th>\n",
       "      <th>hours_per_week</th>\n",
       "      <th>native_country</th>\n",
       "      <th>income</th>\n",
       "      <th>marital_status_ Married-AF-spouse</th>\n",
       "      <th>marital_status_ Married-civ-spouse</th>\n",
       "      <th>marital_status_ Never-married</th>\n",
       "      <th>marital_status_ Other</th>\n",
       "      <th>sex_ Female</th>\n",
       "      <th>sex_ Male</th>\n",
       "    </tr>\n",
       "  </thead>\n",
       "  <tbody>\n",
       "    <tr>\n",
       "      <th>0</th>\n",
       "      <td>3.663562</td>\n",
       "      <td>7</td>\n",
       "      <td>11.258240</td>\n",
       "      <td>0</td>\n",
       "      <td>13</td>\n",
       "      <td>0</td>\n",
       "      <td>1</td>\n",
       "      <td>4</td>\n",
       "      <td>2174</td>\n",
       "      <td>0</td>\n",
       "      <td>40</td>\n",
       "      <td>38</td>\n",
       "      <td>0</td>\n",
       "      <td>0</td>\n",
       "      <td>0</td>\n",
       "      <td>1</td>\n",
       "      <td>0</td>\n",
       "      <td>0</td>\n",
       "      <td>1</td>\n",
       "    </tr>\n",
       "    <tr>\n",
       "      <th>1</th>\n",
       "      <td>3.912023</td>\n",
       "      <td>6</td>\n",
       "      <td>11.330336</td>\n",
       "      <td>0</td>\n",
       "      <td>13</td>\n",
       "      <td>3</td>\n",
       "      <td>0</td>\n",
       "      <td>4</td>\n",
       "      <td>0</td>\n",
       "      <td>0</td>\n",
       "      <td>13</td>\n",
       "      <td>38</td>\n",
       "      <td>0</td>\n",
       "      <td>0</td>\n",
       "      <td>1</td>\n",
       "      <td>0</td>\n",
       "      <td>0</td>\n",
       "      <td>0</td>\n",
       "      <td>1</td>\n",
       "    </tr>\n",
       "    <tr>\n",
       "      <th>2</th>\n",
       "      <td>3.637586</td>\n",
       "      <td>4</td>\n",
       "      <td>12.281393</td>\n",
       "      <td>2</td>\n",
       "      <td>9</td>\n",
       "      <td>5</td>\n",
       "      <td>1</td>\n",
       "      <td>4</td>\n",
       "      <td>0</td>\n",
       "      <td>0</td>\n",
       "      <td>40</td>\n",
       "      <td>38</td>\n",
       "      <td>0</td>\n",
       "      <td>0</td>\n",
       "      <td>0</td>\n",
       "      <td>0</td>\n",
       "      <td>1</td>\n",
       "      <td>0</td>\n",
       "      <td>1</td>\n",
       "    </tr>\n",
       "    <tr>\n",
       "      <th>3</th>\n",
       "      <td>3.970292</td>\n",
       "      <td>4</td>\n",
       "      <td>12.366153</td>\n",
       "      <td>5</td>\n",
       "      <td>7</td>\n",
       "      <td>5</td>\n",
       "      <td>0</td>\n",
       "      <td>2</td>\n",
       "      <td>0</td>\n",
       "      <td>0</td>\n",
       "      <td>40</td>\n",
       "      <td>38</td>\n",
       "      <td>0</td>\n",
       "      <td>0</td>\n",
       "      <td>1</td>\n",
       "      <td>0</td>\n",
       "      <td>0</td>\n",
       "      <td>0</td>\n",
       "      <td>1</td>\n",
       "    </tr>\n",
       "    <tr>\n",
       "      <th>4</th>\n",
       "      <td>3.332205</td>\n",
       "      <td>4</td>\n",
       "      <td>12.732011</td>\n",
       "      <td>0</td>\n",
       "      <td>13</td>\n",
       "      <td>9</td>\n",
       "      <td>5</td>\n",
       "      <td>2</td>\n",
       "      <td>0</td>\n",
       "      <td>0</td>\n",
       "      <td>40</td>\n",
       "      <td>4</td>\n",
       "      <td>0</td>\n",
       "      <td>0</td>\n",
       "      <td>1</td>\n",
       "      <td>0</td>\n",
       "      <td>0</td>\n",
       "      <td>1</td>\n",
       "      <td>0</td>\n",
       "    </tr>\n",
       "    <tr>\n",
       "      <th>...</th>\n",
       "      <td>...</td>\n",
       "      <td>...</td>\n",
       "      <td>...</td>\n",
       "      <td>...</td>\n",
       "      <td>...</td>\n",
       "      <td>...</td>\n",
       "      <td>...</td>\n",
       "      <td>...</td>\n",
       "      <td>...</td>\n",
       "      <td>...</td>\n",
       "      <td>...</td>\n",
       "      <td>...</td>\n",
       "      <td>...</td>\n",
       "      <td>...</td>\n",
       "      <td>...</td>\n",
       "      <td>...</td>\n",
       "      <td>...</td>\n",
       "      <td>...</td>\n",
       "      <td>...</td>\n",
       "    </tr>\n",
       "    <tr>\n",
       "      <th>32556</th>\n",
       "      <td>3.295837</td>\n",
       "      <td>4</td>\n",
       "      <td>12.458006</td>\n",
       "      <td>3</td>\n",
       "      <td>12</td>\n",
       "      <td>12</td>\n",
       "      <td>5</td>\n",
       "      <td>4</td>\n",
       "      <td>0</td>\n",
       "      <td>0</td>\n",
       "      <td>38</td>\n",
       "      <td>38</td>\n",
       "      <td>0</td>\n",
       "      <td>0</td>\n",
       "      <td>1</td>\n",
       "      <td>0</td>\n",
       "      <td>0</td>\n",
       "      <td>1</td>\n",
       "      <td>0</td>\n",
       "    </tr>\n",
       "    <tr>\n",
       "      <th>32557</th>\n",
       "      <td>3.688879</td>\n",
       "      <td>4</td>\n",
       "      <td>11.947134</td>\n",
       "      <td>2</td>\n",
       "      <td>9</td>\n",
       "      <td>6</td>\n",
       "      <td>0</td>\n",
       "      <td>4</td>\n",
       "      <td>0</td>\n",
       "      <td>0</td>\n",
       "      <td>40</td>\n",
       "      <td>38</td>\n",
       "      <td>1</td>\n",
       "      <td>0</td>\n",
       "      <td>1</td>\n",
       "      <td>0</td>\n",
       "      <td>0</td>\n",
       "      <td>0</td>\n",
       "      <td>1</td>\n",
       "    </tr>\n",
       "    <tr>\n",
       "      <th>32558</th>\n",
       "      <td>4.060443</td>\n",
       "      <td>4</td>\n",
       "      <td>11.931044</td>\n",
       "      <td>2</td>\n",
       "      <td>9</td>\n",
       "      <td>0</td>\n",
       "      <td>4</td>\n",
       "      <td>4</td>\n",
       "      <td>0</td>\n",
       "      <td>0</td>\n",
       "      <td>40</td>\n",
       "      <td>38</td>\n",
       "      <td>0</td>\n",
       "      <td>0</td>\n",
       "      <td>0</td>\n",
       "      <td>0</td>\n",
       "      <td>1</td>\n",
       "      <td>1</td>\n",
       "      <td>0</td>\n",
       "    </tr>\n",
       "    <tr>\n",
       "      <th>32559</th>\n",
       "      <td>3.091042</td>\n",
       "      <td>4</td>\n",
       "      <td>12.213495</td>\n",
       "      <td>2</td>\n",
       "      <td>9</td>\n",
       "      <td>0</td>\n",
       "      <td>3</td>\n",
       "      <td>4</td>\n",
       "      <td>0</td>\n",
       "      <td>0</td>\n",
       "      <td>20</td>\n",
       "      <td>38</td>\n",
       "      <td>0</td>\n",
       "      <td>0</td>\n",
       "      <td>0</td>\n",
       "      <td>1</td>\n",
       "      <td>0</td>\n",
       "      <td>0</td>\n",
       "      <td>1</td>\n",
       "    </tr>\n",
       "    <tr>\n",
       "      <th>32560</th>\n",
       "      <td>3.951244</td>\n",
       "      <td>5</td>\n",
       "      <td>12.570462</td>\n",
       "      <td>2</td>\n",
       "      <td>9</td>\n",
       "      <td>3</td>\n",
       "      <td>5</td>\n",
       "      <td>4</td>\n",
       "      <td>15024</td>\n",
       "      <td>0</td>\n",
       "      <td>40</td>\n",
       "      <td>38</td>\n",
       "      <td>1</td>\n",
       "      <td>0</td>\n",
       "      <td>1</td>\n",
       "      <td>0</td>\n",
       "      <td>0</td>\n",
       "      <td>1</td>\n",
       "      <td>0</td>\n",
       "    </tr>\n",
       "  </tbody>\n",
       "</table>\n",
       "<p>32537 rows × 19 columns</p>\n",
       "</div>"
      ],
      "text/plain": [
       "            age  workclass     fnlwgt  education  education_num  occupation  \\\n",
       "0      3.663562          7  11.258240          0             13           0   \n",
       "1      3.912023          6  11.330336          0             13           3   \n",
       "2      3.637586          4  12.281393          2              9           5   \n",
       "3      3.970292          4  12.366153          5              7           5   \n",
       "4      3.332205          4  12.732011          0             13           9   \n",
       "...         ...        ...        ...        ...            ...         ...   \n",
       "32556  3.295837          4  12.458006          3             12          12   \n",
       "32557  3.688879          4  11.947134          2              9           6   \n",
       "32558  4.060443          4  11.931044          2              9           0   \n",
       "32559  3.091042          4  12.213495          2              9           0   \n",
       "32560  3.951244          5  12.570462          2              9           3   \n",
       "\n",
       "       relationship  race  capital_gain  capital_loss  hours_per_week  \\\n",
       "0                 1     4          2174             0              40   \n",
       "1                 0     4             0             0              13   \n",
       "2                 1     4             0             0              40   \n",
       "3                 0     2             0             0              40   \n",
       "4                 5     2             0             0              40   \n",
       "...             ...   ...           ...           ...             ...   \n",
       "32556             5     4             0             0              38   \n",
       "32557             0     4             0             0              40   \n",
       "32558             4     4             0             0              40   \n",
       "32559             3     4             0             0              20   \n",
       "32560             5     4         15024             0              40   \n",
       "\n",
       "       native_country  income  marital_status_ Married-AF-spouse  \\\n",
       "0                  38       0                                  0   \n",
       "1                  38       0                                  0   \n",
       "2                  38       0                                  0   \n",
       "3                  38       0                                  0   \n",
       "4                   4       0                                  0   \n",
       "...               ...     ...                                ...   \n",
       "32556              38       0                                  0   \n",
       "32557              38       1                                  0   \n",
       "32558              38       0                                  0   \n",
       "32559              38       0                                  0   \n",
       "32560              38       1                                  0   \n",
       "\n",
       "       marital_status_ Married-civ-spouse  marital_status_ Never-married  \\\n",
       "0                                       0                              1   \n",
       "1                                       1                              0   \n",
       "2                                       0                              0   \n",
       "3                                       1                              0   \n",
       "4                                       1                              0   \n",
       "...                                   ...                            ...   \n",
       "32556                                   1                              0   \n",
       "32557                                   1                              0   \n",
       "32558                                   0                              0   \n",
       "32559                                   0                              1   \n",
       "32560                                   1                              0   \n",
       "\n",
       "       marital_status_ Other  sex_ Female  sex_ Male  \n",
       "0                          0            0          1  \n",
       "1                          0            0          1  \n",
       "2                          1            0          1  \n",
       "3                          0            0          1  \n",
       "4                          0            1          0  \n",
       "...                      ...          ...        ...  \n",
       "32556                      0            1          0  \n",
       "32557                      0            0          1  \n",
       "32558                      1            1          0  \n",
       "32559                      0            0          1  \n",
       "32560                      0            1          0  \n",
       "\n",
       "[32537 rows x 19 columns]"
      ]
     },
     "execution_count": 37,
     "metadata": {},
     "output_type": "execute_result"
    }
   ],
   "source": [
    "df"
   ]
  },
  {
   "cell_type": "markdown",
   "id": "5486b402-7448-4379-9ab9-2653685a8687",
   "metadata": {},
   "source": [
    "### One-Hot Encoding:\n",
    "Pros: Does not assume ordinal relationships between categories. Cons: Can create high-dimensional data if there are many categories.\r\n",
    "."
   ]
  },
  {
   "cell_type": "markdown",
   "id": "859efa82-f592-4c1b-a420-3ae00acddcae",
   "metadata": {},
   "source": [
    "### Label Encoding:\n",
    "Pros: Simple and efficient. Cons: Imposes ordinal relationships which may not exist, potentially misleading the model."
   ]
  },
  {
   "cell_type": "markdown",
   "id": "e15c606c-ff61-4256-bd9e-186c1428c697",
   "metadata": {},
   "source": [
    "#### As income is target feature and it contains 2 categories so we use labelencoding because one hot encoding create 2 columns "
   ]
  },
  {
   "cell_type": "markdown",
   "id": "ffa7340f-dfa6-4594-9941-ad7fd49e3b81",
   "metadata": {},
   "source": [
    "### spliting the data into x and y"
   ]
  },
  {
   "cell_type": "code",
   "execution_count": 38,
   "id": "e790c468-d3e2-4129-943f-7b5da175e9a1",
   "metadata": {},
   "outputs": [],
   "source": [
    "X=df.drop('income',axis=1)"
   ]
  },
  {
   "cell_type": "code",
   "execution_count": 39,
   "id": "b57bbde3-b5e2-453b-8f0b-45fe48795030",
   "metadata": {},
   "outputs": [],
   "source": [
    "y=df['income']"
   ]
  },
  {
   "cell_type": "markdown",
   "id": "35406a5f-ee76-4439-9b40-45a8d506236a",
   "metadata": {},
   "source": [
    "### apply on logistic regression and check the accuracy with all features"
   ]
  },
  {
   "cell_type": "code",
   "execution_count": 109,
   "id": "0b7fc361-4292-44e5-ab17-3fed4998e04a",
   "metadata": {},
   "outputs": [],
   "source": [
    "from sklearn.linear_model import LogisticRegression\n",
    "from sklearn.model_selection import train_test_split"
   ]
  },
  {
   "cell_type": "code",
   "execution_count": 110,
   "id": "83c94989-c383-418c-89aa-5199c910d021",
   "metadata": {},
   "outputs": [],
   "source": [
    "X_train,X_test,y_train,y_test = train_test_split(X,y,test_size=0.2,random_state=42)"
   ]
  },
  {
   "cell_type": "code",
   "execution_count": 111,
   "id": "6ea1a92f-18ab-48c7-89b9-9d8837e483b6",
   "metadata": {},
   "outputs": [],
   "source": [
    "LR=LogisticRegression(class_weight='balanced')"
   ]
  },
  {
   "cell_type": "code",
   "execution_count": 112,
   "id": "00b828fc-3b7b-403b-926a-a3fe98c8e36f",
   "metadata": {},
   "outputs": [],
   "source": [
    "model=LR.fit(X_train,y_train)"
   ]
  },
  {
   "cell_type": "code",
   "execution_count": 113,
   "id": "98fda29e-a464-4493-a310-42b08d78d3c5",
   "metadata": {},
   "outputs": [
    {
     "data": {
      "text/plain": [
       "0.7572218807621389"
      ]
     },
     "execution_count": 113,
     "metadata": {},
     "output_type": "execute_result"
    }
   ],
   "source": [
    "LR.score(X_test,y_test)"
   ]
  },
  {
   "cell_type": "code",
   "execution_count": 114,
   "id": "6ab5268e-d5f5-4c81-ac64-b6049d2466c8",
   "metadata": {},
   "outputs": [
    {
     "data": {
      "text/plain": [
       "0.7635329824426601"
      ]
     },
     "execution_count": 114,
     "metadata": {},
     "output_type": "execute_result"
    }
   ],
   "source": [
    "LR.score(X_train,y_train)"
   ]
  },
  {
   "cell_type": "markdown",
   "id": "586bd331-e82d-4320-919a-f26ed4999c53",
   "metadata": {},
   "source": [
    "## feature selection "
   ]
  },
  {
   "cell_type": "markdown",
   "id": "5eda9d94-62ab-4b6c-bb7d-8ebf8b30df19",
   "metadata": {},
   "source": [
    "#### feature selection by SelectKbest"
   ]
  },
  {
   "cell_type": "code",
   "execution_count": 66,
   "id": "3152f98a-1075-4d02-82d4-2ecacecdfa7e",
   "metadata": {},
   "outputs": [],
   "source": [
    "from sklearn.feature_selection import SelectKBest"
   ]
  },
  {
   "cell_type": "code",
   "execution_count": 73,
   "id": "265bbb99-f0f0-4a6b-b189-7d432d4144d4",
   "metadata": {},
   "outputs": [],
   "source": [
    "best_feat = SelectKBest( k = 10)"
   ]
  },
  {
   "cell_type": "code",
   "execution_count": 74,
   "id": "e296a184-5ce2-4bf5-b364-e4c3810ac6d7",
   "metadata": {},
   "outputs": [
    {
     "data": {
      "text/html": [
       "<style>#sk-container-id-8 {color: black;background-color: white;}#sk-container-id-8 pre{padding: 0;}#sk-container-id-8 div.sk-toggleable {background-color: white;}#sk-container-id-8 label.sk-toggleable__label {cursor: pointer;display: block;width: 100%;margin-bottom: 0;padding: 0.3em;box-sizing: border-box;text-align: center;}#sk-container-id-8 label.sk-toggleable__label-arrow:before {content: \"▸\";float: left;margin-right: 0.25em;color: #696969;}#sk-container-id-8 label.sk-toggleable__label-arrow:hover:before {color: black;}#sk-container-id-8 div.sk-estimator:hover label.sk-toggleable__label-arrow:before {color: black;}#sk-container-id-8 div.sk-toggleable__content {max-height: 0;max-width: 0;overflow: hidden;text-align: left;background-color: #f0f8ff;}#sk-container-id-8 div.sk-toggleable__content pre {margin: 0.2em;color: black;border-radius: 0.25em;background-color: #f0f8ff;}#sk-container-id-8 input.sk-toggleable__control:checked~div.sk-toggleable__content {max-height: 200px;max-width: 100%;overflow: auto;}#sk-container-id-8 input.sk-toggleable__control:checked~label.sk-toggleable__label-arrow:before {content: \"▾\";}#sk-container-id-8 div.sk-estimator input.sk-toggleable__control:checked~label.sk-toggleable__label {background-color: #d4ebff;}#sk-container-id-8 div.sk-label input.sk-toggleable__control:checked~label.sk-toggleable__label {background-color: #d4ebff;}#sk-container-id-8 input.sk-hidden--visually {border: 0;clip: rect(1px 1px 1px 1px);clip: rect(1px, 1px, 1px, 1px);height: 1px;margin: -1px;overflow: hidden;padding: 0;position: absolute;width: 1px;}#sk-container-id-8 div.sk-estimator {font-family: monospace;background-color: #f0f8ff;border: 1px dotted black;border-radius: 0.25em;box-sizing: border-box;margin-bottom: 0.5em;}#sk-container-id-8 div.sk-estimator:hover {background-color: #d4ebff;}#sk-container-id-8 div.sk-parallel-item::after {content: \"\";width: 100%;border-bottom: 1px solid gray;flex-grow: 1;}#sk-container-id-8 div.sk-label:hover label.sk-toggleable__label {background-color: #d4ebff;}#sk-container-id-8 div.sk-serial::before {content: \"\";position: absolute;border-left: 1px solid gray;box-sizing: border-box;top: 0;bottom: 0;left: 50%;z-index: 0;}#sk-container-id-8 div.sk-serial {display: flex;flex-direction: column;align-items: center;background-color: white;padding-right: 0.2em;padding-left: 0.2em;position: relative;}#sk-container-id-8 div.sk-item {position: relative;z-index: 1;}#sk-container-id-8 div.sk-parallel {display: flex;align-items: stretch;justify-content: center;background-color: white;position: relative;}#sk-container-id-8 div.sk-item::before, #sk-container-id-8 div.sk-parallel-item::before {content: \"\";position: absolute;border-left: 1px solid gray;box-sizing: border-box;top: 0;bottom: 0;left: 50%;z-index: -1;}#sk-container-id-8 div.sk-parallel-item {display: flex;flex-direction: column;z-index: 1;position: relative;background-color: white;}#sk-container-id-8 div.sk-parallel-item:first-child::after {align-self: flex-end;width: 50%;}#sk-container-id-8 div.sk-parallel-item:last-child::after {align-self: flex-start;width: 50%;}#sk-container-id-8 div.sk-parallel-item:only-child::after {width: 0;}#sk-container-id-8 div.sk-dashed-wrapped {border: 1px dashed gray;margin: 0 0.4em 0.5em 0.4em;box-sizing: border-box;padding-bottom: 0.4em;background-color: white;}#sk-container-id-8 div.sk-label label {font-family: monospace;font-weight: bold;display: inline-block;line-height: 1.2em;}#sk-container-id-8 div.sk-label-container {text-align: center;}#sk-container-id-8 div.sk-container {/* jupyter's `normalize.less` sets `[hidden] { display: none; }` but bootstrap.min.css set `[hidden] { display: none !important; }` so we also need the `!important` here to be able to override the default hidden behavior on the sphinx rendered scikit-learn.org. See: https://github.com/scikit-learn/scikit-learn/issues/21755 */display: inline-block !important;position: relative;}#sk-container-id-8 div.sk-text-repr-fallback {display: none;}</style><div id=\"sk-container-id-8\" class=\"sk-top-container\"><div class=\"sk-text-repr-fallback\"><pre>SelectKBest()</pre><b>In a Jupyter environment, please rerun this cell to show the HTML representation or trust the notebook. <br />On GitHub, the HTML representation is unable to render, please try loading this page with nbviewer.org.</b></div><div class=\"sk-container\" hidden><div class=\"sk-item\"><div class=\"sk-estimator sk-toggleable\"><input class=\"sk-toggleable__control sk-hidden--visually\" id=\"sk-estimator-id-8\" type=\"checkbox\" checked><label for=\"sk-estimator-id-8\" class=\"sk-toggleable__label sk-toggleable__label-arrow\">SelectKBest</label><div class=\"sk-toggleable__content\"><pre>SelectKBest()</pre></div></div></div></div></div>"
      ],
      "text/plain": [
       "SelectKBest()"
      ]
     },
     "execution_count": 74,
     "metadata": {},
     "output_type": "execute_result"
    }
   ],
   "source": [
    "best_feat.fit(X,y)"
   ]
  },
  {
   "cell_type": "code",
   "execution_count": 75,
   "id": "5611b0b1-22c1-474e-ae5c-27f691804760",
   "metadata": {},
   "outputs": [
    {
     "data": {
      "text/plain": [
       "array([[ 3.66356165, 13.        ,  1.        , ...,  0.        ,\n",
       "         0.        ,  1.        ],\n",
       "       [ 3.91202301, 13.        ,  0.        , ...,  0.        ,\n",
       "         0.        ,  1.        ],\n",
       "       [ 3.63758616,  9.        ,  1.        , ...,  1.        ,\n",
       "         0.        ,  1.        ],\n",
       "       ...,\n",
       "       [ 4.06044301,  9.        ,  4.        , ...,  1.        ,\n",
       "         1.        ,  0.        ],\n",
       "       [ 3.09104245,  9.        ,  3.        , ...,  0.        ,\n",
       "         0.        ,  1.        ],\n",
       "       [ 3.95124372,  9.        ,  5.        , ...,  0.        ,\n",
       "         1.        ,  0.        ]])"
      ]
     },
     "execution_count": 75,
     "metadata": {},
     "output_type": "execute_result"
    }
   ],
   "source": [
    "best_feat.transform(X)"
   ]
  },
  {
   "cell_type": "code",
   "execution_count": 76,
   "id": "423d5610-2298-45f1-9b5f-05143394315b",
   "metadata": {},
   "outputs": [
    {
     "data": {
      "text/plain": [
       "array([2.53928125e+03, 8.70768590e+01, 6.93867453e-02, 9.10740366e+02,\n",
       "       4.12031333e+03, 3.88059099e+01, 2.18659410e+03, 1.68819063e+02,\n",
       "       1.70801385e+03, 7.54012116e+02, 1.81153387e+03, 1.70011385e+01,\n",
       "       4.73005773e+00, 8.01600992e+03, 3.66749942e+03, 1.05948485e+03,\n",
       "       1.59176376e+03, 1.59176376e+03])"
      ]
     },
     "execution_count": 76,
     "metadata": {},
     "output_type": "execute_result"
    }
   ],
   "source": [
    "best_feat.scores_"
   ]
  },
  {
   "cell_type": "code",
   "execution_count": 79,
   "id": "41f1e818-8b74-497c-808d-9dd0e775a757",
   "metadata": {},
   "outputs": [
    {
     "data": {
      "text/plain": [
       "array([0.00000000e+000, 1.10782942e-020, 7.92233447e-001, 2.40096015e-197,\n",
       "       0.00000000e+000, 4.73831535e-010, 0.00000000e+000, 1.67109392e-038,\n",
       "       0.00000000e+000, 4.02215941e-164, 0.00000000e+000, 3.74500313e-005,\n",
       "       2.96470685e-002, 0.00000000e+000, 0.00000000e+000, 9.96089977e-229,\n",
       "       0.00000000e+000, 0.00000000e+000])"
      ]
     },
     "execution_count": 79,
     "metadata": {},
     "output_type": "execute_result"
    }
   ],
   "source": [
    "best_feat.pvalues_"
   ]
  },
  {
   "cell_type": "code",
   "execution_count": 78,
   "id": "9e5ed691-a6d5-4e8e-91eb-6a494692dfe1",
   "metadata": {},
   "outputs": [
    {
     "data": {
      "text/plain": [
       "Index(['age', 'workclass', 'fnlwgt', 'education', 'education_num',\n",
       "       'occupation', 'relationship', 'race', 'capital_gain', 'capital_loss',\n",
       "       'hours_per_week', 'native_country', 'income',\n",
       "       'marital_status_ Married-AF-spouse',\n",
       "       'marital_status_ Married-civ-spouse', 'marital_status_ Never-married',\n",
       "       'marital_status_ Other', 'sex_ Female', 'sex_ Male'],\n",
       "      dtype='object')"
      ]
     },
     "execution_count": 78,
     "metadata": {},
     "output_type": "execute_result"
    }
   ],
   "source": [
    "df.columns"
   ]
  },
  {
   "cell_type": "code",
   "execution_count": 80,
   "id": "00157c01-ba60-4127-a208-36b8b219b932",
   "metadata": {},
   "outputs": [
    {
     "data": {
      "text/plain": [
       "age                                   0.269067\n",
       "workclass                             0.051665\n",
       "fnlwgt                               -0.001460\n",
       "education                            -0.165016\n",
       "education_num                         0.335272\n",
       "occupation                            0.034516\n",
       "relationship                         -0.250948\n",
       "race                                  0.071847\n",
       "capital_gain                          0.223336\n",
       "capital_loss                          0.150501\n",
       "hours_per_week                        0.229658\n",
       "native_country                        0.022853\n",
       "income                                1.000000\n",
       "marital_status_ Married-AF-spouse     0.012057\n",
       "marital_status_ Married-civ-spouse    0.444609\n",
       "marital_status_ Never-married        -0.318285\n",
       "marital_status_ Other                -0.177588\n",
       "sex_ Female                          -0.215969\n",
       "sex_ Male                             0.215969\n",
       "Name: income, dtype: float64"
      ]
     },
     "execution_count": 80,
     "metadata": {},
     "output_type": "execute_result"
    }
   ],
   "source": [
    "df.corr()['income']"
   ]
  },
  {
   "cell_type": "code",
   "execution_count": 81,
   "id": "36b40152-a4f7-4cf2-973d-2a224027c88f",
   "metadata": {},
   "outputs": [
    {
     "data": {
      "text/plain": [
       "<bound method BaseEstimator.get_params of SelectKBest()>"
      ]
     },
     "execution_count": 81,
     "metadata": {},
     "output_type": "execute_result"
    }
   ],
   "source": [
    "best_feat.get_params"
   ]
  },
  {
   "cell_type": "code",
   "execution_count": 82,
   "id": "2cef2723-c077-40f1-b887-e39d4ceafa50",
   "metadata": {},
   "outputs": [
    {
     "data": {
      "text/plain": [
       "18"
      ]
     },
     "execution_count": 82,
     "metadata": {},
     "output_type": "execute_result"
    }
   ],
   "source": [
    "best_feat.n_features_in_"
   ]
  },
  {
   "cell_type": "code",
   "execution_count": 83,
   "id": "8f5ac275-21d7-40e6-a60d-e909f9c37a2d",
   "metadata": {},
   "outputs": [
    {
     "data": {
      "text/plain": [
       "array(['age', 'workclass', 'fnlwgt', 'education', 'education_num',\n",
       "       'occupation', 'relationship', 'race', 'capital_gain',\n",
       "       'capital_loss', 'hours_per_week', 'native_country',\n",
       "       'marital_status_ Married-AF-spouse',\n",
       "       'marital_status_ Married-civ-spouse',\n",
       "       'marital_status_ Never-married', 'marital_status_ Other',\n",
       "       'sex_ Female', 'sex_ Male'], dtype=object)"
      ]
     },
     "execution_count": 83,
     "metadata": {},
     "output_type": "execute_result"
    }
   ],
   "source": [
    "best_feat.feature_names_in_"
   ]
  },
  {
   "cell_type": "code",
   "execution_count": 85,
   "id": "04e1af7d-b1f3-4038-be24-664221aa068b",
   "metadata": {},
   "outputs": [],
   "source": [
    "from sklearn.feature_selection import chi2\n",
    "from sklearn.feature_selection import f_regression"
   ]
  },
  {
   "cell_type": "code",
   "execution_count": 86,
   "id": "ca7bc838-3bc3-4e61-8af8-5db7f1336a09",
   "metadata": {},
   "outputs": [],
   "source": [
    "best_feat1 = SelectKBest(score_func = chi2,k = 10)"
   ]
  },
  {
   "cell_type": "code",
   "execution_count": 87,
   "id": "e0cbec1c-34a3-4bc6-99f0-9fc3e4191f94",
   "metadata": {},
   "outputs": [
    {
     "data": {
      "text/plain": [
       "array([[ 0., 13.,  1., ...,  1.,  0.,  0.],\n",
       "       [ 0., 13.,  0., ...,  0.,  0.,  0.],\n",
       "       [ 2.,  9.,  1., ...,  0.,  1.,  0.],\n",
       "       ...,\n",
       "       [ 2.,  9.,  4., ...,  0.,  1.,  1.],\n",
       "       [ 2.,  9.,  3., ...,  1.,  0.,  0.],\n",
       "       [ 2.,  9.,  5., ...,  0.,  0.,  1.]])"
      ]
     },
     "execution_count": 87,
     "metadata": {},
     "output_type": "execute_result"
    }
   ],
   "source": [
    "best_feat1.fit_transform(X,y)"
   ]
  },
  {
   "cell_type": "code",
   "execution_count": 88,
   "id": "1db776e6-7571-40d9-a0e3-163d723a3136",
   "metadata": {},
   "outputs": [
    {
     "data": {
      "text/plain": [
       "array([8.51958501e+01, 4.76183499e+01, 2.30310891e-03, 7.70752543e+02,\n",
       "       2.39903589e+03, 9.96668120e+01, 3.65821506e+03, 3.30121759e+01,\n",
       "       8.21362443e+07, 1.37062169e+06, 6.46886542e+03, 1.70998658e+01,\n",
       "       4.72631755e+00, 3.47259530e+03, 2.21554350e+03, 8.09251320e+02,\n",
       "       1.01564438e+03, 5.01968535e+02])"
      ]
     },
     "execution_count": 88,
     "metadata": {},
     "output_type": "execute_result"
    }
   ],
   "source": [
    "best_feat1.scores_"
   ]
  },
  {
   "cell_type": "code",
   "execution_count": 89,
   "id": "ab906fae-fea8-4fdb-aaf5-be008ab5b698",
   "metadata": {},
   "outputs": [
    {
     "data": {
      "text/plain": [
       "Index(['age', 'workclass', 'fnlwgt', 'education', 'education_num',\n",
       "       'occupation', 'relationship', 'race', 'capital_gain', 'capital_loss',\n",
       "       'hours_per_week', 'native_country', 'marital_status_ Married-AF-spouse',\n",
       "       'marital_status_ Married-civ-spouse', 'marital_status_ Never-married',\n",
       "       'marital_status_ Other', 'sex_ Female', 'sex_ Male'],\n",
       "      dtype='object')"
      ]
     },
     "execution_count": 89,
     "metadata": {},
     "output_type": "execute_result"
    }
   ],
   "source": [
    "X.columns"
   ]
  },
  {
   "cell_type": "code",
   "execution_count": 90,
   "id": "3b445c94-09ad-4e82-8339-185b214b1458",
   "metadata": {},
   "outputs": [],
   "source": [
    "X1 = df[['age','workclass','education','occupation','race','native_country','marital_status_ Married-AF-spouse','marital_status_ Other','sex_ Male']]"
   ]
  },
  {
   "cell_type": "markdown",
   "id": "04cdb069-0549-440a-8cd7-d9489baeec7b",
   "metadata": {},
   "source": [
    "#### check model accuracy with selected features X1"
   ]
  },
  {
   "cell_type": "code",
   "execution_count": 169,
   "id": "5aa5796d-27f5-481f-9175-061d5b524dae",
   "metadata": {},
   "outputs": [],
   "source": [
    "X_train,X_test,y_train,y_test = train_test_split(X1,y,test_size=0.3)"
   ]
  },
  {
   "cell_type": "code",
   "execution_count": 170,
   "id": "34f80281-6124-4440-8151-7b1292876bbf",
   "metadata": {},
   "outputs": [],
   "source": [
    "log_reg = LogisticRegression()"
   ]
  },
  {
   "cell_type": "code",
   "execution_count": 171,
   "id": "d4bfef5e-65ec-488d-bf39-04392e05e0b6",
   "metadata": {},
   "outputs": [
    {
     "data": {
      "text/html": [
       "<style>#sk-container-id-20 {color: black;background-color: white;}#sk-container-id-20 pre{padding: 0;}#sk-container-id-20 div.sk-toggleable {background-color: white;}#sk-container-id-20 label.sk-toggleable__label {cursor: pointer;display: block;width: 100%;margin-bottom: 0;padding: 0.3em;box-sizing: border-box;text-align: center;}#sk-container-id-20 label.sk-toggleable__label-arrow:before {content: \"▸\";float: left;margin-right: 0.25em;color: #696969;}#sk-container-id-20 label.sk-toggleable__label-arrow:hover:before {color: black;}#sk-container-id-20 div.sk-estimator:hover label.sk-toggleable__label-arrow:before {color: black;}#sk-container-id-20 div.sk-toggleable__content {max-height: 0;max-width: 0;overflow: hidden;text-align: left;background-color: #f0f8ff;}#sk-container-id-20 div.sk-toggleable__content pre {margin: 0.2em;color: black;border-radius: 0.25em;background-color: #f0f8ff;}#sk-container-id-20 input.sk-toggleable__control:checked~div.sk-toggleable__content {max-height: 200px;max-width: 100%;overflow: auto;}#sk-container-id-20 input.sk-toggleable__control:checked~label.sk-toggleable__label-arrow:before {content: \"▾\";}#sk-container-id-20 div.sk-estimator input.sk-toggleable__control:checked~label.sk-toggleable__label {background-color: #d4ebff;}#sk-container-id-20 div.sk-label input.sk-toggleable__control:checked~label.sk-toggleable__label {background-color: #d4ebff;}#sk-container-id-20 input.sk-hidden--visually {border: 0;clip: rect(1px 1px 1px 1px);clip: rect(1px, 1px, 1px, 1px);height: 1px;margin: -1px;overflow: hidden;padding: 0;position: absolute;width: 1px;}#sk-container-id-20 div.sk-estimator {font-family: monospace;background-color: #f0f8ff;border: 1px dotted black;border-radius: 0.25em;box-sizing: border-box;margin-bottom: 0.5em;}#sk-container-id-20 div.sk-estimator:hover {background-color: #d4ebff;}#sk-container-id-20 div.sk-parallel-item::after {content: \"\";width: 100%;border-bottom: 1px solid gray;flex-grow: 1;}#sk-container-id-20 div.sk-label:hover label.sk-toggleable__label {background-color: #d4ebff;}#sk-container-id-20 div.sk-serial::before {content: \"\";position: absolute;border-left: 1px solid gray;box-sizing: border-box;top: 0;bottom: 0;left: 50%;z-index: 0;}#sk-container-id-20 div.sk-serial {display: flex;flex-direction: column;align-items: center;background-color: white;padding-right: 0.2em;padding-left: 0.2em;position: relative;}#sk-container-id-20 div.sk-item {position: relative;z-index: 1;}#sk-container-id-20 div.sk-parallel {display: flex;align-items: stretch;justify-content: center;background-color: white;position: relative;}#sk-container-id-20 div.sk-item::before, #sk-container-id-20 div.sk-parallel-item::before {content: \"\";position: absolute;border-left: 1px solid gray;box-sizing: border-box;top: 0;bottom: 0;left: 50%;z-index: -1;}#sk-container-id-20 div.sk-parallel-item {display: flex;flex-direction: column;z-index: 1;position: relative;background-color: white;}#sk-container-id-20 div.sk-parallel-item:first-child::after {align-self: flex-end;width: 50%;}#sk-container-id-20 div.sk-parallel-item:last-child::after {align-self: flex-start;width: 50%;}#sk-container-id-20 div.sk-parallel-item:only-child::after {width: 0;}#sk-container-id-20 div.sk-dashed-wrapped {border: 1px dashed gray;margin: 0 0.4em 0.5em 0.4em;box-sizing: border-box;padding-bottom: 0.4em;background-color: white;}#sk-container-id-20 div.sk-label label {font-family: monospace;font-weight: bold;display: inline-block;line-height: 1.2em;}#sk-container-id-20 div.sk-label-container {text-align: center;}#sk-container-id-20 div.sk-container {/* jupyter's `normalize.less` sets `[hidden] { display: none; }` but bootstrap.min.css set `[hidden] { display: none !important; }` so we also need the `!important` here to be able to override the default hidden behavior on the sphinx rendered scikit-learn.org. See: https://github.com/scikit-learn/scikit-learn/issues/21755 */display: inline-block !important;position: relative;}#sk-container-id-20 div.sk-text-repr-fallback {display: none;}</style><div id=\"sk-container-id-20\" class=\"sk-top-container\"><div class=\"sk-text-repr-fallback\"><pre>LogisticRegression()</pre><b>In a Jupyter environment, please rerun this cell to show the HTML representation or trust the notebook. <br />On GitHub, the HTML representation is unable to render, please try loading this page with nbviewer.org.</b></div><div class=\"sk-container\" hidden><div class=\"sk-item\"><div class=\"sk-estimator sk-toggleable\"><input class=\"sk-toggleable__control sk-hidden--visually\" id=\"sk-estimator-id-20\" type=\"checkbox\" checked><label for=\"sk-estimator-id-20\" class=\"sk-toggleable__label sk-toggleable__label-arrow\">LogisticRegression</label><div class=\"sk-toggleable__content\"><pre>LogisticRegression()</pre></div></div></div></div></div>"
      ],
      "text/plain": [
       "LogisticRegression()"
      ]
     },
     "execution_count": 171,
     "metadata": {},
     "output_type": "execute_result"
    }
   ],
   "source": [
    "log_reg.fit(X_train,y_train)"
   ]
  },
  {
   "cell_type": "code",
   "execution_count": 172,
   "id": "6f95b3c4-b0b6-48ec-a99a-0d7c77ff9dd3",
   "metadata": {},
   "outputs": [
    {
     "data": {
      "text/plain": [
       "0.7611145257119443"
      ]
     },
     "execution_count": 172,
     "metadata": {},
     "output_type": "execute_result"
    }
   ],
   "source": [
    "log_reg.score(X_test,y_test)"
   ]
  },
  {
   "cell_type": "code",
   "execution_count": 173,
   "id": "3c5d5055-1dd6-4290-bec1-44f538ee05ae",
   "metadata": {},
   "outputs": [
    {
     "data": {
      "text/plain": [
       "0.7678594950603732"
      ]
     },
     "execution_count": 173,
     "metadata": {},
     "output_type": "execute_result"
    }
   ],
   "source": [
    "log_reg.score(X_train,y_train)"
   ]
  },
  {
   "cell_type": "markdown",
   "id": "37b91274-5b50-4d37-bc8d-540607a4a73d",
   "metadata": {},
   "source": [
    "## RFE"
   ]
  },
  {
   "cell_type": "code",
   "execution_count": 97,
   "id": "6d7c3d4b-13ba-4196-8c63-cd4389c3b2ba",
   "metadata": {},
   "outputs": [],
   "source": [
    "from sklearn.feature_selection import RFE"
   ]
  },
  {
   "cell_type": "code",
   "execution_count": 99,
   "id": "86469f88-bcc9-4675-8c49-9e34f344f673",
   "metadata": {},
   "outputs": [],
   "source": [
    "best_feat_RFE = RFE(LR,n_features_to_select =10,verbose=1,step=1)"
   ]
  },
  {
   "cell_type": "code",
   "execution_count": 100,
   "id": "eea4878f-8b57-4d4e-82b3-8be8a82e3b4e",
   "metadata": {},
   "outputs": [
    {
     "name": "stdout",
     "output_type": "stream",
     "text": [
      "Fitting estimator with 18 features.\n",
      "Fitting estimator with 17 features.\n",
      "Fitting estimator with 16 features.\n",
      "Fitting estimator with 15 features.\n",
      "Fitting estimator with 14 features.\n",
      "Fitting estimator with 13 features.\n",
      "Fitting estimator with 12 features.\n",
      "Fitting estimator with 11 features.\n"
     ]
    },
    {
     "data": {
      "text/plain": [
       "array([[ 3.66356165, 11.25823965, 13.        , ...,  0.        ,\n",
       "         0.        ,  1.        ],\n",
       "       [ 3.91202301, 11.33033587, 13.        , ...,  0.        ,\n",
       "         0.        ,  1.        ],\n",
       "       [ 3.63758616, 12.28139345,  9.        , ...,  1.        ,\n",
       "         0.        ,  1.        ],\n",
       "       ...,\n",
       "       [ 4.06044301, 11.93104352,  9.        , ...,  1.        ,\n",
       "         1.        ,  0.        ],\n",
       "       [ 3.09104245, 12.21349503,  9.        , ...,  0.        ,\n",
       "         0.        ,  1.        ],\n",
       "       [ 3.95124372, 12.57046225,  9.        , ...,  0.        ,\n",
       "         1.        ,  0.        ]])"
      ]
     },
     "execution_count": 100,
     "metadata": {},
     "output_type": "execute_result"
    }
   ],
   "source": [
    "best_feat_RFE.fit_transform(X,y)"
   ]
  },
  {
   "cell_type": "code",
   "execution_count": 101,
   "id": "01d3bf15-acb9-4d92-96d4-3e7896a089f2",
   "metadata": {},
   "outputs": [
    {
     "data": {
      "text/plain": [
       "array([1, 5, 1, 4, 1, 7, 1, 1, 9, 8, 3, 6, 2, 1, 1, 1, 1, 1])"
      ]
     },
     "execution_count": 101,
     "metadata": {},
     "output_type": "execute_result"
    }
   ],
   "source": [
    "best_feat_RFE.ranking_"
   ]
  },
  {
   "cell_type": "code",
   "execution_count": 107,
   "id": "d14954a4-0def-4a03-8cf9-b4930b450ffb",
   "metadata": {},
   "outputs": [
    {
     "data": {
      "text/plain": [
       "Index(['age', 'workclass', 'fnlwgt', 'education', 'education_num',\n",
       "       'occupation', 'relationship', 'race', 'capital_gain', 'capital_loss',\n",
       "       'hours_per_week', 'native_country', 'marital_status_ Married-AF-spouse',\n",
       "       'marital_status_ Married-civ-spouse', 'marital_status_ Never-married',\n",
       "       'marital_status_ Other', 'sex_ Female', 'sex_ Male'],\n",
       "      dtype='object')"
      ]
     },
     "execution_count": 107,
     "metadata": {},
     "output_type": "execute_result"
    }
   ],
   "source": [
    "X.columns"
   ]
  },
  {
   "cell_type": "code",
   "execution_count": 120,
   "id": "6af4e952-a0d8-4234-8620-236d328e0e46",
   "metadata": {},
   "outputs": [],
   "source": [
    "X2=df[['age','fnlwgt','education_num','relationship','race','marital_status_ Married-civ-spouse', 'marital_status_ Never-married',\n",
    "       'marital_status_ Other', 'sex_ Female', 'sex_ Male']]"
   ]
  },
  {
   "cell_type": "markdown",
   "id": "84e8d82d-bf73-4f2f-b4d5-c7f58b60fdc3",
   "metadata": {},
   "source": [
    "#### check model accuracy with selected features X2"
   ]
  },
  {
   "cell_type": "code",
   "execution_count": 163,
   "id": "3c79ac3f-8767-4a0e-9f45-8d1e2ca32be6",
   "metadata": {},
   "outputs": [],
   "source": [
    "X_train,X_test,y_train,y_test = train_test_split(X2,y,test_size=0.2)"
   ]
  },
  {
   "cell_type": "code",
   "execution_count": 164,
   "id": "b1e43258-182a-433b-9715-62eed1378df1",
   "metadata": {},
   "outputs": [],
   "source": [
    "log_reg = LogisticRegression()"
   ]
  },
  {
   "cell_type": "code",
   "execution_count": 165,
   "id": "a6e52974-5271-4ac3-b0f4-886faeea2a31",
   "metadata": {},
   "outputs": [
    {
     "data": {
      "text/html": [
       "<style>#sk-container-id-19 {color: black;background-color: white;}#sk-container-id-19 pre{padding: 0;}#sk-container-id-19 div.sk-toggleable {background-color: white;}#sk-container-id-19 label.sk-toggleable__label {cursor: pointer;display: block;width: 100%;margin-bottom: 0;padding: 0.3em;box-sizing: border-box;text-align: center;}#sk-container-id-19 label.sk-toggleable__label-arrow:before {content: \"▸\";float: left;margin-right: 0.25em;color: #696969;}#sk-container-id-19 label.sk-toggleable__label-arrow:hover:before {color: black;}#sk-container-id-19 div.sk-estimator:hover label.sk-toggleable__label-arrow:before {color: black;}#sk-container-id-19 div.sk-toggleable__content {max-height: 0;max-width: 0;overflow: hidden;text-align: left;background-color: #f0f8ff;}#sk-container-id-19 div.sk-toggleable__content pre {margin: 0.2em;color: black;border-radius: 0.25em;background-color: #f0f8ff;}#sk-container-id-19 input.sk-toggleable__control:checked~div.sk-toggleable__content {max-height: 200px;max-width: 100%;overflow: auto;}#sk-container-id-19 input.sk-toggleable__control:checked~label.sk-toggleable__label-arrow:before {content: \"▾\";}#sk-container-id-19 div.sk-estimator input.sk-toggleable__control:checked~label.sk-toggleable__label {background-color: #d4ebff;}#sk-container-id-19 div.sk-label input.sk-toggleable__control:checked~label.sk-toggleable__label {background-color: #d4ebff;}#sk-container-id-19 input.sk-hidden--visually {border: 0;clip: rect(1px 1px 1px 1px);clip: rect(1px, 1px, 1px, 1px);height: 1px;margin: -1px;overflow: hidden;padding: 0;position: absolute;width: 1px;}#sk-container-id-19 div.sk-estimator {font-family: monospace;background-color: #f0f8ff;border: 1px dotted black;border-radius: 0.25em;box-sizing: border-box;margin-bottom: 0.5em;}#sk-container-id-19 div.sk-estimator:hover {background-color: #d4ebff;}#sk-container-id-19 div.sk-parallel-item::after {content: \"\";width: 100%;border-bottom: 1px solid gray;flex-grow: 1;}#sk-container-id-19 div.sk-label:hover label.sk-toggleable__label {background-color: #d4ebff;}#sk-container-id-19 div.sk-serial::before {content: \"\";position: absolute;border-left: 1px solid gray;box-sizing: border-box;top: 0;bottom: 0;left: 50%;z-index: 0;}#sk-container-id-19 div.sk-serial {display: flex;flex-direction: column;align-items: center;background-color: white;padding-right: 0.2em;padding-left: 0.2em;position: relative;}#sk-container-id-19 div.sk-item {position: relative;z-index: 1;}#sk-container-id-19 div.sk-parallel {display: flex;align-items: stretch;justify-content: center;background-color: white;position: relative;}#sk-container-id-19 div.sk-item::before, #sk-container-id-19 div.sk-parallel-item::before {content: \"\";position: absolute;border-left: 1px solid gray;box-sizing: border-box;top: 0;bottom: 0;left: 50%;z-index: -1;}#sk-container-id-19 div.sk-parallel-item {display: flex;flex-direction: column;z-index: 1;position: relative;background-color: white;}#sk-container-id-19 div.sk-parallel-item:first-child::after {align-self: flex-end;width: 50%;}#sk-container-id-19 div.sk-parallel-item:last-child::after {align-self: flex-start;width: 50%;}#sk-container-id-19 div.sk-parallel-item:only-child::after {width: 0;}#sk-container-id-19 div.sk-dashed-wrapped {border: 1px dashed gray;margin: 0 0.4em 0.5em 0.4em;box-sizing: border-box;padding-bottom: 0.4em;background-color: white;}#sk-container-id-19 div.sk-label label {font-family: monospace;font-weight: bold;display: inline-block;line-height: 1.2em;}#sk-container-id-19 div.sk-label-container {text-align: center;}#sk-container-id-19 div.sk-container {/* jupyter's `normalize.less` sets `[hidden] { display: none; }` but bootstrap.min.css set `[hidden] { display: none !important; }` so we also need the `!important` here to be able to override the default hidden behavior on the sphinx rendered scikit-learn.org. See: https://github.com/scikit-learn/scikit-learn/issues/21755 */display: inline-block !important;position: relative;}#sk-container-id-19 div.sk-text-repr-fallback {display: none;}</style><div id=\"sk-container-id-19\" class=\"sk-top-container\"><div class=\"sk-text-repr-fallback\"><pre>LogisticRegression()</pre><b>In a Jupyter environment, please rerun this cell to show the HTML representation or trust the notebook. <br />On GitHub, the HTML representation is unable to render, please try loading this page with nbviewer.org.</b></div><div class=\"sk-container\" hidden><div class=\"sk-item\"><div class=\"sk-estimator sk-toggleable\"><input class=\"sk-toggleable__control sk-hidden--visually\" id=\"sk-estimator-id-19\" type=\"checkbox\" checked><label for=\"sk-estimator-id-19\" class=\"sk-toggleable__label sk-toggleable__label-arrow\">LogisticRegression</label><div class=\"sk-toggleable__content\"><pre>LogisticRegression()</pre></div></div></div></div></div>"
      ],
      "text/plain": [
       "LogisticRegression()"
      ]
     },
     "execution_count": 165,
     "metadata": {},
     "output_type": "execute_result"
    }
   ],
   "source": [
    "log_reg.fit(X_train,y_train)"
   ]
  },
  {
   "cell_type": "code",
   "execution_count": 166,
   "id": "3cdcd047-3b73-49c4-9ed4-04fe0830c97e",
   "metadata": {},
   "outputs": [
    {
     "data": {
      "text/plain": [
       "0.807160417947142"
      ]
     },
     "execution_count": 166,
     "metadata": {},
     "output_type": "execute_result"
    }
   ],
   "source": [
    "log_reg.score(X_test,y_test)"
   ]
  },
  {
   "cell_type": "code",
   "execution_count": 167,
   "id": "6f564c63-166a-498d-941c-d1ca34ac45ce",
   "metadata": {},
   "outputs": [
    {
     "data": {
      "text/plain": [
       "0.8229282723116524"
      ]
     },
     "execution_count": 167,
     "metadata": {},
     "output_type": "execute_result"
    }
   ],
   "source": [
    "log_reg.score(X_train,y_train)"
   ]
  },
  {
   "cell_type": "markdown",
   "id": "28e20218-b570-4652-9573-bf170893514a",
   "metadata": {},
   "source": [
    "###  Isolation Forest algorithm "
   ]
  },
  {
   "cell_type": "code",
   "execution_count": null,
   "id": "3220f6a3-df10-4cae-bb54-f1b8b12a4137",
   "metadata": {},
   "outputs": [],
   "source": []
  },
  {
   "cell_type": "code",
   "execution_count": 181,
   "id": "00e01d9d-7851-4b04-a37f-639a9655c1d8",
   "metadata": {},
   "outputs": [],
   "source": [
    "from sklearn.ensemble import IsolationForest\n"
   ]
  },
  {
   "cell_type": "code",
   "execution_count": 182,
   "id": "c133e107-48d1-4461-8ce1-93e69165f8b9",
   "metadata": {},
   "outputs": [],
   "source": [
    "iso_forest = IsolationForest(contamination=0.05, random_state=42)"
   ]
  },
  {
   "cell_type": "code",
   "execution_count": 183,
   "id": "5fb846ef-0bb1-4742-a154-8471ffad0931",
   "metadata": {},
   "outputs": [],
   "source": [
    "outliers = iso_forest.fit_predict(X)\n"
   ]
  },
  {
   "cell_type": "code",
   "execution_count": 186,
   "id": "0a253010-e788-4f8e-9fc2-b01efde3acce",
   "metadata": {},
   "outputs": [],
   "source": [
    "df_cleaned = df[outliers == 1]"
   ]
  },
  {
   "cell_type": "code",
   "execution_count": 187,
   "id": "3e4c4a57-d45d-4dc9-a40c-e198db12af65",
   "metadata": {},
   "outputs": [
    {
     "data": {
      "text/html": [
       "<div>\n",
       "<style scoped>\n",
       "    .dataframe tbody tr th:only-of-type {\n",
       "        vertical-align: middle;\n",
       "    }\n",
       "\n",
       "    .dataframe tbody tr th {\n",
       "        vertical-align: top;\n",
       "    }\n",
       "\n",
       "    .dataframe thead th {\n",
       "        text-align: right;\n",
       "    }\n",
       "</style>\n",
       "<table border=\"1\" class=\"dataframe\">\n",
       "  <thead>\n",
       "    <tr style=\"text-align: right;\">\n",
       "      <th></th>\n",
       "      <th>age</th>\n",
       "      <th>workclass</th>\n",
       "      <th>fnlwgt</th>\n",
       "      <th>education</th>\n",
       "      <th>education_num</th>\n",
       "      <th>occupation</th>\n",
       "      <th>relationship</th>\n",
       "      <th>race</th>\n",
       "      <th>capital_gain</th>\n",
       "      <th>capital_loss</th>\n",
       "      <th>hours_per_week</th>\n",
       "      <th>native_country</th>\n",
       "      <th>income</th>\n",
       "      <th>marital_status_ Married-AF-spouse</th>\n",
       "      <th>marital_status_ Married-civ-spouse</th>\n",
       "      <th>marital_status_ Never-married</th>\n",
       "      <th>marital_status_ Other</th>\n",
       "      <th>sex_ Female</th>\n",
       "      <th>sex_ Male</th>\n",
       "    </tr>\n",
       "  </thead>\n",
       "  <tbody>\n",
       "    <tr>\n",
       "      <th>0</th>\n",
       "      <td>3.663562</td>\n",
       "      <td>7</td>\n",
       "      <td>11.258240</td>\n",
       "      <td>0</td>\n",
       "      <td>13</td>\n",
       "      <td>0</td>\n",
       "      <td>1</td>\n",
       "      <td>4</td>\n",
       "      <td>2174</td>\n",
       "      <td>0</td>\n",
       "      <td>40</td>\n",
       "      <td>38</td>\n",
       "      <td>0</td>\n",
       "      <td>0</td>\n",
       "      <td>0</td>\n",
       "      <td>1</td>\n",
       "      <td>0</td>\n",
       "      <td>0</td>\n",
       "      <td>1</td>\n",
       "    </tr>\n",
       "    <tr>\n",
       "      <th>1</th>\n",
       "      <td>3.912023</td>\n",
       "      <td>6</td>\n",
       "      <td>11.330336</td>\n",
       "      <td>0</td>\n",
       "      <td>13</td>\n",
       "      <td>3</td>\n",
       "      <td>0</td>\n",
       "      <td>4</td>\n",
       "      <td>0</td>\n",
       "      <td>0</td>\n",
       "      <td>13</td>\n",
       "      <td>38</td>\n",
       "      <td>0</td>\n",
       "      <td>0</td>\n",
       "      <td>1</td>\n",
       "      <td>0</td>\n",
       "      <td>0</td>\n",
       "      <td>0</td>\n",
       "      <td>1</td>\n",
       "    </tr>\n",
       "    <tr>\n",
       "      <th>2</th>\n",
       "      <td>3.637586</td>\n",
       "      <td>4</td>\n",
       "      <td>12.281393</td>\n",
       "      <td>2</td>\n",
       "      <td>9</td>\n",
       "      <td>5</td>\n",
       "      <td>1</td>\n",
       "      <td>4</td>\n",
       "      <td>0</td>\n",
       "      <td>0</td>\n",
       "      <td>40</td>\n",
       "      <td>38</td>\n",
       "      <td>0</td>\n",
       "      <td>0</td>\n",
       "      <td>0</td>\n",
       "      <td>0</td>\n",
       "      <td>1</td>\n",
       "      <td>0</td>\n",
       "      <td>1</td>\n",
       "    </tr>\n",
       "    <tr>\n",
       "      <th>3</th>\n",
       "      <td>3.970292</td>\n",
       "      <td>4</td>\n",
       "      <td>12.366153</td>\n",
       "      <td>5</td>\n",
       "      <td>7</td>\n",
       "      <td>5</td>\n",
       "      <td>0</td>\n",
       "      <td>2</td>\n",
       "      <td>0</td>\n",
       "      <td>0</td>\n",
       "      <td>40</td>\n",
       "      <td>38</td>\n",
       "      <td>0</td>\n",
       "      <td>0</td>\n",
       "      <td>1</td>\n",
       "      <td>0</td>\n",
       "      <td>0</td>\n",
       "      <td>0</td>\n",
       "      <td>1</td>\n",
       "    </tr>\n",
       "    <tr>\n",
       "      <th>5</th>\n",
       "      <td>3.610918</td>\n",
       "      <td>4</td>\n",
       "      <td>12.558777</td>\n",
       "      <td>4</td>\n",
       "      <td>14</td>\n",
       "      <td>3</td>\n",
       "      <td>5</td>\n",
       "      <td>4</td>\n",
       "      <td>0</td>\n",
       "      <td>0</td>\n",
       "      <td>40</td>\n",
       "      <td>38</td>\n",
       "      <td>0</td>\n",
       "      <td>0</td>\n",
       "      <td>1</td>\n",
       "      <td>0</td>\n",
       "      <td>0</td>\n",
       "      <td>1</td>\n",
       "      <td>0</td>\n",
       "    </tr>\n",
       "    <tr>\n",
       "      <th>...</th>\n",
       "      <td>...</td>\n",
       "      <td>...</td>\n",
       "      <td>...</td>\n",
       "      <td>...</td>\n",
       "      <td>...</td>\n",
       "      <td>...</td>\n",
       "      <td>...</td>\n",
       "      <td>...</td>\n",
       "      <td>...</td>\n",
       "      <td>...</td>\n",
       "      <td>...</td>\n",
       "      <td>...</td>\n",
       "      <td>...</td>\n",
       "      <td>...</td>\n",
       "      <td>...</td>\n",
       "      <td>...</td>\n",
       "      <td>...</td>\n",
       "      <td>...</td>\n",
       "      <td>...</td>\n",
       "    </tr>\n",
       "    <tr>\n",
       "      <th>32556</th>\n",
       "      <td>3.295837</td>\n",
       "      <td>4</td>\n",
       "      <td>12.458006</td>\n",
       "      <td>3</td>\n",
       "      <td>12</td>\n",
       "      <td>12</td>\n",
       "      <td>5</td>\n",
       "      <td>4</td>\n",
       "      <td>0</td>\n",
       "      <td>0</td>\n",
       "      <td>38</td>\n",
       "      <td>38</td>\n",
       "      <td>0</td>\n",
       "      <td>0</td>\n",
       "      <td>1</td>\n",
       "      <td>0</td>\n",
       "      <td>0</td>\n",
       "      <td>1</td>\n",
       "      <td>0</td>\n",
       "    </tr>\n",
       "    <tr>\n",
       "      <th>32557</th>\n",
       "      <td>3.688879</td>\n",
       "      <td>4</td>\n",
       "      <td>11.947134</td>\n",
       "      <td>2</td>\n",
       "      <td>9</td>\n",
       "      <td>6</td>\n",
       "      <td>0</td>\n",
       "      <td>4</td>\n",
       "      <td>0</td>\n",
       "      <td>0</td>\n",
       "      <td>40</td>\n",
       "      <td>38</td>\n",
       "      <td>1</td>\n",
       "      <td>0</td>\n",
       "      <td>1</td>\n",
       "      <td>0</td>\n",
       "      <td>0</td>\n",
       "      <td>0</td>\n",
       "      <td>1</td>\n",
       "    </tr>\n",
       "    <tr>\n",
       "      <th>32558</th>\n",
       "      <td>4.060443</td>\n",
       "      <td>4</td>\n",
       "      <td>11.931044</td>\n",
       "      <td>2</td>\n",
       "      <td>9</td>\n",
       "      <td>0</td>\n",
       "      <td>4</td>\n",
       "      <td>4</td>\n",
       "      <td>0</td>\n",
       "      <td>0</td>\n",
       "      <td>40</td>\n",
       "      <td>38</td>\n",
       "      <td>0</td>\n",
       "      <td>0</td>\n",
       "      <td>0</td>\n",
       "      <td>0</td>\n",
       "      <td>1</td>\n",
       "      <td>1</td>\n",
       "      <td>0</td>\n",
       "    </tr>\n",
       "    <tr>\n",
       "      <th>32559</th>\n",
       "      <td>3.091042</td>\n",
       "      <td>4</td>\n",
       "      <td>12.213495</td>\n",
       "      <td>2</td>\n",
       "      <td>9</td>\n",
       "      <td>0</td>\n",
       "      <td>3</td>\n",
       "      <td>4</td>\n",
       "      <td>0</td>\n",
       "      <td>0</td>\n",
       "      <td>20</td>\n",
       "      <td>38</td>\n",
       "      <td>0</td>\n",
       "      <td>0</td>\n",
       "      <td>0</td>\n",
       "      <td>1</td>\n",
       "      <td>0</td>\n",
       "      <td>0</td>\n",
       "      <td>1</td>\n",
       "    </tr>\n",
       "    <tr>\n",
       "      <th>32560</th>\n",
       "      <td>3.951244</td>\n",
       "      <td>5</td>\n",
       "      <td>12.570462</td>\n",
       "      <td>2</td>\n",
       "      <td>9</td>\n",
       "      <td>3</td>\n",
       "      <td>5</td>\n",
       "      <td>4</td>\n",
       "      <td>15024</td>\n",
       "      <td>0</td>\n",
       "      <td>40</td>\n",
       "      <td>38</td>\n",
       "      <td>1</td>\n",
       "      <td>0</td>\n",
       "      <td>1</td>\n",
       "      <td>0</td>\n",
       "      <td>0</td>\n",
       "      <td>1</td>\n",
       "      <td>0</td>\n",
       "    </tr>\n",
       "  </tbody>\n",
       "</table>\n",
       "<p>30910 rows × 19 columns</p>\n",
       "</div>"
      ],
      "text/plain": [
       "            age  workclass     fnlwgt  education  education_num  occupation  \\\n",
       "0      3.663562          7  11.258240          0             13           0   \n",
       "1      3.912023          6  11.330336          0             13           3   \n",
       "2      3.637586          4  12.281393          2              9           5   \n",
       "3      3.970292          4  12.366153          5              7           5   \n",
       "5      3.610918          4  12.558777          4             14           3   \n",
       "...         ...        ...        ...        ...            ...         ...   \n",
       "32556  3.295837          4  12.458006          3             12          12   \n",
       "32557  3.688879          4  11.947134          2              9           6   \n",
       "32558  4.060443          4  11.931044          2              9           0   \n",
       "32559  3.091042          4  12.213495          2              9           0   \n",
       "32560  3.951244          5  12.570462          2              9           3   \n",
       "\n",
       "       relationship  race  capital_gain  capital_loss  hours_per_week  \\\n",
       "0                 1     4          2174             0              40   \n",
       "1                 0     4             0             0              13   \n",
       "2                 1     4             0             0              40   \n",
       "3                 0     2             0             0              40   \n",
       "5                 5     4             0             0              40   \n",
       "...             ...   ...           ...           ...             ...   \n",
       "32556             5     4             0             0              38   \n",
       "32557             0     4             0             0              40   \n",
       "32558             4     4             0             0              40   \n",
       "32559             3     4             0             0              20   \n",
       "32560             5     4         15024             0              40   \n",
       "\n",
       "       native_country  income  marital_status_ Married-AF-spouse  \\\n",
       "0                  38       0                                  0   \n",
       "1                  38       0                                  0   \n",
       "2                  38       0                                  0   \n",
       "3                  38       0                                  0   \n",
       "5                  38       0                                  0   \n",
       "...               ...     ...                                ...   \n",
       "32556              38       0                                  0   \n",
       "32557              38       1                                  0   \n",
       "32558              38       0                                  0   \n",
       "32559              38       0                                  0   \n",
       "32560              38       1                                  0   \n",
       "\n",
       "       marital_status_ Married-civ-spouse  marital_status_ Never-married  \\\n",
       "0                                       0                              1   \n",
       "1                                       1                              0   \n",
       "2                                       0                              0   \n",
       "3                                       1                              0   \n",
       "5                                       1                              0   \n",
       "...                                   ...                            ...   \n",
       "32556                                   1                              0   \n",
       "32557                                   1                              0   \n",
       "32558                                   0                              0   \n",
       "32559                                   0                              1   \n",
       "32560                                   1                              0   \n",
       "\n",
       "       marital_status_ Other  sex_ Female  sex_ Male  \n",
       "0                          0            0          1  \n",
       "1                          0            0          1  \n",
       "2                          1            0          1  \n",
       "3                          0            0          1  \n",
       "5                          0            1          0  \n",
       "...                      ...          ...        ...  \n",
       "32556                      0            1          0  \n",
       "32557                      0            0          1  \n",
       "32558                      1            1          0  \n",
       "32559                      0            0          1  \n",
       "32560                      0            1          0  \n",
       "\n",
       "[30910 rows x 19 columns]"
      ]
     },
     "execution_count": 187,
     "metadata": {},
     "output_type": "execute_result"
    }
   ],
   "source": [
    "df_cleaned"
   ]
  },
  {
   "cell_type": "code",
   "execution_count": 189,
   "id": "53d9c990-b9a6-4a5b-8e98-736124f34ab7",
   "metadata": {},
   "outputs": [
    {
     "name": "stdout",
     "output_type": "stream",
     "text": [
      "Collecting ppscoreNote: you may need to restart the kernel to use updated packages.\n",
      "\n",
      "  Downloading ppscore-1.3.0.tar.gz (17 kB)\n",
      "  Preparing metadata (setup.py): started\n",
      "  Preparing metadata (setup.py): finished with status 'done'\n",
      "Collecting pandas<2.0.0,>=1.0.0 (from ppscore)\n",
      "  Downloading pandas-1.5.3-cp311-cp311-win_amd64.whl.metadata (12 kB)\n",
      "Collecting scikit-learn<2.0.0,>=0.20.2 (from ppscore)\n",
      "  Downloading scikit_learn-1.5.0-cp311-cp311-win_amd64.whl.metadata (11 kB)\n",
      "Collecting python-dateutil>=2.8.1 (from pandas<2.0.0,>=1.0.0->ppscore)\n",
      "  Using cached python_dateutil-2.9.0.post0-py2.py3-none-any.whl.metadata (8.4 kB)\n",
      "Collecting pytz>=2020.1 (from pandas<2.0.0,>=1.0.0->ppscore)\n",
      "  Using cached pytz-2024.1-py2.py3-none-any.whl.metadata (22 kB)\n",
      "Collecting numpy>=1.21.0 (from pandas<2.0.0,>=1.0.0->ppscore)\n",
      "  Using cached numpy-1.26.4-cp311-cp311-win_amd64.whl.metadata (61 kB)\n",
      "Collecting scipy>=1.6.0 (from scikit-learn<2.0.0,>=0.20.2->ppscore)\n",
      "  Downloading scipy-1.13.1-cp311-cp311-win_amd64.whl.metadata (60 kB)\n",
      "     ---------------------------------------- 0.0/60.6 kB ? eta -:--:--\n",
      "     --------------------------- ------------ 41.0/60.6 kB 1.9 MB/s eta 0:00:01\n",
      "     --------------------------- ------------ 41.0/60.6 kB 1.9 MB/s eta 0:00:01\n",
      "     --------------------------- ------------ 41.0/60.6 kB 1.9 MB/s eta 0:00:01\n",
      "     -------------------------------- ----- 51.2/60.6 kB 201.8 kB/s eta 0:00:01\n",
      "     -------------------------------------- 60.6/60.6 kB 215.1 kB/s eta 0:00:00\n",
      "Collecting joblib>=1.2.0 (from scikit-learn<2.0.0,>=0.20.2->ppscore)\n",
      "  Using cached joblib-1.4.2-py3-none-any.whl.metadata (5.4 kB)\n",
      "Collecting threadpoolctl>=3.1.0 (from scikit-learn<2.0.0,>=0.20.2->ppscore)\n",
      "  Using cached threadpoolctl-3.5.0-py3-none-any.whl.metadata (13 kB)\n",
      "Collecting six>=1.5 (from python-dateutil>=2.8.1->pandas<2.0.0,>=1.0.0->ppscore)\n",
      "  Using cached six-1.16.0-py2.py3-none-any.whl.metadata (1.8 kB)\n",
      "Downloading pandas-1.5.3-cp311-cp311-win_amd64.whl (10.3 MB)\n",
      "   ---------------------------------------- 0.0/10.3 MB ? eta -:--:--\n",
      "   ---------------------------------------- 0.0/10.3 MB ? eta -:--:--\n",
      "   ---------------------------------------- 0.0/10.3 MB ? eta -:--:--\n",
      "   ---------------------------------------- 0.0/10.3 MB ? eta -:--:--\n",
      "   ---------------------------------------- 0.0/10.3 MB 991.0 kB/s eta 0:00:11\n",
      "   ---------------------------------------- 0.1/10.3 MB 871.5 kB/s eta 0:00:12\n",
      "   ---------------------------------------- 0.1/10.3 MB 845.5 kB/s eta 0:00:13\n",
      "   ---------------------------------------- 0.1/10.3 MB 845.5 kB/s eta 0:00:13\n",
      "   ---------------------------------------- 0.1/10.3 MB 845.5 kB/s eta 0:00:13\n",
      "   ---------------------------------------- 0.1/10.3 MB 845.5 kB/s eta 0:00:13\n",
      "   ---------------------------------------- 0.1/10.3 MB 845.5 kB/s eta 0:00:13\n",
      "   ---------------------------------------- 0.1/10.3 MB 845.5 kB/s eta 0:00:13\n",
      "    --------------------------------------- 0.2/10.3 MB 416.7 kB/s eta 0:00:25\n",
      "    --------------------------------------- 0.2/10.3 MB 378.3 kB/s eta 0:00:27\n",
      "    --------------------------------------- 0.2/10.3 MB 384.3 kB/s eta 0:00:27\n",
      "    --------------------------------------- 0.2/10.3 MB 396.9 kB/s eta 0:00:26\n",
      "   - -------------------------------------- 0.3/10.3 MB 520.7 kB/s eta 0:00:20\n",
      "   - -------------------------------------- 0.4/10.3 MB 588.5 kB/s eta 0:00:17\n",
      "   - -------------------------------------- 0.4/10.3 MB 609.5 kB/s eta 0:00:17\n",
      "   - -------------------------------------- 0.5/10.3 MB 655.1 kB/s eta 0:00:15\n",
      "   -- ------------------------------------- 0.5/10.3 MB 681.8 kB/s eta 0:00:15\n",
      "   -- ------------------------------------- 0.6/10.3 MB 704.9 kB/s eta 0:00:14\n",
      "   -- ------------------------------------- 0.7/10.3 MB 737.3 kB/s eta 0:00:14\n",
      "   -- ------------------------------------- 0.7/10.3 MB 768.6 kB/s eta 0:00:13\n",
      "   --- ------------------------------------ 0.8/10.3 MB 805.9 kB/s eta 0:00:12\n",
      "   --- ------------------------------------ 0.9/10.3 MB 863.7 kB/s eta 0:00:11\n",
      "   --- ------------------------------------ 1.0/10.3 MB 913.8 kB/s eta 0:00:11\n",
      "   --- ------------------------------------ 1.0/10.3 MB 954.6 kB/s eta 0:00:10\n",
      "   ---- ----------------------------------- 1.1/10.3 MB 997.2 kB/s eta 0:00:10\n",
      "   ---- ----------------------------------- 1.2/10.3 MB 1.0 MB/s eta 0:00:09\n",
      "   ---- ----------------------------------- 1.3/10.3 MB 1.1 MB/s eta 0:00:09\n",
      "   ----- ---------------------------------- 1.3/10.3 MB 1.1 MB/s eta 0:00:09\n",
      "   ----- ---------------------------------- 1.4/10.3 MB 1.1 MB/s eta 0:00:09\n",
      "   ----- ---------------------------------- 1.4/10.3 MB 1.0 MB/s eta 0:00:09\n",
      "   ----- ---------------------------------- 1.5/10.3 MB 1.1 MB/s eta 0:00:09\n",
      "   ------ --------------------------------- 1.5/10.3 MB 1.1 MB/s eta 0:00:08\n",
      "   ------ --------------------------------- 1.7/10.3 MB 1.2 MB/s eta 0:00:08\n",
      "   ------ --------------------------------- 1.8/10.3 MB 1.2 MB/s eta 0:00:07\n",
      "   ------- -------------------------------- 1.9/10.3 MB 1.3 MB/s eta 0:00:07\n",
      "   ------- -------------------------------- 2.0/10.3 MB 1.3 MB/s eta 0:00:07\n",
      "   -------- ------------------------------- 2.1/10.3 MB 1.3 MB/s eta 0:00:07\n",
      "   -------- ------------------------------- 2.2/10.3 MB 1.3 MB/s eta 0:00:07\n",
      "   -------- ------------------------------- 2.2/10.3 MB 1.3 MB/s eta 0:00:07\n",
      "   -------- ------------------------------- 2.3/10.3 MB 1.3 MB/s eta 0:00:07\n",
      "   --------- ------------------------------ 2.4/10.3 MB 1.3 MB/s eta 0:00:07\n",
      "   --------- ------------------------------ 2.5/10.3 MB 1.4 MB/s eta 0:00:06\n",
      "   ---------- ----------------------------- 2.6/10.3 MB 1.4 MB/s eta 0:00:06\n",
      "   ---------- ----------------------------- 2.7/10.3 MB 1.4 MB/s eta 0:00:06\n",
      "   ---------- ----------------------------- 2.8/10.3 MB 1.4 MB/s eta 0:00:06\n",
      "   ----------- ---------------------------- 2.9/10.3 MB 1.4 MB/s eta 0:00:06\n",
      "   ----------- ---------------------------- 3.0/10.3 MB 1.5 MB/s eta 0:00:05\n",
      "   ------------ --------------------------- 3.2/10.3 MB 1.5 MB/s eta 0:00:05\n",
      "   ------------ --------------------------- 3.3/10.3 MB 1.5 MB/s eta 0:00:05\n",
      "   ------------- -------------------------- 3.4/10.3 MB 1.5 MB/s eta 0:00:05\n",
      "   ------------- -------------------------- 3.4/10.3 MB 1.5 MB/s eta 0:00:05\n",
      "   ------------- -------------------------- 3.4/10.3 MB 1.5 MB/s eta 0:00:05\n",
      "   ------------- -------------------------- 3.4/10.3 MB 1.5 MB/s eta 0:00:05\n",
      "   ------------- -------------------------- 3.4/10.3 MB 1.5 MB/s eta 0:00:05\n",
      "   ------------- -------------------------- 3.4/10.3 MB 1.5 MB/s eta 0:00:05\n",
      "   ------------- -------------------------- 3.5/10.3 MB 1.4 MB/s eta 0:00:05\n",
      "   -------------- ------------------------- 3.9/10.3 MB 1.6 MB/s eta 0:00:05\n",
      "   --------------- ------------------------ 4.0/10.3 MB 1.6 MB/s eta 0:00:05\n",
      "   --------------- ------------------------ 4.1/10.3 MB 1.6 MB/s eta 0:00:05\n",
      "   ---------------- ----------------------- 4.2/10.3 MB 1.6 MB/s eta 0:00:04\n",
      "   ---------------- ----------------------- 4.2/10.3 MB 1.6 MB/s eta 0:00:04\n",
      "   ---------------- ----------------------- 4.3/10.3 MB 1.6 MB/s eta 0:00:04\n",
      "   ---------------- ----------------------- 4.4/10.3 MB 1.6 MB/s eta 0:00:04\n",
      "   ----------------- ---------------------- 4.5/10.3 MB 1.6 MB/s eta 0:00:04\n",
      "   ----------------- ---------------------- 4.5/10.3 MB 1.6 MB/s eta 0:00:04\n",
      "   ----------------- ---------------------- 4.6/10.3 MB 1.6 MB/s eta 0:00:04\n",
      "   ----------------- ---------------------- 4.6/10.3 MB 1.6 MB/s eta 0:00:04\n",
      "   ------------------ --------------------- 4.8/10.3 MB 1.6 MB/s eta 0:00:04\n",
      "   ------------------- -------------------- 4.9/10.3 MB 1.6 MB/s eta 0:00:04\n",
      "   ------------------- -------------------- 5.0/10.3 MB 1.6 MB/s eta 0:00:04\n",
      "   -------------------- ------------------- 5.2/10.3 MB 1.7 MB/s eta 0:00:04\n",
      "   -------------------- ------------------- 5.3/10.3 MB 1.7 MB/s eta 0:00:03\n",
      "   -------------------- ------------------- 5.4/10.3 MB 1.7 MB/s eta 0:00:03\n",
      "   --------------------- ------------------ 5.4/10.3 MB 1.7 MB/s eta 0:00:03\n",
      "   --------------------- ------------------ 5.6/10.3 MB 1.7 MB/s eta 0:00:03\n",
      "   ---------------------- ----------------- 5.7/10.3 MB 1.8 MB/s eta 0:00:03\n",
      "   ---------------------- ----------------- 5.8/10.3 MB 1.8 MB/s eta 0:00:03\n",
      "   ----------------------- ---------------- 5.9/10.3 MB 1.8 MB/s eta 0:00:03\n",
      "   ----------------------- ---------------- 6.1/10.3 MB 1.8 MB/s eta 0:00:03\n",
      "   ----------------------- ---------------- 6.2/10.3 MB 1.8 MB/s eta 0:00:03\n",
      "   ------------------------ --------------- 6.3/10.3 MB 1.8 MB/s eta 0:00:03\n",
      "   ------------------------ --------------- 6.4/10.3 MB 1.9 MB/s eta 0:00:03\n",
      "   ------------------------- -------------- 6.6/10.3 MB 1.9 MB/s eta 0:00:03\n",
      "   -------------------------- ------------- 6.7/10.3 MB 1.9 MB/s eta 0:00:02\n",
      "   -------------------------- ------------- 6.9/10.3 MB 1.9 MB/s eta 0:00:02\n",
      "   --------------------------- ------------ 7.0/10.3 MB 1.9 MB/s eta 0:00:02\n",
      "   --------------------------- ------------ 7.2/10.3 MB 1.9 MB/s eta 0:00:02\n",
      "   ---------------------------- ----------- 7.3/10.3 MB 2.0 MB/s eta 0:00:02\n",
      "   ---------------------------- ----------- 7.4/10.3 MB 2.0 MB/s eta 0:00:02\n",
      "   ----------------------------- ---------- 7.5/10.3 MB 2.0 MB/s eta 0:00:02\n",
      "   ----------------------------- ---------- 7.5/10.3 MB 2.0 MB/s eta 0:00:02\n",
      "   ------------------------------ --------- 7.7/10.3 MB 2.0 MB/s eta 0:00:02\n",
      "   ------------------------------ --------- 7.7/10.3 MB 2.0 MB/s eta 0:00:02\n",
      "   ------------------------------ --------- 7.7/10.3 MB 2.0 MB/s eta 0:00:02\n",
      "   ------------------------------ --------- 7.9/10.3 MB 2.0 MB/s eta 0:00:02\n",
      "   ------------------------------- -------- 8.0/10.3 MB 2.0 MB/s eta 0:00:02\n",
      "   ------------------------------- -------- 8.1/10.3 MB 2.0 MB/s eta 0:00:02\n",
      "   ------------------------------- -------- 8.2/10.3 MB 2.0 MB/s eta 0:00:02\n",
      "   -------------------------------- ------- 8.3/10.3 MB 2.0 MB/s eta 0:00:01\n",
      "   -------------------------------- ------- 8.4/10.3 MB 2.0 MB/s eta 0:00:01\n",
      "   -------------------------------- ------- 8.5/10.3 MB 2.0 MB/s eta 0:00:01\n",
      "   -------------------------------- ------- 8.5/10.3 MB 2.0 MB/s eta 0:00:01\n",
      "   -------------------------------- ------- 8.5/10.3 MB 2.0 MB/s eta 0:00:01\n",
      "   -------------------------------- ------- 8.5/10.3 MB 2.0 MB/s eta 0:00:01\n",
      "   -------------------------------- ------- 8.5/10.3 MB 2.0 MB/s eta 0:00:01\n",
      "   -------------------------------- ------- 8.5/10.3 MB 1.9 MB/s eta 0:00:01\n",
      "   --------------------------------- ------ 8.6/10.3 MB 2.0 MB/s eta 0:00:01\n",
      "   --------------------------------- ------ 8.6/10.3 MB 1.9 MB/s eta 0:00:01\n",
      "   ---------------------------------- ----- 8.8/10.3 MB 1.9 MB/s eta 0:00:01\n",
      "   ----------------------------------- ---- 9.1/10.3 MB 2.0 MB/s eta 0:00:01\n",
      "   ----------------------------------- ---- 9.2/10.3 MB 2.0 MB/s eta 0:00:01\n",
      "   ------------------------------------ --- 9.3/10.3 MB 2.0 MB/s eta 0:00:01\n",
      "   ------------------------------------ --- 9.5/10.3 MB 2.0 MB/s eta 0:00:01\n",
      "   ------------------------------------ --- 9.5/10.3 MB 2.0 MB/s eta 0:00:01\n",
      "   ------------------------------------- -- 9.6/10.3 MB 2.0 MB/s eta 0:00:01\n",
      "   ------------------------------------- -- 9.6/10.3 MB 2.0 MB/s eta 0:00:01\n",
      "   ------------------------------------- -- 9.6/10.3 MB 2.0 MB/s eta 0:00:01\n",
      "   ------------------------------------- -- 9.6/10.3 MB 2.0 MB/s eta 0:00:01\n",
      "   ------------------------------------- -- 9.6/10.3 MB 2.0 MB/s eta 0:00:01\n",
      "   ------------------------------------- -- 9.6/10.3 MB 2.0 MB/s eta 0:00:01\n",
      "   ---------------------------------------  10.3/10.3 MB 2.1 MB/s eta 0:00:01\n",
      "   ---------------------------------------  10.3/10.3 MB 2.1 MB/s eta 0:00:01\n",
      "   ---------------------------------------- 10.3/10.3 MB 2.0 MB/s eta 0:00:00\n",
      "Downloading scikit_learn-1.5.0-cp311-cp311-win_amd64.whl (11.0 MB)\n",
      "   ---------------------------------------- 0.0/11.0 MB ? eta -:--:--\n",
      "   ---------------------------------------- 0.1/11.0 MB 2.6 MB/s eta 0:00:05\n",
      "   - -------------------------------------- 0.3/11.0 MB 3.5 MB/s eta 0:00:04\n",
      "   - -------------------------------------- 0.5/11.0 MB 3.9 MB/s eta 0:00:03\n",
      "   -- ------------------------------------- 0.6/11.0 MB 3.7 MB/s eta 0:00:03\n",
      "   --- ------------------------------------ 0.9/11.0 MB 4.0 MB/s eta 0:00:03\n",
      "   --- ------------------------------------ 1.0/11.0 MB 3.7 MB/s eta 0:00:03\n",
      "   ---- ----------------------------------- 1.2/11.0 MB 4.0 MB/s eta 0:00:03\n",
      "   ---- ----------------------------------- 1.3/11.0 MB 3.7 MB/s eta 0:00:03\n",
      "   ----- ---------------------------------- 1.4/11.0 MB 3.6 MB/s eta 0:00:03\n",
      "   ----- ---------------------------------- 1.5/11.0 MB 3.7 MB/s eta 0:00:03\n",
      "   ------ --------------------------------- 1.9/11.0 MB 4.0 MB/s eta 0:00:03\n",
      "   ------ --------------------------------- 1.9/11.0 MB 3.8 MB/s eta 0:00:03\n",
      "   ------- -------------------------------- 2.0/11.0 MB 3.7 MB/s eta 0:00:03\n",
      "   -------- ------------------------------- 2.2/11.0 MB 3.7 MB/s eta 0:00:03\n",
      "   -------- ------------------------------- 2.4/11.0 MB 3.8 MB/s eta 0:00:03\n",
      "   --------- ------------------------------ 2.5/11.0 MB 3.6 MB/s eta 0:00:03\n",
      "   --------- ------------------------------ 2.7/11.0 MB 3.8 MB/s eta 0:00:03\n",
      "   ---------- ----------------------------- 2.9/11.0 MB 3.8 MB/s eta 0:00:03\n",
      "   ---------- ----------------------------- 2.9/11.0 MB 3.7 MB/s eta 0:00:03\n",
      "   ---------- ----------------------------- 2.9/11.0 MB 3.7 MB/s eta 0:00:03\n",
      "   ------------ --------------------------- 3.3/11.0 MB 3.7 MB/s eta 0:00:03\n",
      "   ------------ --------------------------- 3.5/11.0 MB 3.8 MB/s eta 0:00:02\n",
      "   ------------- -------------------------- 3.7/11.0 MB 3.8 MB/s eta 0:00:02\n",
      "   ------------- -------------------------- 3.7/11.0 MB 3.8 MB/s eta 0:00:02\n",
      "   -------------- ------------------------- 4.0/11.0 MB 3.8 MB/s eta 0:00:02\n",
      "   --------------- ------------------------ 4.2/11.0 MB 3.8 MB/s eta 0:00:02\n",
      "   --------------- ------------------------ 4.4/11.0 MB 3.9 MB/s eta 0:00:02\n",
      "   ---------------- ----------------------- 4.6/11.0 MB 3.9 MB/s eta 0:00:02\n",
      "   ----------------- ---------------------- 4.7/11.0 MB 3.9 MB/s eta 0:00:02\n",
      "   ------------------ --------------------- 5.0/11.0 MB 3.9 MB/s eta 0:00:02\n",
      "   ------------------ --------------------- 5.1/11.0 MB 3.9 MB/s eta 0:00:02\n",
      "   ------------------- -------------------- 5.3/11.0 MB 4.0 MB/s eta 0:00:02\n",
      "   -------------------- ------------------- 5.5/11.0 MB 4.0 MB/s eta 0:00:02\n",
      "   --------------------- ------------------ 5.8/11.0 MB 4.1 MB/s eta 0:00:02\n",
      "   --------------------- ------------------ 5.9/11.0 MB 4.1 MB/s eta 0:00:02\n",
      "   ---------------------- ----------------- 6.1/11.0 MB 4.0 MB/s eta 0:00:02\n",
      "   ---------------------- ----------------- 6.3/11.0 MB 4.1 MB/s eta 0:00:02\n",
      "   ----------------------- ---------------- 6.4/11.0 MB 4.1 MB/s eta 0:00:02\n",
      "   ------------------------ --------------- 6.6/11.0 MB 4.1 MB/s eta 0:00:02\n",
      "   ------------------------ --------------- 6.7/11.0 MB 4.1 MB/s eta 0:00:02\n",
      "   ------------------------- -------------- 7.0/11.0 MB 4.1 MB/s eta 0:00:01\n",
      "   ------------------------- -------------- 7.1/11.0 MB 4.1 MB/s eta 0:00:01\n",
      "   -------------------------- ------------- 7.3/11.0 MB 4.2 MB/s eta 0:00:01\n",
      "   --------------------------- ------------ 7.5/11.0 MB 4.2 MB/s eta 0:00:01\n",
      "   --------------------------- ------------ 7.6/11.0 MB 4.1 MB/s eta 0:00:01\n",
      "   ---------------------------- ----------- 7.8/11.0 MB 4.1 MB/s eta 0:00:01\n",
      "   ---------------------------- ----------- 7.8/11.0 MB 4.1 MB/s eta 0:00:01\n",
      "   ---------------------------- ----------- 7.8/11.0 MB 4.1 MB/s eta 0:00:01\n",
      "   ---------------------------- ----------- 7.8/11.0 MB 4.1 MB/s eta 0:00:01\n",
      "   ---------------------------- ----------- 7.8/11.0 MB 4.1 MB/s eta 0:00:01\n",
      "   ---------------------------- ----------- 7.8/11.0 MB 4.1 MB/s eta 0:00:01\n",
      "   ---------------------------- ----------- 7.8/11.0 MB 4.1 MB/s eta 0:00:01\n",
      "   ---------------------------- ----------- 7.8/11.0 MB 4.1 MB/s eta 0:00:01\n",
      "   ---------------------------- ----------- 7.8/11.0 MB 4.1 MB/s eta 0:00:01\n",
      "   ---------------------------- ----------- 7.8/11.0 MB 3.5 MB/s eta 0:00:01\n",
      "   ---------------------------- ----------- 7.8/11.0 MB 3.5 MB/s eta 0:00:01\n",
      "   ---------------------------- ----------- 7.8/11.0 MB 3.5 MB/s eta 0:00:01\n",
      "   ---------------------------- ----------- 7.8/11.0 MB 3.5 MB/s eta 0:00:01\n",
      "   ---------------------------- ----------- 7.8/11.0 MB 3.5 MB/s eta 0:00:01\n",
      "   ---------------------------- ----------- 7.8/11.0 MB 3.5 MB/s eta 0:00:01\n",
      "   ---------------------------- ----------- 7.9/11.0 MB 3.2 MB/s eta 0:00:01\n",
      "   ---------------------------- ----------- 7.9/11.0 MB 3.2 MB/s eta 0:00:01\n",
      "   ----------------------------- ---------- 8.0/11.0 MB 3.2 MB/s eta 0:00:01\n",
      "   ----------------------------- ---------- 8.0/11.0 MB 3.2 MB/s eta 0:00:01\n",
      "   ----------------------------- ---------- 8.0/11.0 MB 3.2 MB/s eta 0:00:01\n",
      "   ----------------------------- ---------- 8.0/11.0 MB 3.2 MB/s eta 0:00:01\n",
      "   ----------------------------- ---------- 8.0/11.0 MB 3.2 MB/s eta 0:00:01\n",
      "   ----------------------------- ---------- 8.1/11.0 MB 3.0 MB/s eta 0:00:01\n",
      "   ----------------------------- ---------- 8.1/11.0 MB 2.9 MB/s eta 0:00:01\n",
      "   ----------------------------- ---------- 8.1/11.0 MB 2.9 MB/s eta 0:00:01\n",
      "   ----------------------------- ---------- 8.2/11.0 MB 2.9 MB/s eta 0:00:01\n",
      "   ------------------------------ --------- 8.4/11.0 MB 2.9 MB/s eta 0:00:01\n",
      "   ------------------------------- -------- 8.6/11.0 MB 3.0 MB/s eta 0:00:01\n",
      "   ------------------------------- -------- 8.7/11.0 MB 3.0 MB/s eta 0:00:01\n",
      "   -------------------------------- ------- 8.9/11.0 MB 3.0 MB/s eta 0:00:01\n",
      "   -------------------------------- ------- 8.9/11.0 MB 3.0 MB/s eta 0:00:01\n",
      "   -------------------------------- ------- 8.9/11.0 MB 3.0 MB/s eta 0:00:01\n",
      "   -------------------------------- ------- 8.9/11.0 MB 3.0 MB/s eta 0:00:01\n",
      "   -------------------------------- ------- 8.9/11.0 MB 3.0 MB/s eta 0:00:01\n",
      "   -------------------------------- ------- 8.9/11.0 MB 3.0 MB/s eta 0:00:01\n",
      "   -------------------------------- ------- 8.9/11.0 MB 3.0 MB/s eta 0:00:01\n",
      "   -------------------------------- ------- 8.9/11.0 MB 3.0 MB/s eta 0:00:01\n",
      "   -------------------------------- ------- 8.9/11.0 MB 3.0 MB/s eta 0:00:01\n",
      "   --------------------------------- ------ 9.1/11.0 MB 2.7 MB/s eta 0:00:01\n",
      "   --------------------------------- ------ 9.3/11.0 MB 2.7 MB/s eta 0:00:01\n",
      "   ---------------------------------- ----- 9.4/11.0 MB 2.7 MB/s eta 0:00:01\n",
      "   ----------------------------------- ---- 9.6/11.0 MB 2.7 MB/s eta 0:00:01\n",
      "   ----------------------------------- ---- 9.8/11.0 MB 2.7 MB/s eta 0:00:01\n",
      "   ----------------------------------- ---- 9.8/11.0 MB 2.7 MB/s eta 0:00:01\n",
      "   ------------------------------------ --- 9.9/11.0 MB 2.7 MB/s eta 0:00:01\n",
      "   ------------------------------------ --- 10.0/11.0 MB 2.7 MB/s eta 0:00:01\n",
      "   ------------------------------------ --- 10.1/11.0 MB 2.6 MB/s eta 0:00:01\n",
      "   ------------------------------------- -- 10.2/11.0 MB 2.7 MB/s eta 0:00:01\n",
      "   ------------------------------------- -- 10.2/11.0 MB 2.7 MB/s eta 0:00:01\n",
      "   ------------------------------------- -- 10.2/11.0 MB 2.7 MB/s eta 0:00:01\n",
      "   ------------------------------------- -- 10.2/11.0 MB 2.7 MB/s eta 0:00:01\n",
      "   ------------------------------------- -- 10.2/11.0 MB 2.7 MB/s eta 0:00:01\n",
      "   ------------------------------------- -- 10.2/11.0 MB 2.7 MB/s eta 0:00:01\n",
      "   ------------------------------------- -- 10.2/11.0 MB 2.7 MB/s eta 0:00:01\n",
      "   ------------------------------------- -- 10.2/11.0 MB 2.7 MB/s eta 0:00:01\n",
      "   ---------------------------------------  11.0/11.0 MB 2.6 MB/s eta 0:00:01\n",
      "   ---------------------------------------- 11.0/11.0 MB 2.6 MB/s eta 0:00:00\n",
      "Using cached joblib-1.4.2-py3-none-any.whl (301 kB)\n",
      "Using cached numpy-1.26.4-cp311-cp311-win_amd64.whl (15.8 MB)\n",
      "Using cached python_dateutil-2.9.0.post0-py2.py3-none-any.whl (229 kB)\n",
      "Using cached pytz-2024.1-py2.py3-none-any.whl (505 kB)\n",
      "Downloading scipy-1.13.1-cp311-cp311-win_amd64.whl (46.2 MB)\n",
      "   ---------------------------------------- 0.0/46.2 MB ? eta -:--:--\n",
      "   ---------------------------------------- 0.1/46.2 MB 8.3 MB/s eta 0:00:06\n",
      "   ---------------------------------------- 0.3/46.2 MB 4.1 MB/s eta 0:00:12\n",
      "   ---------------------------------------- 0.4/46.2 MB 3.3 MB/s eta 0:00:14\n",
      "   ---------------------------------------- 0.4/46.2 MB 3.3 MB/s eta 0:00:14\n",
      "   ---------------------------------------- 0.4/46.2 MB 3.3 MB/s eta 0:00:14\n",
      "   ---------------------------------------- 0.4/46.2 MB 3.3 MB/s eta 0:00:14\n",
      "   ---------------------------------------- 0.4/46.2 MB 3.3 MB/s eta 0:00:14\n",
      "    --------------------------------------- 1.0/46.2 MB 3.2 MB/s eta 0:00:15\n",
      "    --------------------------------------- 1.1/46.2 MB 2.9 MB/s eta 0:00:16\n",
      "   - -------------------------------------- 1.3/46.2 MB 3.0 MB/s eta 0:00:16\n",
      "   - -------------------------------------- 1.4/46.2 MB 3.0 MB/s eta 0:00:16\n",
      "   - -------------------------------------- 1.6/46.2 MB 3.1 MB/s eta 0:00:15\n",
      "   - -------------------------------------- 1.6/46.2 MB 3.1 MB/s eta 0:00:15\n",
      "   - -------------------------------------- 1.6/46.2 MB 3.1 MB/s eta 0:00:15\n",
      "   - -------------------------------------- 1.8/46.2 MB 2.8 MB/s eta 0:00:16\n",
      "   - -------------------------------------- 1.8/46.2 MB 2.7 MB/s eta 0:00:17\n",
      "   - -------------------------------------- 2.0/46.2 MB 2.7 MB/s eta 0:00:17\n",
      "   - -------------------------------------- 2.1/46.2 MB 2.8 MB/s eta 0:00:16\n",
      "   - -------------------------------------- 2.2/46.2 MB 2.9 MB/s eta 0:00:16\n",
      "   - -------------------------------------- 2.3/46.2 MB 2.7 MB/s eta 0:00:17\n",
      "   -- ------------------------------------- 2.4/46.2 MB 2.7 MB/s eta 0:00:17\n",
      "   -- ------------------------------------- 2.5/46.2 MB 2.7 MB/s eta 0:00:17\n",
      "   -- ------------------------------------- 2.6/46.2 MB 2.6 MB/s eta 0:00:17\n",
      "   -- ------------------------------------- 2.7/46.2 MB 2.7 MB/s eta 0:00:17\n",
      "   -- ------------------------------------- 2.8/46.2 MB 2.7 MB/s eta 0:00:17\n",
      "   -- ------------------------------------- 2.9/46.2 MB 2.7 MB/s eta 0:00:16\n",
      "   -- ------------------------------------- 3.2/46.2 MB 2.8 MB/s eta 0:00:16\n",
      "   -- ------------------------------------- 3.3/46.2 MB 2.8 MB/s eta 0:00:16\n",
      "   -- ------------------------------------- 3.3/46.2 MB 2.8 MB/s eta 0:00:16\n",
      "   -- ------------------------------------- 3.3/46.2 MB 2.8 MB/s eta 0:00:16\n",
      "   -- ------------------------------------- 3.3/46.2 MB 2.6 MB/s eta 0:00:17\n",
      "   -- ------------------------------------- 3.3/46.2 MB 2.5 MB/s eta 0:00:18\n",
      "   -- ------------------------------------- 3.3/46.2 MB 2.5 MB/s eta 0:00:18\n",
      "   -- ------------------------------------- 3.3/46.2 MB 2.5 MB/s eta 0:00:18\n",
      "   -- ------------------------------------- 3.3/46.2 MB 2.3 MB/s eta 0:00:19\n",
      "   -- ------------------------------------- 3.4/46.2 MB 2.2 MB/s eta 0:00:20\n",
      "   --- ------------------------------------ 3.6/46.2 MB 2.2 MB/s eta 0:00:19\n",
      "   --- ------------------------------------ 3.6/46.2 MB 2.2 MB/s eta 0:00:20\n",
      "   --- ------------------------------------ 3.8/46.2 MB 2.2 MB/s eta 0:00:20\n",
      "   --- ------------------------------------ 3.9/46.2 MB 2.2 MB/s eta 0:00:19\n",
      "   --- ------------------------------------ 4.0/46.2 MB 2.2 MB/s eta 0:00:19\n",
      "   --- ------------------------------------ 4.1/46.2 MB 2.2 MB/s eta 0:00:19\n",
      "   --- ------------------------------------ 4.3/46.2 MB 2.3 MB/s eta 0:00:19\n",
      "   --- ------------------------------------ 4.3/46.2 MB 2.3 MB/s eta 0:00:19\n",
      "   --- ------------------------------------ 4.3/46.2 MB 2.2 MB/s eta 0:00:19\n",
      "   --- ------------------------------------ 4.4/46.2 MB 2.2 MB/s eta 0:00:19\n",
      "   --- ------------------------------------ 4.5/46.2 MB 2.2 MB/s eta 0:00:19\n",
      "   --- ------------------------------------ 4.6/46.2 MB 2.2 MB/s eta 0:00:19\n",
      "   ---- ----------------------------------- 4.7/46.2 MB 2.2 MB/s eta 0:00:19\n",
      "   ---- ----------------------------------- 4.8/46.2 MB 2.2 MB/s eta 0:00:19\n",
      "   ---- ----------------------------------- 4.9/46.2 MB 2.3 MB/s eta 0:00:19\n",
      "   ---- ----------------------------------- 4.9/46.2 MB 2.3 MB/s eta 0:00:19\n",
      "   ---- ----------------------------------- 5.0/46.2 MB 2.2 MB/s eta 0:00:19\n",
      "   ---- ----------------------------------- 5.2/46.2 MB 2.3 MB/s eta 0:00:19\n",
      "   ---- ----------------------------------- 5.3/46.2 MB 2.3 MB/s eta 0:00:19\n",
      "   ---- ----------------------------------- 5.4/46.2 MB 2.3 MB/s eta 0:00:18\n",
      "   ---- ----------------------------------- 5.6/46.2 MB 2.3 MB/s eta 0:00:18\n",
      "   ---- ----------------------------------- 5.8/46.2 MB 2.3 MB/s eta 0:00:18\n",
      "   ----- ---------------------------------- 5.9/46.2 MB 2.4 MB/s eta 0:00:18\n",
      "   ----- ---------------------------------- 6.1/46.2 MB 2.4 MB/s eta 0:00:17\n",
      "   ----- ---------------------------------- 6.2/46.2 MB 2.4 MB/s eta 0:00:17\n",
      "   ----- ---------------------------------- 6.4/46.2 MB 2.4 MB/s eta 0:00:17\n",
      "   ----- ---------------------------------- 6.6/46.2 MB 2.4 MB/s eta 0:00:17\n",
      "   ----- ---------------------------------- 6.7/46.2 MB 2.5 MB/s eta 0:00:16\n",
      "   ----- ---------------------------------- 6.9/46.2 MB 2.5 MB/s eta 0:00:16\n",
      "   ------ --------------------------------- 7.0/46.2 MB 2.5 MB/s eta 0:00:16\n",
      "   ------ --------------------------------- 7.1/46.2 MB 2.5 MB/s eta 0:00:16\n",
      "   ------ --------------------------------- 7.2/46.2 MB 2.5 MB/s eta 0:00:16\n",
      "   ------ --------------------------------- 7.2/46.2 MB 2.5 MB/s eta 0:00:16\n",
      "   ------ --------------------------------- 7.3/46.2 MB 2.4 MB/s eta 0:00:16"
     ]
    },
    {
     "name": "stderr",
     "output_type": "stream",
     "text": [
      "ERROR: pip's dependency resolver does not currently take into account all the packages that are installed. This behaviour is the source of the following dependency conflicts.\n",
      "conda-repo-cli 1.0.75 requires requests_mock, which is not installed.\n",
      "gensim 4.3.0 requires FuzzyTM>=0.4.0, which is not installed.\n",
      "conda-repo-cli 1.0.75 requires clyent==1.2.1, but you have clyent 1.2.2 which is incompatible.\n",
      "conda-repo-cli 1.0.75 requires python-dateutil==2.8.2, but you have python-dateutil 2.9.0.post0 which is incompatible.\n",
      "WARNING: Target directory C:\\your\\path\\from\\python\\dateutil already exists. Specify --upgrade to force replacement.\n",
      "WARNING: Target directory C:\\your\\path\\from\\python\\joblib already exists. Specify --upgrade to force replacement.\n",
      "WARNING: Target directory C:\\your\\path\\from\\python\\joblib-1.4.2.dist-info already exists. Specify --upgrade to force replacement.\n",
      "WARNING: Target directory C:\\your\\path\\from\\python\\numpy already exists. Specify --upgrade to force replacement.\n",
      "WARNING: Target directory C:\\your\\path\\from\\python\\numpy-1.26.4-cp311-cp311-win_amd64.whl already exists. Specify --upgrade to force replacement.\n",
      "WARNING: Target directory C:\\your\\path\\from\\python\\numpy-1.26.4.dist-info already exists. Specify --upgrade to force replacement.\n",
      "WARNING: Target directory C:\\your\\path\\from\\python\\numpy.libs already exists. Specify --upgrade to force replacement.\n",
      "WARNING: Target directory C:\\your\\path\\from\\python\\pandas already exists. Specify --upgrade to force replacement.\n",
      "WARNING: Target directory C:\\your\\path\\from\\python\\python_dateutil-2.9.0.post0.dist-info already exists. Specify --upgrade to force replacement.\n",
      "WARNING: Target directory C:\\your\\path\\from\\python\\pytz already exists. Specify --upgrade to force replacement.\n",
      "WARNING: Target directory C:\\your\\path\\from\\python\\pytz-2024.1.dist-info already exists. Specify --upgrade to force replacement.\n",
      "WARNING: Target directory C:\\your\\path\\from\\python\\scipy already exists. Specify --upgrade to force replacement.\n",
      "WARNING: Target directory C:\\your\\path\\from\\python\\scipy.libs already exists. Specify --upgrade to force replacement.\n",
      "WARNING: Target directory C:\\your\\path\\from\\python\\six-1.16.0.dist-info already exists. Specify --upgrade to force replacement.\n",
      "WARNING: Target directory C:\\your\\path\\from\\python\\six.py already exists. Specify --upgrade to force replacement.\n",
      "WARNING: Target directory C:\\your\\path\\from\\python\\sklearn already exists. Specify --upgrade to force replacement.\n",
      "WARNING: Target directory C:\\your\\path\\from\\python\\threadpoolctl-3.5.0.dist-info already exists. Specify --upgrade to force replacement.\n",
      "WARNING: Target directory C:\\your\\path\\from\\python\\threadpoolctl.py already exists. Specify --upgrade to force replacement.\n",
      "WARNING: Target directory C:\\your\\path\\from\\python\\__pycache__ already exists. Specify --upgrade to force replacement.\n",
      "WARNING: Target directory C:\\your\\path\\from\\python\\bin already exists. Specify --upgrade to force replacement.\n"
     ]
    },
    {
     "name": "stdout",
     "output_type": "stream",
     "text": [
      "\n",
      "   ------ --------------------------------- 7.3/46.2 MB 2.4 MB/s eta 0:00:16\n",
      "   ------ --------------------------------- 7.3/46.2 MB 2.4 MB/s eta 0:00:16\n",
      "   ------ --------------------------------- 7.3/46.2 MB 2.4 MB/s eta 0:00:16\n",
      "   ------ --------------------------------- 7.3/46.2 MB 2.4 MB/s eta 0:00:16\n",
      "   ------ --------------------------------- 7.4/46.2 MB 2.3 MB/s eta 0:00:17\n",
      "   ------ --------------------------------- 7.6/46.2 MB 2.3 MB/s eta 0:00:17\n",
      "   ------ --------------------------------- 7.7/46.2 MB 2.3 MB/s eta 0:00:17\n",
      "   ------ --------------------------------- 7.7/46.2 MB 2.3 MB/s eta 0:00:17\n",
      "   ------ --------------------------------- 7.9/46.2 MB 2.3 MB/s eta 0:00:17\n",
      "   ------ --------------------------------- 8.0/46.2 MB 2.3 MB/s eta 0:00:17\n",
      "   ------ --------------------------------- 8.0/46.2 MB 2.3 MB/s eta 0:00:17\n",
      "   ------- -------------------------------- 8.2/46.2 MB 2.3 MB/s eta 0:00:17\n",
      "   ------- -------------------------------- 8.2/46.2 MB 2.3 MB/s eta 0:00:17\n",
      "   ------- -------------------------------- 8.3/46.2 MB 2.3 MB/s eta 0:00:17\n",
      "   ------- -------------------------------- 8.4/46.2 MB 2.3 MB/s eta 0:00:17\n",
      "   ------- -------------------------------- 8.4/46.2 MB 2.3 MB/s eta 0:00:17\n",
      "   ------- -------------------------------- 8.4/46.2 MB 2.3 MB/s eta 0:00:17\n",
      "   ------- -------------------------------- 8.4/46.2 MB 2.2 MB/s eta 0:00:17\n",
      "   ------- -------------------------------- 8.6/46.2 MB 2.3 MB/s eta 0:00:17\n",
      "   ------- -------------------------------- 8.8/46.2 MB 2.3 MB/s eta 0:00:17\n",
      "   ------- -------------------------------- 8.9/46.2 MB 2.3 MB/s eta 0:00:17\n",
      "   ------- -------------------------------- 9.1/46.2 MB 2.3 MB/s eta 0:00:16\n",
      "   ------- -------------------------------- 9.2/46.2 MB 2.3 MB/s eta 0:00:16\n",
      "   -------- ------------------------------- 9.3/46.2 MB 2.3 MB/s eta 0:00:16\n",
      "   -------- ------------------------------- 9.4/46.2 MB 2.3 MB/s eta 0:00:16\n",
      "   -------- ------------------------------- 9.5/46.2 MB 2.3 MB/s eta 0:00:16\n",
      "   -------- ------------------------------- 9.5/46.2 MB 2.3 MB/s eta 0:00:16\n",
      "   -------- ------------------------------- 9.5/46.2 MB 2.3 MB/s eta 0:00:16\n",
      "   -------- ------------------------------- 9.5/46.2 MB 2.3 MB/s eta 0:00:17\n",
      "   -------- ------------------------------- 9.7/46.2 MB 2.3 MB/s eta 0:00:16\n",
      "   -------- ------------------------------- 9.8/46.2 MB 2.3 MB/s eta 0:00:16\n",
      "   -------- ------------------------------- 9.9/46.2 MB 2.3 MB/s eta 0:00:16\n",
      "   -------- ------------------------------- 10.1/46.2 MB 2.3 MB/s eta 0:00:16\n",
      "   -------- ------------------------------- 10.1/46.2 MB 2.3 MB/s eta 0:00:16\n",
      "   -------- ------------------------------- 10.1/46.2 MB 2.3 MB/s eta 0:00:16\n",
      "   -------- ------------------------------- 10.3/46.2 MB 2.3 MB/s eta 0:00:16\n",
      "   --------- ------------------------------ 10.4/46.2 MB 2.3 MB/s eta 0:00:16\n",
      "   --------- ------------------------------ 10.6/46.2 MB 2.3 MB/s eta 0:00:16\n",
      "   --------- ------------------------------ 10.8/46.2 MB 2.4 MB/s eta 0:00:15\n",
      "   --------- ------------------------------ 10.9/46.2 MB 2.4 MB/s eta 0:00:15\n",
      "   --------- ------------------------------ 11.0/46.2 MB 2.3 MB/s eta 0:00:15\n",
      "   --------- ------------------------------ 11.2/46.2 MB 2.3 MB/s eta 0:00:16\n",
      "   --------- ------------------------------ 11.2/46.2 MB 2.3 MB/s eta 0:00:16\n",
      "   --------- ------------------------------ 11.4/46.2 MB 2.3 MB/s eta 0:00:15\n",
      "   --------- ------------------------------ 11.5/46.2 MB 2.3 MB/s eta 0:00:15\n",
      "   ---------- ----------------------------- 11.6/46.2 MB 2.3 MB/s eta 0:00:15\n",
      "   ---------- ----------------------------- 11.8/46.2 MB 2.3 MB/s eta 0:00:15\n",
      "   ---------- ----------------------------- 11.8/46.2 MB 2.3 MB/s eta 0:00:15\n",
      "   ---------- ----------------------------- 12.0/46.2 MB 2.3 MB/s eta 0:00:15\n",
      "   ---------- ----------------------------- 12.2/46.2 MB 2.4 MB/s eta 0:00:15\n",
      "   ---------- ----------------------------- 12.4/46.2 MB 2.4 MB/s eta 0:00:15\n",
      "   ---------- ----------------------------- 12.5/46.2 MB 2.4 MB/s eta 0:00:14\n",
      "   ---------- ----------------------------- 12.5/46.2 MB 2.4 MB/s eta 0:00:15\n",
      "   ----------- ---------------------------- 12.7/46.2 MB 2.4 MB/s eta 0:00:14\n",
      "   ----------- ---------------------------- 12.8/46.2 MB 2.4 MB/s eta 0:00:14\n",
      "   ----------- ---------------------------- 13.0/46.2 MB 2.4 MB/s eta 0:00:14\n",
      "   ----------- ---------------------------- 13.2/46.2 MB 2.4 MB/s eta 0:00:14\n",
      "   ----------- ---------------------------- 13.3/46.2 MB 2.4 MB/s eta 0:00:14\n",
      "   ----------- ---------------------------- 13.5/46.2 MB 2.4 MB/s eta 0:00:14\n",
      "   ----------- ---------------------------- 13.7/46.2 MB 2.6 MB/s eta 0:00:13\n",
      "   ------------ --------------------------- 13.9/46.2 MB 2.7 MB/s eta 0:00:12\n",
      "   ------------ --------------------------- 14.0/46.2 MB 2.7 MB/s eta 0:00:12\n",
      "   ------------ --------------------------- 14.2/46.2 MB 2.7 MB/s eta 0:00:12\n",
      "   ------------ --------------------------- 14.3/46.2 MB 2.7 MB/s eta 0:00:12\n",
      "   ------------ --------------------------- 14.6/46.2 MB 2.8 MB/s eta 0:00:12\n",
      "   ------------ --------------------------- 14.7/46.2 MB 2.8 MB/s eta 0:00:12\n",
      "   ------------ --------------------------- 14.9/46.2 MB 2.8 MB/s eta 0:00:12\n",
      "   ------------- -------------------------- 15.1/46.2 MB 2.8 MB/s eta 0:00:11\n",
      "   ------------- -------------------------- 15.2/46.2 MB 2.9 MB/s eta 0:00:11\n",
      "   ------------- -------------------------- 15.4/46.2 MB 2.9 MB/s eta 0:00:11\n",
      "   ------------- -------------------------- 15.5/46.2 MB 2.9 MB/s eta 0:00:11\n",
      "   ------------- -------------------------- 15.7/46.2 MB 2.9 MB/s eta 0:00:11\n",
      "   ------------- -------------------------- 15.9/46.2 MB 2.9 MB/s eta 0:00:11\n",
      "   ------------- -------------------------- 16.1/46.2 MB 2.9 MB/s eta 0:00:11\n",
      "   -------------- ------------------------- 16.3/46.2 MB 2.9 MB/s eta 0:00:11\n",
      "   -------------- ------------------------- 16.4/46.2 MB 2.9 MB/s eta 0:00:11\n",
      "   -------------- ------------------------- 16.5/46.2 MB 2.9 MB/s eta 0:00:11\n",
      "   -------------- ------------------------- 16.6/46.2 MB 2.9 MB/s eta 0:00:11\n",
      "   -------------- ------------------------- 16.8/46.2 MB 2.9 MB/s eta 0:00:11\n",
      "   -------------- ------------------------- 17.0/46.2 MB 2.9 MB/s eta 0:00:11\n",
      "   -------------- ------------------------- 17.1/46.2 MB 2.9 MB/s eta 0:00:11\n",
      "   --------------- ------------------------ 17.3/46.2 MB 3.0 MB/s eta 0:00:10\n",
      "   --------------- ------------------------ 17.5/46.2 MB 3.0 MB/s eta 0:00:10\n",
      "   --------------- ------------------------ 17.7/46.2 MB 3.2 MB/s eta 0:00:09\n",
      "   --------------- ------------------------ 17.7/46.2 MB 3.1 MB/s eta 0:00:10\n",
      "   --------------- ------------------------ 17.9/46.2 MB 3.2 MB/s eta 0:00:09\n",
      "   --------------- ------------------------ 18.1/46.2 MB 3.2 MB/s eta 0:00:09\n",
      "   --------------- ------------------------ 18.3/46.2 MB 3.3 MB/s eta 0:00:09\n",
      "   --------------- ------------------------ 18.5/46.2 MB 3.3 MB/s eta 0:00:09\n",
      "   ---------------- ----------------------- 18.7/46.2 MB 3.5 MB/s eta 0:00:08\n",
      "   ---------------- ----------------------- 18.8/46.2 MB 3.5 MB/s eta 0:00:08\n",
      "   ---------------- ----------------------- 19.0/46.2 MB 3.5 MB/s eta 0:00:08\n",
      "   ---------------- ----------------------- 19.2/46.2 MB 3.5 MB/s eta 0:00:08\n",
      "   ---------------- ----------------------- 19.4/46.2 MB 3.5 MB/s eta 0:00:08\n",
      "   ---------------- ----------------------- 19.6/46.2 MB 3.6 MB/s eta 0:00:08\n",
      "   ----------------- ---------------------- 19.7/46.2 MB 3.6 MB/s eta 0:00:08\n",
      "   ----------------- ---------------------- 19.9/46.2 MB 3.8 MB/s eta 0:00:07\n",
      "   ----------------- ---------------------- 20.1/46.2 MB 3.8 MB/s eta 0:00:07\n",
      "   ----------------- ---------------------- 20.3/46.2 MB 3.9 MB/s eta 0:00:07\n",
      "   ----------------- ---------------------- 20.5/46.2 MB 3.9 MB/s eta 0:00:07\n",
      "   ----------------- ---------------------- 20.6/46.2 MB 3.9 MB/s eta 0:00:07\n",
      "   ------------------ --------------------- 20.8/46.2 MB 3.9 MB/s eta 0:00:07\n",
      "   ------------------ --------------------- 21.1/46.2 MB 3.9 MB/s eta 0:00:07\n",
      "   ------------------ --------------------- 21.2/46.2 MB 4.0 MB/s eta 0:00:07\n",
      "   ------------------ --------------------- 21.3/46.2 MB 4.0 MB/s eta 0:00:07\n",
      "   ------------------ --------------------- 21.5/46.2 MB 4.0 MB/s eta 0:00:07\n",
      "   ------------------ --------------------- 21.7/46.2 MB 4.0 MB/s eta 0:00:07\n",
      "   ------------------- -------------------- 22.0/46.2 MB 4.1 MB/s eta 0:00:06\n",
      "   ------------------- -------------------- 22.2/46.2 MB 4.2 MB/s eta 0:00:06\n",
      "   ------------------- -------------------- 22.4/46.2 MB 4.2 MB/s eta 0:00:06\n",
      "   ------------------- -------------------- 22.6/46.2 MB 4.2 MB/s eta 0:00:06\n",
      "   ------------------- -------------------- 22.6/46.2 MB 4.2 MB/s eta 0:00:06\n",
      "   ------------------- -------------------- 22.8/46.2 MB 4.2 MB/s eta 0:00:06\n",
      "   -------------------- ------------------- 23.1/46.2 MB 4.3 MB/s eta 0:00:06\n",
      "   -------------------- ------------------- 23.2/46.2 MB 4.3 MB/s eta 0:00:06\n",
      "   -------------------- ------------------- 23.3/46.2 MB 4.2 MB/s eta 0:00:06\n",
      "   -------------------- ------------------- 23.4/46.2 MB 4.1 MB/s eta 0:00:06\n",
      "   -------------------- ------------------- 23.6/46.2 MB 4.2 MB/s eta 0:00:06\n",
      "   -------------------- ------------------- 23.7/46.2 MB 4.2 MB/s eta 0:00:06\n",
      "   -------------------- ------------------- 23.9/46.2 MB 4.2 MB/s eta 0:00:06\n",
      "   -------------------- ------------------- 24.2/46.2 MB 4.1 MB/s eta 0:00:06\n",
      "   --------------------- ------------------ 24.3/46.2 MB 4.1 MB/s eta 0:00:06\n",
      "   --------------------- ------------------ 24.5/46.2 MB 4.2 MB/s eta 0:00:06\n",
      "   --------------------- ------------------ 24.6/46.2 MB 4.1 MB/s eta 0:00:06\n",
      "   --------------------- ------------------ 24.8/46.2 MB 4.1 MB/s eta 0:00:06\n",
      "   --------------------- ------------------ 25.0/46.2 MB 4.1 MB/s eta 0:00:06\n",
      "   --------------------- ------------------ 25.1/46.2 MB 4.1 MB/s eta 0:00:06\n",
      "   --------------------- ------------------ 25.4/46.2 MB 4.1 MB/s eta 0:00:06\n",
      "   ---------------------- ----------------- 25.6/46.2 MB 4.2 MB/s eta 0:00:05\n",
      "   ---------------------- ----------------- 25.7/46.2 MB 4.1 MB/s eta 0:00:05\n",
      "   ---------------------- ----------------- 25.9/46.2 MB 4.1 MB/s eta 0:00:05\n",
      "   ---------------------- ----------------- 25.9/46.2 MB 4.1 MB/s eta 0:00:05\n",
      "   ---------------------- ----------------- 26.0/46.2 MB 4.1 MB/s eta 0:00:05\n",
      "   ---------------------- ----------------- 26.1/46.2 MB 4.0 MB/s eta 0:00:05\n",
      "   ---------------------- ----------------- 26.1/46.2 MB 4.0 MB/s eta 0:00:06\n",
      "   ---------------------- ----------------- 26.3/46.2 MB 4.0 MB/s eta 0:00:06\n",
      "   ---------------------- ----------------- 26.5/46.2 MB 4.0 MB/s eta 0:00:05\n",
      "   ---------------------- ----------------- 26.5/46.2 MB 4.0 MB/s eta 0:00:05\n",
      "   ---------------------- ----------------- 26.6/46.2 MB 3.9 MB/s eta 0:00:06\n",
      "   ----------------------- ---------------- 26.6/46.2 MB 3.9 MB/s eta 0:00:05\n",
      "   ----------------------- ---------------- 26.7/46.2 MB 3.9 MB/s eta 0:00:06\n",
      "   ----------------------- ---------------- 26.9/46.2 MB 3.9 MB/s eta 0:00:05\n",
      "   ----------------------- ---------------- 27.0/46.2 MB 3.9 MB/s eta 0:00:05\n",
      "   ----------------------- ---------------- 27.2/46.2 MB 3.9 MB/s eta 0:00:05\n",
      "   ----------------------- ---------------- 27.2/46.2 MB 3.9 MB/s eta 0:00:05\n",
      "   ----------------------- ---------------- 27.4/46.2 MB 3.9 MB/s eta 0:00:05\n",
      "   ----------------------- ---------------- 27.5/46.2 MB 3.8 MB/s eta 0:00:05\n",
      "   ----------------------- ---------------- 27.6/46.2 MB 3.8 MB/s eta 0:00:05\n",
      "   ----------------------- ---------------- 27.6/46.2 MB 3.8 MB/s eta 0:00:05\n",
      "   ------------------------ --------------- 27.7/46.2 MB 3.8 MB/s eta 0:00:05\n",
      "   ------------------------ --------------- 27.8/46.2 MB 3.7 MB/s eta 0:00:05\n",
      "   ------------------------ --------------- 28.0/46.2 MB 3.8 MB/s eta 0:00:05\n",
      "   ------------------------ --------------- 28.0/46.2 MB 3.7 MB/s eta 0:00:05\n",
      "   ------------------------ --------------- 28.1/46.2 MB 3.7 MB/s eta 0:00:05\n",
      "   ------------------------ --------------- 28.2/46.2 MB 3.7 MB/s eta 0:00:05\n",
      "   ------------------------ --------------- 28.2/46.2 MB 3.6 MB/s eta 0:00:05\n",
      "   ------------------------ --------------- 28.3/46.2 MB 3.6 MB/s eta 0:00:05\n",
      "   ------------------------ --------------- 28.5/46.2 MB 3.6 MB/s eta 0:00:05\n",
      "   ------------------------ --------------- 28.5/46.2 MB 3.6 MB/s eta 0:00:05\n",
      "   ------------------------ --------------- 28.7/46.2 MB 3.6 MB/s eta 0:00:05\n",
      "   ------------------------ --------------- 28.8/46.2 MB 3.5 MB/s eta 0:00:05\n",
      "   ------------------------- -------------- 28.9/46.2 MB 3.5 MB/s eta 0:00:05\n",
      "   ------------------------- -------------- 29.0/46.2 MB 3.5 MB/s eta 0:00:05\n",
      "   ------------------------- -------------- 29.1/46.2 MB 3.5 MB/s eta 0:00:05\n",
      "   ------------------------- -------------- 29.2/46.2 MB 3.4 MB/s eta 0:00:05\n",
      "   ------------------------- -------------- 29.4/46.2 MB 3.4 MB/s eta 0:00:05\n",
      "   ------------------------- -------------- 29.5/46.2 MB 3.4 MB/s eta 0:00:05\n",
      "   ------------------------- -------------- 29.6/46.2 MB 3.4 MB/s eta 0:00:05\n",
      "   ------------------------- -------------- 29.7/46.2 MB 3.4 MB/s eta 0:00:05\n",
      "   ------------------------- -------------- 29.7/46.2 MB 3.3 MB/s eta 0:00:05\n",
      "   ------------------------- -------------- 29.8/46.2 MB 3.3 MB/s eta 0:00:05\n",
      "   ------------------------- -------------- 30.0/46.2 MB 3.3 MB/s eta 0:00:05\n",
      "   -------------------------- ------------- 30.1/46.2 MB 3.3 MB/s eta 0:00:05\n",
      "   -------------------------- ------------- 30.1/46.2 MB 3.2 MB/s eta 0:00:05\n",
      "   -------------------------- ------------- 30.2/46.2 MB 3.2 MB/s eta 0:00:05\n",
      "   -------------------------- ------------- 30.3/46.2 MB 3.2 MB/s eta 0:00:05\n",
      "   -------------------------- ------------- 30.5/46.2 MB 3.2 MB/s eta 0:00:05\n",
      "   -------------------------- ------------- 30.6/46.2 MB 3.2 MB/s eta 0:00:05\n",
      "   -------------------------- ------------- 30.7/46.2 MB 3.2 MB/s eta 0:00:05\n",
      "   -------------------------- ------------- 30.8/46.2 MB 3.2 MB/s eta 0:00:05\n",
      "   -------------------------- ------------- 30.9/46.2 MB 3.1 MB/s eta 0:00:05\n",
      "   -------------------------- ------------- 31.0/46.2 MB 3.2 MB/s eta 0:00:05\n",
      "   -------------------------- ------------- 31.1/46.2 MB 3.1 MB/s eta 0:00:05\n",
      "   --------------------------- ------------ 31.2/46.2 MB 3.1 MB/s eta 0:00:05\n",
      "   --------------------------- ------------ 31.4/46.2 MB 3.1 MB/s eta 0:00:05\n",
      "   --------------------------- ------------ 31.5/46.2 MB 3.1 MB/s eta 0:00:05\n",
      "   --------------------------- ------------ 31.5/46.2 MB 3.1 MB/s eta 0:00:05\n",
      "   --------------------------- ------------ 31.6/46.2 MB 3.1 MB/s eta 0:00:05\n",
      "   --------------------------- ------------ 31.7/46.2 MB 3.0 MB/s eta 0:00:05\n",
      "   --------------------------- ------------ 31.7/46.2 MB 3.0 MB/s eta 0:00:05\n",
      "   --------------------------- ------------ 31.8/46.2 MB 3.0 MB/s eta 0:00:05\n",
      "   --------------------------- ------------ 31.8/46.2 MB 2.9 MB/s eta 0:00:05\n",
      "   --------------------------- ------------ 31.8/46.2 MB 2.9 MB/s eta 0:00:05\n",
      "   --------------------------- ------------ 31.9/46.2 MB 2.9 MB/s eta 0:00:05\n",
      "   --------------------------- ------------ 31.9/46.2 MB 2.9 MB/s eta 0:00:05\n",
      "   --------------------------- ------------ 32.1/46.2 MB 2.9 MB/s eta 0:00:05\n",
      "   --------------------------- ------------ 32.2/46.2 MB 2.8 MB/s eta 0:00:05\n",
      "   --------------------------- ------------ 32.3/46.2 MB 2.8 MB/s eta 0:00:05\n",
      "   ---------------------------- ----------- 32.3/46.2 MB 2.8 MB/s eta 0:00:05\n",
      "   ---------------------------- ----------- 32.4/46.2 MB 2.8 MB/s eta 0:00:05\n",
      "   ---------------------------- ----------- 32.5/46.2 MB 2.8 MB/s eta 0:00:05\n",
      "   ---------------------------- ----------- 32.5/46.2 MB 2.8 MB/s eta 0:00:05\n",
      "   ---------------------------- ----------- 32.5/46.2 MB 2.7 MB/s eta 0:00:06\n",
      "   ---------------------------- ----------- 32.5/46.2 MB 2.7 MB/s eta 0:00:06\n",
      "   ---------------------------- ----------- 32.6/46.2 MB 2.7 MB/s eta 0:00:06\n",
      "   ---------------------------- ----------- 32.6/46.2 MB 2.6 MB/s eta 0:00:06\n",
      "   ---------------------------- ----------- 32.6/46.2 MB 2.6 MB/s eta 0:00:06\n",
      "   ---------------------------- ----------- 32.6/46.2 MB 2.6 MB/s eta 0:00:06\n",
      "   ---------------------------- ----------- 32.7/46.2 MB 2.6 MB/s eta 0:00:06\n",
      "   ---------------------------- ----------- 32.7/46.2 MB 2.5 MB/s eta 0:00:06\n",
      "   ---------------------------- ----------- 32.7/46.2 MB 2.5 MB/s eta 0:00:06\n",
      "   ---------------------------- ----------- 32.7/46.2 MB 2.5 MB/s eta 0:00:06\n",
      "   ---------------------------- ----------- 32.7/46.2 MB 2.5 MB/s eta 0:00:06\n",
      "   ---------------------------- ----------- 32.7/46.2 MB 2.4 MB/s eta 0:00:06\n",
      "   ---------------------------- ----------- 32.8/46.2 MB 2.4 MB/s eta 0:00:06\n",
      "   ---------------------------- ----------- 32.8/46.2 MB 2.4 MB/s eta 0:00:06\n",
      "   ---------------------------- ----------- 32.9/46.2 MB 2.4 MB/s eta 0:00:06\n",
      "   ---------------------------- ----------- 33.0/46.2 MB 2.4 MB/s eta 0:00:06\n",
      "   ---------------------------- ----------- 33.0/46.2 MB 2.4 MB/s eta 0:00:06\n",
      "   ---------------------------- ----------- 33.0/46.2 MB 2.4 MB/s eta 0:00:06\n",
      "   ---------------------------- ----------- 33.0/46.2 MB 2.3 MB/s eta 0:00:06\n",
      "   ---------------------------- ----------- 33.0/46.2 MB 2.3 MB/s eta 0:00:06\n",
      "   ---------------------------- ----------- 33.0/46.2 MB 2.3 MB/s eta 0:00:06\n",
      "   ---------------------------- ----------- 33.0/46.2 MB 2.2 MB/s eta 0:00:06\n",
      "   ---------------------------- ----------- 33.1/46.2 MB 2.2 MB/s eta 0:00:06\n",
      "   ---------------------------- ----------- 33.1/46.2 MB 2.2 MB/s eta 0:00:06\n",
      "   ---------------------------- ----------- 33.1/46.2 MB 2.2 MB/s eta 0:00:06\n",
      "   ---------------------------- ----------- 33.2/46.2 MB 2.2 MB/s eta 0:00:07\n",
      "   ---------------------------- ----------- 33.2/46.2 MB 2.2 MB/s eta 0:00:07\n",
      "   ---------------------------- ----------- 33.2/46.2 MB 2.2 MB/s eta 0:00:07\n",
      "   ---------------------------- ----------- 33.2/46.2 MB 2.1 MB/s eta 0:00:07\n",
      "   ---------------------------- ----------- 33.3/46.2 MB 2.1 MB/s eta 0:00:07\n",
      "   ---------------------------- ----------- 33.4/46.2 MB 2.1 MB/s eta 0:00:07\n",
      "   ---------------------------- ----------- 33.4/46.2 MB 2.1 MB/s eta 0:00:07\n",
      "   ---------------------------- ----------- 33.4/46.2 MB 2.1 MB/s eta 0:00:07\n",
      "   ---------------------------- ----------- 33.4/46.2 MB 2.1 MB/s eta 0:00:07\n",
      "   ---------------------------- ----------- 33.4/46.2 MB 2.1 MB/s eta 0:00:07\n",
      "   ---------------------------- ----------- 33.4/46.2 MB 2.1 MB/s eta 0:00:07\n",
      "   ---------------------------- ----------- 33.4/46.2 MB 2.1 MB/s eta 0:00:07\n",
      "   ---------------------------- ----------- 33.4/46.2 MB 2.1 MB/s eta 0:00:07\n",
      "   ---------------------------- ----------- 33.4/46.2 MB 2.0 MB/s eta 0:00:07\n",
      "   ---------------------------- ----------- 33.4/46.2 MB 2.0 MB/s eta 0:00:07\n",
      "   ---------------------------- ----------- 33.4/46.2 MB 2.0 MB/s eta 0:00:07\n",
      "   ---------------------------- ----------- 33.4/46.2 MB 2.0 MB/s eta 0:00:07\n",
      "   ---------------------------- ----------- 33.4/46.2 MB 2.0 MB/s eta 0:00:07\n",
      "   ---------------------------- ----------- 33.4/46.2 MB 2.0 MB/s eta 0:00:07\n",
      "   ---------------------------- ----------- 33.5/46.2 MB 1.9 MB/s eta 0:00:07\n",
      "   ----------------------------- ---------- 33.5/46.2 MB 1.9 MB/s eta 0:00:07\n",
      "   ----------------------------- ---------- 33.6/46.2 MB 1.8 MB/s eta 0:00:07\n",
      "   ----------------------------- ---------- 33.7/46.2 MB 1.8 MB/s eta 0:00:07\n",
      "   ----------------------------- ---------- 33.7/46.2 MB 1.8 MB/s eta 0:00:07\n",
      "   ----------------------------- ---------- 33.9/46.2 MB 1.8 MB/s eta 0:00:07\n",
      "   ----------------------------- ---------- 34.0/46.2 MB 1.8 MB/s eta 0:00:07\n",
      "   ----------------------------- ---------- 34.2/46.2 MB 1.8 MB/s eta 0:00:07\n",
      "   ----------------------------- ---------- 34.3/46.2 MB 1.8 MB/s eta 0:00:07\n",
      "   ----------------------------- ---------- 34.5/46.2 MB 1.8 MB/s eta 0:00:07\n",
      "   ----------------------------- ---------- 34.6/46.2 MB 1.8 MB/s eta 0:00:07\n",
      "   ------------------------------ --------- 34.7/46.2 MB 1.8 MB/s eta 0:00:07\n",
      "   ------------------------------ --------- 34.8/46.2 MB 1.8 MB/s eta 0:00:07\n",
      "   ------------------------------ --------- 34.8/46.2 MB 1.8 MB/s eta 0:00:07\n",
      "   ------------------------------ --------- 35.0/46.2 MB 1.8 MB/s eta 0:00:07\n",
      "   ------------------------------ --------- 35.0/46.2 MB 1.8 MB/s eta 0:00:07\n",
      "   ------------------------------ --------- 35.2/46.2 MB 1.8 MB/s eta 0:00:07\n",
      "   ------------------------------ --------- 35.3/46.2 MB 1.8 MB/s eta 0:00:07\n",
      "   ------------------------------ --------- 35.4/46.2 MB 1.8 MB/s eta 0:00:07\n",
      "   ------------------------------ --------- 35.5/46.2 MB 1.8 MB/s eta 0:00:07\n",
      "   ------------------------------ --------- 35.7/46.2 MB 1.8 MB/s eta 0:00:06\n",
      "   ------------------------------- -------- 35.8/46.2 MB 1.8 MB/s eta 0:00:06\n",
      "   ------------------------------- -------- 36.0/46.2 MB 1.8 MB/s eta 0:00:06\n",
      "   ------------------------------- -------- 36.2/46.2 MB 1.8 MB/s eta 0:00:06\n",
      "   ------------------------------- -------- 36.4/46.2 MB 1.8 MB/s eta 0:00:06\n",
      "   ------------------------------- -------- 36.7/46.2 MB 1.8 MB/s eta 0:00:06\n",
      "   ------------------------------- -------- 36.8/46.2 MB 1.8 MB/s eta 0:00:06\n",
      "   ------------------------------- -------- 36.9/46.2 MB 1.8 MB/s eta 0:00:06\n",
      "   ------------------------------- -------- 36.9/46.2 MB 1.8 MB/s eta 0:00:06\n",
      "   ------------------------------- -------- 36.9/46.2 MB 1.8 MB/s eta 0:00:06\n",
      "   ------------------------------- -------- 36.9/46.2 MB 1.8 MB/s eta 0:00:06\n",
      "   ------------------------------- -------- 36.9/46.2 MB 1.8 MB/s eta 0:00:06\n",
      "   ------------------------------- -------- 36.9/46.2 MB 1.8 MB/s eta 0:00:06\n",
      "   ------------------------------- -------- 36.9/46.2 MB 1.8 MB/s eta 0:00:06\n",
      "   ------------------------------- -------- 36.9/46.2 MB 1.7 MB/s eta 0:00:06\n",
      "   -------------------------------- ------- 38.0/46.2 MB 1.8 MB/s eta 0:00:05\n",
      "   --------------------------------- ------ 38.1/46.2 MB 1.8 MB/s eta 0:00:05\n",
      "   --------------------------------- ------ 38.3/46.2 MB 1.8 MB/s eta 0:00:05\n",
      "   --------------------------------- ------ 38.4/46.2 MB 1.8 MB/s eta 0:00:05\n",
      "   --------------------------------- ------ 38.7/46.2 MB 1.8 MB/s eta 0:00:05\n",
      "   --------------------------------- ------ 38.8/46.2 MB 1.9 MB/s eta 0:00:04\n",
      "   --------------------------------- ------ 38.9/46.2 MB 1.9 MB/s eta 0:00:04\n",
      "   --------------------------------- ------ 39.1/46.2 MB 1.9 MB/s eta 0:00:04\n",
      "   --------------------------------- ------ 39.2/46.2 MB 1.9 MB/s eta 0:00:04\n",
      "   ---------------------------------- ----- 39.4/46.2 MB 1.9 MB/s eta 0:00:04\n",
      "   ---------------------------------- ----- 39.5/46.2 MB 1.9 MB/s eta 0:00:04\n",
      "   ---------------------------------- ----- 39.6/46.2 MB 1.9 MB/s eta 0:00:04\n",
      "   ---------------------------------- ----- 39.8/46.2 MB 1.9 MB/s eta 0:00:04\n",
      "   ---------------------------------- ----- 40.0/46.2 MB 1.9 MB/s eta 0:00:04\n",
      "   ---------------------------------- ----- 40.2/46.2 MB 1.9 MB/s eta 0:00:04\n",
      "   ---------------------------------- ----- 40.4/46.2 MB 1.9 MB/s eta 0:00:04\n",
      "   ----------------------------------- ---- 40.6/46.2 MB 1.9 MB/s eta 0:00:03\n",
      "   ----------------------------------- ---- 40.9/46.2 MB 1.9 MB/s eta 0:00:03\n",
      "   ----------------------------------- ---- 41.1/46.2 MB 2.0 MB/s eta 0:00:03\n",
      "   ----------------------------------- ---- 41.3/46.2 MB 2.0 MB/s eta 0:00:03\n",
      "   ----------------------------------- ---- 41.4/46.2 MB 2.0 MB/s eta 0:00:03\n",
      "   ----------------------------------- ---- 41.5/46.2 MB 2.0 MB/s eta 0:00:03\n",
      "   ------------------------------------ --- 41.7/46.2 MB 2.0 MB/s eta 0:00:03\n",
      "   ------------------------------------ --- 41.7/46.2 MB 2.0 MB/s eta 0:00:03\n",
      "   ------------------------------------ --- 41.7/46.2 MB 2.0 MB/s eta 0:00:03\n",
      "   ------------------------------------ --- 41.7/46.2 MB 2.0 MB/s eta 0:00:03\n",
      "   ------------------------------------ --- 41.7/46.2 MB 2.0 MB/s eta 0:00:03\n",
      "   ------------------------------------ --- 41.7/46.2 MB 2.0 MB/s eta 0:00:03\n",
      "   ------------------------------------ --- 41.7/46.2 MB 2.0 MB/s eta 0:00:03\n",
      "   ------------------------------------ --- 41.7/46.2 MB 2.0 MB/s eta 0:00:03\n",
      "   ------------------------------------ --- 41.7/46.2 MB 2.0 MB/s eta 0:00:03\n",
      "   ------------------------------------- -- 43.3/46.2 MB 2.5 MB/s eta 0:00:02\n",
      "   ------------------------------------- -- 43.3/46.2 MB 2.6 MB/s eta 0:00:02\n",
      "   ------------------------------------- -- 43.5/46.2 MB 2.7 MB/s eta 0:00:01\n",
      "   ------------------------------------- -- 43.6/46.2 MB 3.0 MB/s eta 0:00:01\n",
      "   ------------------------------------- -- 43.7/46.2 MB 3.0 MB/s eta 0:00:01\n",
      "   ------------------------------------- -- 43.7/46.2 MB 3.3 MB/s eta 0:00:01\n",
      "   ------------------------------------- -- 43.7/46.2 MB 3.2 MB/s eta 0:00:01\n",
      "   ------------------------------------- -- 43.8/46.2 MB 3.3 MB/s eta 0:00:01\n",
      "   ------------------------------------- -- 43.8/46.2 MB 3.3 MB/s eta 0:00:01\n",
      "   ------------------------------------- -- 43.9/46.2 MB 3.2 MB/s eta 0:00:01\n",
      "   -------------------------------------- - 44.0/46.2 MB 3.2 MB/s eta 0:00:01\n",
      "   -------------------------------------- - 44.0/46.2 MB 3.2 MB/s eta 0:00:01\n",
      "   -------------------------------------- - 44.1/46.2 MB 3.2 MB/s eta 0:00:01\n",
      "   -------------------------------------- - 44.2/46.2 MB 3.1 MB/s eta 0:00:01\n",
      "   -------------------------------------- - 44.2/46.2 MB 3.1 MB/s eta 0:00:01\n",
      "   -------------------------------------- - 44.4/46.2 MB 3.1 MB/s eta 0:00:01\n",
      "   -------------------------------------- - 44.5/46.2 MB 3.1 MB/s eta 0:00:01\n",
      "   -------------------------------------- - 44.7/46.2 MB 3.1 MB/s eta 0:00:01\n",
      "   -------------------------------------- - 44.7/46.2 MB 3.1 MB/s eta 0:00:01\n",
      "   -------------------------------------- - 44.8/46.2 MB 3.1 MB/s eta 0:00:01\n",
      "   -------------------------------------- - 44.9/46.2 MB 3.1 MB/s eta 0:00:01\n",
      "   -------------------------------------- - 45.0/46.2 MB 3.1 MB/s eta 0:00:01\n",
      "   ---------------------------------------  45.1/46.2 MB 3.1 MB/s eta 0:00:01\n",
      "   ---------------------------------------  45.2/46.2 MB 3.1 MB/s eta 0:00:01\n",
      "   ---------------------------------------  45.3/46.2 MB 3.1 MB/s eta 0:00:01\n",
      "   ---------------------------------------  45.4/46.2 MB 3.1 MB/s eta 0:00:01\n",
      "   ---------------------------------------  45.5/46.2 MB 3.1 MB/s eta 0:00:01\n",
      "   ---------------------------------------  45.7/46.2 MB 3.1 MB/s eta 0:00:01\n",
      "   ---------------------------------------  45.7/46.2 MB 3.1 MB/s eta 0:00:01\n",
      "   ---------------------------------------  45.7/46.2 MB 3.1 MB/s eta 0:00:01\n",
      "   ---------------------------------------  45.8/46.2 MB 3.0 MB/s eta 0:00:01\n",
      "   ---------------------------------------  45.9/46.2 MB 3.0 MB/s eta 0:00:01\n",
      "   ---------------------------------------  46.1/46.2 MB 3.0 MB/s eta 0:00:01\n",
      "   ---------------------------------------  46.2/46.2 MB 3.0 MB/s eta 0:00:01\n",
      "   ---------------------------------------  46.2/46.2 MB 3.0 MB/s eta 0:00:01\n",
      "   ---------------------------------------  46.2/46.2 MB 3.0 MB/s eta 0:00:01\n",
      "   ---------------------------------------  46.2/46.2 MB 3.0 MB/s eta 0:00:01\n",
      "   ---------------------------------------  46.2/46.2 MB 3.0 MB/s eta 0:00:01\n",
      "   ---------------------------------------- 46.2/46.2 MB 2.8 MB/s eta 0:00:00\n",
      "Using cached threadpoolctl-3.5.0-py3-none-any.whl (18 kB)\n",
      "Using cached six-1.16.0-py2.py3-none-any.whl (11 kB)\n",
      "Building wheels for collected packages: ppscore\n",
      "  Building wheel for ppscore (setup.py): started\n",
      "  Building wheel for ppscore (setup.py): finished with status 'done'\n",
      "  Created wheel for ppscore: filename=ppscore-1.3.0-py2.py3-none-any.whl size=13201 sha256=271abfc3edc893e58b65cd7b5dcced87b41d8ee953bc8a203ba95f0630002daa\n",
      "  Stored in directory: c:\\users\\hp\\appdata\\local\\pip\\cache\\wheels\\7e\\45\\08\\bb444e1bca6a2bc3795707de9edd87ec1976dd8b3570fa7abf\n",
      "Successfully built ppscore\n",
      "Installing collected packages: pytz, threadpoolctl, six, numpy, joblib, scipy, python-dateutil, scikit-learn, pandas, ppscore\n",
      "Successfully installed joblib-1.4.2 numpy-1.26.4 pandas-1.5.3 ppscore-1.3.0 python-dateutil-2.9.0.post0 pytz-2024.1 scikit-learn-1.5.0 scipy-1.13.1 six-1.16.0 threadpoolctl-3.5.0\n"
     ]
    }
   ],
   "source": [
    " pip install ppscore\n"
   ]
  },
  {
   "cell_type": "code",
   "execution_count": 190,
   "id": "adf60f60-35d8-43ef-9684-689b6b06913b",
   "metadata": {},
   "outputs": [
    {
     "ename": "ModuleNotFoundError",
     "evalue": "No module named 'ppscore'",
     "output_type": "error",
     "traceback": [
      "\u001b[1;31m---------------------------------------------------------------------------\u001b[0m",
      "\u001b[1;31mModuleNotFoundError\u001b[0m                       Traceback (most recent call last)",
      "Cell \u001b[1;32mIn[190], line 1\u001b[0m\n\u001b[1;32m----> 1\u001b[0m \u001b[38;5;28;01mimport\u001b[39;00m \u001b[38;5;21;01mppscore\u001b[39;00m \u001b[38;5;28;01mas\u001b[39;00m \u001b[38;5;21;01mpps\u001b[39;00m\n\u001b[0;32m      2\u001b[0m pps_matrix \u001b[38;5;241m=\u001b[39m pps\u001b[38;5;241m.\u001b[39mmatrix(data_cleaned)[[\u001b[38;5;124m'\u001b[39m\u001b[38;5;124mx\u001b[39m\u001b[38;5;124m'\u001b[39m, \u001b[38;5;124m'\u001b[39m\u001b[38;5;124my\u001b[39m\u001b[38;5;124m'\u001b[39m, \u001b[38;5;124m'\u001b[39m\u001b[38;5;124mppscore\u001b[39m\u001b[38;5;124m'\u001b[39m]]\u001b[38;5;241m.\u001b[39mpivot(columns\u001b[38;5;241m=\u001b[39m\u001b[38;5;124m'\u001b[39m\u001b[38;5;124my\u001b[39m\u001b[38;5;124m'\u001b[39m, index\u001b[38;5;241m=\u001b[39m\u001b[38;5;124m'\u001b[39m\u001b[38;5;124mx\u001b[39m\u001b[38;5;124m'\u001b[39m, values\u001b[38;5;241m=\u001b[39m\u001b[38;5;124m'\u001b[39m\u001b[38;5;124mppscore\u001b[39m\u001b[38;5;124m'\u001b[39m)\n\u001b[0;32m      3\u001b[0m \u001b[38;5;28mprint\u001b[39m(pps_matrix)\n",
      "\u001b[1;31mModuleNotFoundError\u001b[0m: No module named 'ppscore'"
     ]
    }
   ],
   "source": [
    "import ppscore as pps\n",
    "pps_matrix = pps.matrix(data_cleaned)[['x', 'y', 'ppscore']].pivot(columns='y', index='x', values='ppscore')\n",
    "print(pps_matrix)\n",
    "\n",
    "# Compare with correlation matrix\n",
    "corr_matrix = data_cleaned.corr()\n",
    "print(corr_matrix)"
   ]
  },
  {
   "cell_type": "markdown",
   "id": "a940bc6e-57d7-48dd-836d-3e21256d065e",
   "metadata": {},
   "source": [
    "### Summary\r\n",
    "In this assignment, we've performed data preprocessing (handling missing values, scaling), encoding techniques (One-Hot and Label Encoding), andfeature selection (using SelectKbest and RFE)and check for these selected feature model accuracy, feature selection (using Isolation Forest and PPS.\r\n",
    "\r\n",
    "\r\n",
    "\r\n",
    "\r\n",
    "\r\n",
    "\r\n"
   ]
  },
  {
   "cell_type": "code",
   "execution_count": null,
   "id": "ad35ee66-d9f0-4f4d-bb86-9c039a0e6b8b",
   "metadata": {},
   "outputs": [],
   "source": []
  }
 ],
 "metadata": {
  "kernelspec": {
   "display_name": "Python 3 (ipykernel)",
   "language": "python",
   "name": "python3"
  },
  "language_info": {
   "codemirror_mode": {
    "name": "ipython",
    "version": 3
   },
   "file_extension": ".py",
   "mimetype": "text/x-python",
   "name": "python",
   "nbconvert_exporter": "python",
   "pygments_lexer": "ipython3",
   "version": "3.11.7"
  }
 },
 "nbformat": 4,
 "nbformat_minor": 5
}
